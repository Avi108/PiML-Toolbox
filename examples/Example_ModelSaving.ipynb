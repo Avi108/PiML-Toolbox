{
 "cells": [
  {
   "cell_type": "markdown",
   "metadata": {
    "id": "xdsf78IH3_c7"
   },
   "source": [
    "# PiML Toolbox: Save and Load Models\n",
    "\n",
    "This example notebook demonstrates how to use PiML to save a fitted model to pickle file and load a pickle file into PiLM workflow."
   ]
  },
  {
   "cell_type": "markdown",
   "metadata": {
    "id": "wJ7N7REOtAgN"
   },
   "source": [
    "# Install PiML package on Google Colab\n",
    "\n",
    "1. Run `!pip install piml` to install the latest version of PiML\n",
    "2. In Colab, you'll need restart the runtime in order to use newly installed PiML version."
   ]
  },
  {
   "cell_type": "code",
   "execution_count": 1,
   "metadata": {},
   "outputs": [],
   "source": [
    "!pip install piml"
   ]
  },
  {
   "cell_type": "markdown",
   "metadata": {},
   "source": [
    "# Initialize an experiment, Load and Prepare data"
   ]
  },
  {
   "cell_type": "code",
   "execution_count": 2,
   "metadata": {
    "scrolled": true
   },
   "outputs": [
    {
     "name": "stderr",
     "output_type": "stream",
     "text": [
      "D:\\anaconda\\envs\\test\\lib\\site-packages\\pkg_resources\\__init__.py:122: PkgResourcesDeprecationWarning: ml is an invalid version and will not be supported in a future release\n",
      "  warnings.warn(\n"
     ]
    }
   ],
   "source": [
    "from piml import Experiment\n",
    "exp = Experiment()\n",
    "exp.data_loader(data=\"BikeSharing\", silent=True)"
   ]
  },
  {
   "cell_type": "code",
   "execution_count": 3,
   "metadata": {
    "scrolled": true
   },
   "outputs": [
    {
     "data": {
      "application/vnd.jupyter.widget-view+json": {
       "model_id": "5e47129d6b184fa8b37ad21206560e09",
       "version_major": 2,
       "version_minor": 0
      },
      "text/plain": [
       "HTML(value='\\n        <style>\\n\\n        .left-label {\\n            width: 30%;\\n        }\\n\\n        .card-pa…"
      ]
     },
     "metadata": {},
     "output_type": "display_data"
    },
    {
     "data": {
      "application/javascript": [
       "\n",
       "        IPython.OutputArea.prototype._should_scroll = function(lines) {\n",
       "            return false;\n",
       "        }"
      ],
      "text/plain": [
       "<IPython.core.display.Javascript object>"
      ]
     },
     "metadata": {},
     "output_type": "display_data"
    }
   ],
   "source": [
    "exp.data_summary(silent=True)"
   ]
  },
  {
   "cell_type": "code",
   "execution_count": 4,
   "metadata": {},
   "outputs": [
    {
     "data": {
      "application/vnd.jupyter.widget-view+json": {
       "model_id": "aa9d18fbe7c6445097b00fdfc6991f3e",
       "version_major": 2,
       "version_minor": 0
      },
      "text/plain": [
       "HTML(value='\\n        <style>\\n\\n        .left-label {\\n            width: 30%;\\n        }\\n\\n        .card-pa…"
      ]
     },
     "metadata": {},
     "output_type": "display_data"
    },
    {
     "data": {
      "application/javascript": [
       "\n",
       "        IPython.OutputArea.prototype._should_scroll = function(lines) {\n",
       "            return false;\n",
       "        }"
      ],
      "text/plain": [
       "<IPython.core.display.Javascript object>"
      ]
     },
     "metadata": {},
     "output_type": "display_data"
    }
   ],
   "source": [
    "exp.data_prepare(silent=True)"
   ]
  },
  {
   "cell_type": "markdown",
   "metadata": {},
   "source": [
    "# Save a fitted model to pickle file"
   ]
  },
  {
   "cell_type": "code",
   "execution_count": 5,
   "metadata": {},
   "outputs": [
    {
     "data": {
      "application/vnd.jupyter.widget-view+json": {
       "model_id": "ab737d89911b414e86a66b8549e0afbb",
       "version_major": 2,
       "version_minor": 0
      },
      "text/plain": [
       "HTML(value='\\n        <style>\\n\\n        .left-label {\\n            width: 30%;\\n        }\\n\\n        .card-pa…"
      ]
     },
     "metadata": {},
     "output_type": "display_data"
    },
    {
     "data": {
      "application/javascript": [
       "\n",
       "        IPython.OutputArea.prototype._should_scroll = function(lines) {\n",
       "            return false;\n",
       "        }"
      ],
      "text/plain": [
       "<IPython.core.display.Javascript object>"
      ]
     },
     "metadata": {},
     "output_type": "display_data"
    },
    {
     "data": {
      "application/vnd.jupyter.widget-view+json": {
       "model_id": "c49cff2ba82e4f61925e3013abd5ebe5",
       "version_major": 2,
       "version_minor": 0
      },
      "text/plain": [
       "HTML(value=\"<p class='notification info'>Register XGB1 Done</p>\")"
      ]
     },
     "metadata": {},
     "output_type": "display_data"
    }
   ],
   "source": [
    "from xgboost import XGBRegressor\n",
    "exp.model_train(XGBRegressor(max_depth=1), name=\"XGB1\")"
   ]
  },
  {
   "cell_type": "code",
   "execution_count": 6,
   "metadata": {},
   "outputs": [
    {
     "data": {
      "application/vnd.jupyter.widget-view+json": {
       "model_id": "3dc6da8c056241ee824003320c732446",
       "version_major": 2,
       "version_minor": 0
      },
      "text/plain": [
       "HTML(value='\\n        <style>\\n\\n        .left-label {\\n            width: 30%;\\n        }\\n\\n        .card-pa…"
      ]
     },
     "metadata": {},
     "output_type": "display_data"
    },
    {
     "data": {
      "application/javascript": [
       "\n",
       "        IPython.OutputArea.prototype._should_scroll = function(lines) {\n",
       "            return false;\n",
       "        }"
      ],
      "text/plain": [
       "<IPython.core.display.Javascript object>"
      ]
     },
     "metadata": {},
     "output_type": "display_data"
    }
   ],
   "source": [
    "exp.model_save(model=\"XGB1\", path=\"BikeSharing-XGB.pkl\")"
   ]
  },
  {
   "cell_type": "markdown",
   "metadata": {},
   "source": [
    "# Load and register a fitted model from pickle"
   ]
  },
  {
   "cell_type": "code",
   "execution_count": 7,
   "metadata": {},
   "outputs": [
    {
     "data": {
      "application/vnd.jupyter.widget-view+json": {
       "model_id": "6cc052853d744eac84f661f55c0788ad",
       "version_major": 2,
       "version_minor": 0
      },
      "text/plain": [
       "HTML(value='\\n        <style>\\n\\n        .left-label {\\n            width: 30%;\\n        }\\n\\n        .card-pa…"
      ]
     },
     "metadata": {},
     "output_type": "display_data"
    },
    {
     "data": {
      "application/javascript": [
       "\n",
       "        IPython.OutputArea.prototype._should_scroll = function(lines) {\n",
       "            return false;\n",
       "        }"
      ],
      "text/plain": [
       "<IPython.core.display.Javascript object>"
      ]
     },
     "metadata": {},
     "output_type": "display_data"
    },
    {
     "data": {
      "application/vnd.jupyter.widget-view+json": {
       "model_id": "04e16c2e79424965a0fc64049d10fd64",
       "version_major": 2,
       "version_minor": 0
      },
      "text/plain": [
       "HTML(value=\"<p class='notification info'>Register XGB1-load Done</p>\")"
      ]
     },
     "metadata": {},
     "output_type": "display_data"
    }
   ],
   "source": [
    "pipeline = exp.make_pipeline(model=\"BikeSharing-XGB.pkl\")\n",
    "exp.register(pipeline, name=\"XGB1-load\")"
   ]
  },
  {
   "cell_type": "code",
   "execution_count": 8,
   "metadata": {},
   "outputs": [
    {
     "data": {
      "application/vnd.jupyter.widget-view+json": {
       "model_id": "d6e7e795ddb54e71bb62743c1dc58a3b",
       "version_major": 2,
       "version_minor": 0
      },
      "text/plain": [
       "HTML(value='\\n        <style>\\n\\n        .left-label {\\n            width: 30%;\\n        }\\n\\n        .card-pa…"
      ]
     },
     "metadata": {},
     "output_type": "display_data"
    },
    {
     "data": {
      "application/javascript": [
       "\n",
       "        IPython.OutputArea.prototype._should_scroll = function(lines) {\n",
       "            return false;\n",
       "        }"
      ],
      "text/plain": [
       "<IPython.core.display.Javascript object>"
      ]
     },
     "metadata": {},
     "output_type": "display_data"
    },
    {
     "data": {
      "image/png": "[encoded data removed]",
      "text/plain": [
       "<Figure size 576x432 with 1 Axes>"
      ]
     },
     "metadata": {
      "needs_background": "light"
     },
     "output_type": "display_data"
    }
   ],
   "source": [
    "exp.model_explain(model=\"XGB1-load\", show=\"pdp\", uni_feature=\"hr\")"
   ]
  }
 ],
 "metadata": {
  "kernelspec": {
   "display_name": "Python 3",
   "language": "python",
   "name": "python3"
  },
  "language_info": {
   "codemirror_mode": {
    "name": "ipython",
    "version": 3
   },
   "file_extension": ".py",
   "mimetype": "text/x-python",
   "name": "python",
   "nbconvert_exporter": "python",
   "pygments_lexer": "ipython3",
   "version": "3.9.12"
  }
 },
 "nbformat": 4,
 "nbformat_minor": 4
}
