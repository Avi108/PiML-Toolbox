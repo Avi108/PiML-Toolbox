{
  "cells": [
    {
      "cell_type": "code",
      "execution_count": null,
      "metadata": {
        "collapsed": false
      },
      "outputs": [],
      "source": [
        "%matplotlib inline"
      ]
    },
    {
      "cell_type": "markdown",
      "metadata": {},
      "source": [
        "\n# Scored Test (Regression)\nTesting External Models without Model Objects as Input\n"
      ]
    },
    {
      "cell_type": "markdown",
      "metadata": {},
      "source": [
        "Assume we have models fitted outside PiML workflow\n\n"
      ]
    },
    {
      "cell_type": "code",
      "execution_count": null,
      "metadata": {
        "collapsed": false
      },
      "outputs": [],
      "source": [
        "import numpy as np\nfrom xgboost import XGBRegressor\nfrom sklearn.datasets import fetch_california_housing\nfrom sklearn.model_selection import train_test_split\n\ndata = fetch_california_housing()\ntrain_x, test_x, train_y, test_y, train_idx, test_idx = train_test_split(data.data, data.target,\n                                                                         np.arange(data.data.shape[0]), test_size=0.2)\nxgb2 = XGBRegressor(max_depth=2, n_estimators=100)\nxgb2.fit(train_x, train_y)"
      ]
    },
    {
      "cell_type": "markdown",
      "metadata": {},
      "source": [
        "Prepare the data for testing \n\n"
      ]
    },
    {
      "cell_type": "code",
      "execution_count": null,
      "metadata": {
        "collapsed": false
      },
      "outputs": [],
      "source": [
        "x = data.data\ny = data.target\ntask_type = 'regression'\nrandom_state = 0\nfeature_names = data.feature_names\nfeature_types = [\"numerical\", \"numerical\", \"numerical\", \"numerical\" \"numerical\", \"numerical\", \"numerical\", \"numerical\"] # \"categorical\" or \"numerical\"\ntarget_name = data.target_names[0]\nprediction = xgb2.predict(x)\n\ndata_params = {'x': x,\n               'y': y,\n               'prediction': prediction,\n               'feature_names': feature_names,\n               'feature_types': feature_types,\n               'target_name': target_name,\n               'train_idx': train_idx,\n               'test_idx': test_idx,\n               'task_type': task_type,\n               'random_state': random_state}"
      ]
    },
    {
      "cell_type": "markdown",
      "metadata": {},
      "source": [
        "Show the accuracy table \n\n"
      ]
    },
    {
      "cell_type": "code",
      "execution_count": null,
      "metadata": {
        "collapsed": false
      },
      "outputs": [],
      "source": [
        "from piml.scored_test import test_accuracy_table\nres = test_accuracy_table(**data_params)"
      ]
    },
    {
      "cell_type": "markdown",
      "metadata": {},
      "source": [
        "Plot the prediction residuals against one feature of interest \n\n"
      ]
    },
    {
      "cell_type": "code",
      "execution_count": null,
      "metadata": {
        "collapsed": false
      },
      "outputs": [],
      "source": [
        "from piml.scored_test import test_accuracy_residual\nres = test_accuracy_residual(**data_params, show_feature='MedInc', figsize=(6, 5))"
      ]
    },
    {
      "cell_type": "markdown",
      "metadata": {},
      "source": [
        "Run weakspot test to detect weak regions\n\n"
      ]
    },
    {
      "cell_type": "code",
      "execution_count": null,
      "metadata": {
        "collapsed": false
      },
      "outputs": [],
      "source": [
        "from piml.scored_test import test_weakspot\nres = test_weakspot(**data_params, slice_features=['MedInc'], figsize=(6, 5))"
      ]
    },
    {
      "cell_type": "markdown",
      "metadata": {},
      "source": [
        "Run overfit test to detect overfit regions\n\n"
      ]
    },
    {
      "cell_type": "code",
      "execution_count": null,
      "metadata": {
        "collapsed": false
      },
      "outputs": [],
      "source": [
        "from piml.scored_test import test_overfit\nres = test_overfit(**data_params, slice_features=['MedInc'], figsize=(6, 5))"
      ]
    },
    {
      "cell_type": "markdown",
      "metadata": {},
      "source": [
        "Run reliability test to show the average coverage of prediction intervals \n\n"
      ]
    },
    {
      "cell_type": "code",
      "execution_count": null,
      "metadata": {
        "collapsed": false
      },
      "outputs": [],
      "source": [
        "from piml.scored_test import test_reliability_table\nres = test_reliability_table(**data_params, alpha=0.1)"
      ]
    },
    {
      "cell_type": "markdown",
      "metadata": {},
      "source": [
        "Run reliability test to show the distributional distance between reliable and unreliable samples. \n\n"
      ]
    },
    {
      "cell_type": "code",
      "execution_count": null,
      "metadata": {
        "collapsed": false
      },
      "outputs": [],
      "source": [
        "from piml.scored_test import test_reliability_distance\nres = test_reliability_distance(**data_params, alpha=0.1, threshold=1.1, figsize=(6, 5))"
      ]
    },
    {
      "cell_type": "markdown",
      "metadata": {},
      "source": [
        "Run reliability test to show relationship between prediction interval width and the feature of interest \n\n"
      ]
    },
    {
      "cell_type": "code",
      "execution_count": null,
      "metadata": {
        "collapsed": false
      },
      "outputs": [],
      "source": [
        "from piml.scored_test import test_reliability_marginal\nres = test_reliability_marginal(**data_params, alpha=0.1, threshold=1.1, show_feature='MedInc',\n                                bins=10, figsize=(6, 5))"
      ]
    },
    {
      "cell_type": "markdown",
      "metadata": {},
      "source": [
        "Run resilience test to show how model performance changes under distributional shift.\n\n"
      ]
    },
    {
      "cell_type": "code",
      "execution_count": null,
      "metadata": {
        "collapsed": false
      },
      "outputs": [],
      "source": [
        "from piml.scored_test import test_resilience_perf\nres = test_resilience_perf(**data_params, figsize=(6, 5))"
      ]
    },
    {
      "cell_type": "markdown",
      "metadata": {},
      "source": [
        "Run resilience test to show the distributional distance between worst samples and remaining samples.\n\n"
      ]
    },
    {
      "cell_type": "code",
      "execution_count": null,
      "metadata": {
        "collapsed": false
      },
      "outputs": [],
      "source": [
        "from piml.scored_test import test_resilience_distance\nres = test_resilience_distance(**data_params, figsize=(6, 5))"
      ]
    },
    {
      "cell_type": "markdown",
      "metadata": {},
      "source": [
        "Run resilience test to show how model performance changes under distributional shift (density plot).\n\n"
      ]
    },
    {
      "cell_type": "code",
      "execution_count": null,
      "metadata": {
        "collapsed": false
      },
      "outputs": [],
      "source": [
        "from piml.scored_test import test_resilience_shift_density\nres = test_resilience_shift_density(**data_params, alpha=0.3, metric='MAE', show_feature='MedInc',\n                                    figsize=(6, 5))"
      ]
    },
    {
      "cell_type": "markdown",
      "metadata": {},
      "source": [
        "Run resilience test to show how model performance changes under distributional shift (histogram plot).\n\n"
      ]
    },
    {
      "cell_type": "code",
      "execution_count": null,
      "metadata": {
        "collapsed": false
      },
      "outputs": [],
      "source": [
        "from piml.scored_test import test_resilience_shift_histogram\nres = test_resilience_shift_histogram(**data_params, alpha=0.3, metric='MAE', show_feature='MedInc')"
      ]
    }
  ],
  "metadata": {
    "kernelspec": {
      "display_name": "Python 3",
      "language": "python",
      "name": "python3"
    },
    "language_info": {
      "codemirror_mode": {
        "name": "ipython",
        "version": 3
      },
      "file_extension": ".py",
      "mimetype": "text/x-python",
      "name": "python",
      "nbconvert_exporter": "python",
      "pygments_lexer": "ipython3",
      "version": "3.9.12"
    }
  },
  "nbformat": 4,
  "nbformat_minor": 0
}