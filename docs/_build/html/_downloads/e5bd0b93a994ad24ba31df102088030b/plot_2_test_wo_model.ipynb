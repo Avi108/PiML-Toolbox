{
  "cells": [
    {
      "cell_type": "code",
      "execution_count": null,
      "metadata": {
        "collapsed": false
      },
      "outputs": [],
      "source": [
        "%matplotlib inline"
      ]
    },
    {
      "cell_type": "markdown",
      "metadata": {},
      "source": [
        "\n# Testing External Models without Model Objects as Input\n"
      ]
    },
    {
      "cell_type": "markdown",
      "metadata": {},
      "source": [
        "Assume we have models fitted outside PiML workflow\n\n"
      ]
    },
    {
      "cell_type": "code",
      "execution_count": null,
      "metadata": {
        "collapsed": false
      },
      "outputs": [],
      "source": [
        "import numpy as np\nfrom xgboost import XGBRegressor\nfrom sklearn.datasets import fetch_california_housing\nfrom sklearn.model_selection import train_test_split\n\ntask_type = 'Regression'\ndata = fetch_california_housing()\ntrain_x, test_x, train_y, test_y, train_idx, test_idx = train_test_split(data.data, data.target,\n                                                                         np.arange(data.data.shape[0]), test_size=0.2)\nfeature_names = data.feature_names\ntarget_name = data.target_names[0]\n\nxgb2 = XGBRegressor(max_depth=2, n_estimators=100)\nxgb2.fit(train_x, train_y)"
      ]
    },
    {
      "cell_type": "markdown",
      "metadata": {},
      "source": [
        "Prepare model prediction and necessary data information\n\n"
      ]
    },
    {
      "cell_type": "code",
      "execution_count": null,
      "metadata": {
        "collapsed": false
      },
      "outputs": [],
      "source": [
        "data_dict = {'x': data.data,\n             'y': data.target,\n             'prediction': xgb2.predict(data.data),\n             'feature_names': feature_names,\n             'target_name': target_name,\n             'train_idx': train_idx,\n             'test_idx': test_idx}"
      ]
    },
    {
      "cell_type": "markdown",
      "metadata": {},
      "source": [
        "Show the accuracy table \n\n"
      ]
    },
    {
      "cell_type": "code",
      "execution_count": null,
      "metadata": {
        "collapsed": false
      },
      "outputs": [],
      "source": [
        "from piml.scored_test import test_accuracy\ndf = test_accuracy(**data_dict, task_type=task_type)"
      ]
    },
    {
      "cell_type": "markdown",
      "metadata": {},
      "source": [
        "Plot the prediction residuals against one feature of interest \n\n"
      ]
    },
    {
      "cell_type": "code",
      "execution_count": null,
      "metadata": {
        "collapsed": false
      },
      "outputs": [],
      "source": [
        "from piml.scored_test import residual_plot\nresult, fig = residual_plot(**data_dict, task_type=task_type, show_feature='MedInc')"
      ]
    },
    {
      "cell_type": "markdown",
      "metadata": {},
      "source": [
        "Run weakspot test to detect weak regions\n\n"
      ]
    },
    {
      "cell_type": "code",
      "execution_count": null,
      "metadata": {
        "collapsed": false
      },
      "outputs": [],
      "source": [
        "from piml.scored_test import slicing_weakspot\nresult, fig = slicing_weakspot(**data_dict, task_type=task_type, slice_features=['MedInc'])"
      ]
    },
    {
      "cell_type": "markdown",
      "metadata": {},
      "source": [
        "Run overfit test to detect overfit regions\n\n"
      ]
    },
    {
      "cell_type": "code",
      "execution_count": null,
      "metadata": {
        "collapsed": false
      },
      "outputs": [],
      "source": [
        "from piml.scored_test import slicing_overfit\nresult, fig = slicing_overfit(**data_dict, task_type=task_type, slice_method=\"histogram\", slice_features=['MedInc'])"
      ]
    },
    {
      "cell_type": "markdown",
      "metadata": {},
      "source": [
        "Run reliability test to show relationship between prediction uncertainty and feature of interest \n\n"
      ]
    },
    {
      "cell_type": "code",
      "execution_count": null,
      "metadata": {
        "collapsed": false
      },
      "outputs": [],
      "source": [
        "from piml.scored_test import slicing_reliability\nresult, fig = slicing_reliability(**data_dict, task_type=task_type, slice_features=['MedInc'])"
      ]
    },
    {
      "cell_type": "markdown",
      "metadata": {},
      "source": [
        "Run resilience test to show how model performance changes under distributional shift.\n\n"
      ]
    },
    {
      "cell_type": "code",
      "execution_count": null,
      "metadata": {
        "collapsed": false
      },
      "outputs": [],
      "source": [
        "from piml.scored_test import test_resilience\nresult, fig = test_resilience(**data_dict, task_type=task_type)"
      ]
    },
    {
      "cell_type": "markdown",
      "metadata": {},
      "source": [
        "We can calculate the distributional difference between good regions and bad regions, e.g. the weak regions and the rest. Similarly, such plot can also be used for other tests, like overfit, reliablity, etc. \n\n"
      ]
    },
    {
      "cell_type": "code",
      "execution_count": null,
      "metadata": {
        "collapsed": false
      },
      "outputs": [],
      "source": [
        "from piml.scored_test import two_sample_distance_weakspot\nresult, fig = two_sample_distance_weakspot(**data_dict, task_type=task_type, slice_features=['MedInc'], figsize=(6, 5))"
      ]
    },
    {
      "cell_type": "markdown",
      "metadata": {},
      "source": [
        "The distributional difference density plot. Similarly, such plot can also be used for other tests, like overfit, reliablity, etc. \n\n"
      ]
    },
    {
      "cell_type": "code",
      "execution_count": null,
      "metadata": {
        "collapsed": false
      },
      "outputs": [],
      "source": [
        "from piml.scored_test import marginal_shift_weakspot\nresult, fig = marginal_shift_weakspot(**data_dict, task_type=task_type, slice_features=['MedInc'],\n                                       plot_type='density', show_feature='MedInc', figsize=(6, 5))"
      ]
    }
  ],
  "metadata": {
    "kernelspec": {
      "display_name": "Python 3",
      "language": "python",
      "name": "python3"
    },
    "language_info": {
      "codemirror_mode": {
        "name": "ipython",
        "version": 3
      },
      "file_extension": ".py",
      "mimetype": "text/x-python",
      "name": "python",
      "nbconvert_exporter": "python",
      "pygments_lexer": "ipython3",
      "version": "3.9.12"
    }
  },
  "nbformat": 4,
  "nbformat_minor": 0
}