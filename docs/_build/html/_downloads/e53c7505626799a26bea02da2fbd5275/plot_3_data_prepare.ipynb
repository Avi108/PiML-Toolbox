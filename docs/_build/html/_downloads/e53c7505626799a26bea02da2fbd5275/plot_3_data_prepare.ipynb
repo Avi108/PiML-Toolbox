{
  "cells": [
    {
      "cell_type": "code",
      "execution_count": null,
      "metadata": {
        "collapsed": false
      },
      "outputs": [],
      "source": [
        "%matplotlib inline"
      ]
    },
    {
      "cell_type": "markdown",
      "metadata": {},
      "source": [
        "\n# Data Preparation\n\nDisplay data prepare result using the BikeSharing dataset as example.\n"
      ]
    },
    {
      "cell_type": "markdown",
      "metadata": {},
      "source": [
        "Experiment initialization and data preparation\n\n"
      ]
    },
    {
      "cell_type": "code",
      "execution_count": null,
      "metadata": {
        "collapsed": false
      },
      "outputs": [],
      "source": [
        "from piml import Experiment\n\nexp = Experiment()\nexp.data_loader(data=\"BikeSharing\", silent=True)\n\nexp.data_prepare(target='cnt', task_type='Regression', sample_weight=None,\n                       split_method='random', test_ratio=0.2, random_state=0)\n\nimport numpy as np\ncustom_train_idx = np.arange(0,16000)\ncustom_test_idx = np.arange(16000, 17379)\nexp.data_prepare(train_idx=custom_train_idx, test_idx=custom_test_idx)"
      ]
    }
  ],
  "metadata": {
    "kernelspec": {
      "display_name": "Python 3",
      "language": "python",
      "name": "python3"
    },
    "language_info": {
      "codemirror_mode": {
        "name": "ipython",
        "version": 3
      },
      "file_extension": ".py",
      "mimetype": "text/x-python",
      "name": "python",
      "nbconvert_exporter": "python",
      "pygments_lexer": "ipython3",
      "version": "3.9.12"
    }
  },
  "nbformat": 4,
  "nbformat_minor": 0
}