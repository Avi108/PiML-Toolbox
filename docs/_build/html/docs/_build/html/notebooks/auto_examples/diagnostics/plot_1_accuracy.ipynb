{
  "cells": [
    {
      "cell_type": "code",
      "execution_count": null,
      "metadata": {
        "collapsed": false
      },
      "outputs": [],
      "source": [
        "%matplotlib inline"
      ]
    },
    {
      "cell_type": "markdown",
      "metadata": {},
      "source": [
        "\n# Accuracy:  Regression \n\nModel evaluation\n"
      ]
    },
    {
      "cell_type": "markdown",
      "metadata": {},
      "source": [
        "Imports\n\n"
      ]
    },
    {
      "cell_type": "code",
      "execution_count": null,
      "metadata": {
        "collapsed": false
      },
      "outputs": [],
      "source": [
        "from piml import Experiment\nfrom piml.models import FIGSRegressor\nfrom piml.models import ReluDNNRegressor"
      ]
    },
    {
      "cell_type": "markdown",
      "metadata": {},
      "source": [
        "Data preparation and model instantiation\n\n"
      ]
    },
    {
      "cell_type": "code",
      "execution_count": null,
      "metadata": {
        "collapsed": false
      },
      "outputs": [],
      "source": [
        "exp=Experiment()\nexp.data_loader(data=\"BikeSharing\")\nexp.data_prepare(target='cnt', task_type='Regression')\ntrain_x , train_y,_ = exp.get_data(train= True)\ntest_x , test_y,_= exp.get_data(test=True)\nfeature_names = exp.get_feature_names()\ntarget_names = exp.get_target_name()\nmodel_A = FIGSRegressor(max_iter=100)\nmodel_B = ReluDNNRegressor(hidden_layer_sizes=(20, 30), batch_size=1000,\n                           learning_rate=0.001)\n\nexp.model_train(model=model_A, name=\"FIGS\")\nexp.model_train(model=model_B, name=\"ReluDNN\")"
      ]
    },
    {
      "cell_type": "markdown",
      "metadata": {},
      "source": [
        "Model performance based on MSE.\n\n"
      ]
    },
    {
      "cell_type": "code",
      "execution_count": null,
      "metadata": {
        "collapsed": false
      },
      "outputs": [],
      "source": [
        "exp.model_diagnose(model=\"ReluDNN\", show='accuracy_table')"
      ]
    },
    {
      "cell_type": "markdown",
      "metadata": {},
      "source": [
        "Compare models' performance based on MSE.\n\n"
      ]
    },
    {
      "cell_type": "code",
      "execution_count": null,
      "metadata": {
        "collapsed": false
      },
      "outputs": [],
      "source": [
        "exp.model_compare(models=[\"FIGS\",\"ReluDNN\"], show='accuracy_plot', metric=\"MSE\", figsize=(5,4))"
      ]
    },
    {
      "cell_type": "markdown",
      "metadata": {},
      "source": [
        "Compare models' performance based on R-squared.\n\n"
      ]
    },
    {
      "cell_type": "code",
      "execution_count": null,
      "metadata": {
        "collapsed": false
      },
      "outputs": [],
      "source": [
        "exp.model_compare(models=[\"FIGS\",\"ReluDNN\"], show='accuracy_plot',  metric=\"R2\", figsize=(5,4))"
      ]
    }
  ],
  "metadata": {
    "kernelspec": {
      "display_name": "Python 3",
      "language": "python",
      "name": "python3"
    },
    "language_info": {
      "codemirror_mode": {
        "name": "ipython",
        "version": 3
      },
      "file_extension": ".py",
      "mimetype": "text/x-python",
      "name": "python",
      "nbconvert_exporter": "python",
      "pygments_lexer": "ipython3",
      "version": "3.9.12"
    }
  },
  "nbformat": 4,
  "nbformat_minor": 0
}