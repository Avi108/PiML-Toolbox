{
 "cells": [
  {
   "cell_type": "code",
   "execution_count": null,
   "id": "d448c09d",
   "metadata": {},
   "outputs": [],
   "source": [
    "exp.model_diagnose(model=\"XGB2\", show=\"reliability_table\", alpha=0.1)"
   ]
  },
  {
   "cell_type": "code",
   "execution_count": null,
   "id": "ef6ce0d8",
   "metadata": {},
   "outputs": [],
   "source": [
    "exp.model_diagnose(model=\"XGB2\", show=\"reliability_distance\", alpha=0.1,\n",
    "                   threshold=1.1, distance_metric=\"PSI\", figsize=(5, 4))"
   ]
  },
  {
   "cell_type": "code",
   "execution_count": null,
   "id": "a3f1ec0a",
   "metadata": {},
   "outputs": [],
   "source": [
    "exp.model_diagnose(model=\"XGB2\", show=\"reliability_marginal\", alpha=0.1,\n",
    "                   show_feature=\"hr\", bins=10, threshold=1.1,\n",
    "                   original_scale=True, figsize=(5, 4))"
   ]
  },
  {
   "cell_type": "code",
   "execution_count": null,
   "id": "79682b3d",
   "metadata": {},
   "outputs": [],
   "source": [
    "exp.model_diagnose(model=\"XGB2\", show=\"reliability_distance\",\n",
    "                   threshold=1.1, distance_metric=\"PSI\", figsize=(5, 4))"
   ]
  },
  {
   "cell_type": "code",
   "execution_count": null,
   "id": "172f85c6",
   "metadata": {},
   "outputs": [],
   "source": [
    "exp.model_diagnose(model=\"GAM\", show=\"reliability_marginal\",\n",
    "                   show_feature=\"PAY_1\", bins=10, threshold=1.1, figsize=(5, 4))"
   ]
  },
  {
   "cell_type": "code",
   "execution_count": null,
   "id": "655c7ecd",
   "metadata": {},
   "outputs": [],
   "source": [
    "exp.model_diagnose(model=\"GAM\", show=\"reliability_calibration\", figsize=(5, 4))"
   ]
  },
  {
   "cell_type": "code",
   "execution_count": null,
   "id": "09d13d6a",
   "metadata": {},
   "outputs": [],
   "source": [
    "exp.model_diagnose(model=\"GAM\", show=\"reliability_perf\", figsize=(5, 4))"
   ]
  },
  {
   "cell_type": "code",
   "execution_count": null,
   "id": "5636217c",
   "metadata": {},
   "outputs": [],
   "source": [
    "results = exp.model_diagnose(model=\"GAM\", show=\"reliability_table\", return_data=True)\n",
    "results.data"
   ]
  }
 ],
 "metadata": {
  "kernelspec": {
   "display_name": "Python 3",
   "language": "python",
   "name": "python3"
  },
  "language_info": {
   "codemirror_mode": {
    "name": "ipython",
    "version": 3
   },
   "file_extension": ".py",
   "mimetype": "text/x-python",
   "name": "python",
   "nbconvert_exporter": "python",
   "pygments_lexer": "ipython3",
   "version": "3.9.12"
  }
 },
 "nbformat": 4,
 "nbformat_minor": 5
}