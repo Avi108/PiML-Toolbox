{
 "cells": [
  {
   "cell_type": "code",
   "execution_count": null,
   "id": "a388c968",
   "metadata": {},
   "outputs": [],
   "source": [
    "exp.model_diagnose(model=\"XGB2\", show=\"reliability_table\", alpha=0.1)"
   ]
  },
  {
   "cell_type": "code",
   "execution_count": null,
   "id": "d366b4ca",
   "metadata": {},
   "outputs": [],
   "source": [
    "exp.model_diagnose(model=\"XGB2\", show=\"reliability_distance\", alpha=0.1,\n",
    "                   threshold=1.1, distance_metric=\"PSI\", figsize=(5, 4))"
   ]
  },
  {
   "cell_type": "code",
   "execution_count": null,
   "id": "341f1811",
   "metadata": {},
   "outputs": [],
   "source": [
    "exp.model_diagnose(model=\"XGB2\", show=\"reliability_marginal\", alpha=0.1,\n",
    "                   target_feature=\"hr\", bins=10, threshold=1.1,\n",
    "                   original_scale=True, figsize=(5, 4))"
   ]
  },
  {
   "cell_type": "code",
   "execution_count": null,
   "id": "9f979c6c",
   "metadata": {},
   "outputs": [],
   "source": [
    "exp.model_diagnose(model=\"XGB2\", show=\"reliability_distance\",\n",
    "                   threshold=1.1, distance_metric=\"PSI\", figsize=(5, 4))"
   ]
  },
  {
   "cell_type": "code",
   "execution_count": null,
   "id": "2a22b04d",
   "metadata": {},
   "outputs": [],
   "source": [
    "exp.model_diagnose(model=\"GAM\", show=\"reliability_marginal\",\n",
    "                  target_feature=\"PAY_1\", bins=10, threshold=1.1, figsize=(5, 4))"
   ]
  },
  {
   "cell_type": "code",
   "execution_count": null,
   "id": "202638f5",
   "metadata": {},
   "outputs": [],
   "source": [
    "exp.model_diagnose(model=\"GAM\", show=\"reliability_calibration\", figsize=(5, 4))"
   ]
  },
  {
   "cell_type": "code",
   "execution_count": null,
   "id": "6d0be07e",
   "metadata": {},
   "outputs": [],
   "source": [
    "exp.model_diagnose(model=\"GAM\", show=\"reliability_perf\", figsize=(5, 4))"
   ]
  },
  {
   "cell_type": "code",
   "execution_count": null,
   "id": "6e3b2511",
   "metadata": {},
   "outputs": [],
   "source": [
    "results = exp.model_diagnose(model=\"GAM\", show=\"reliability_table\", return_data=True)\n",
    "results.data"
   ]
  }
 ],
 "metadata": {
  "kernelspec": {
   "display_name": "Python 3",
   "language": "python",
   "name": "python3"
  },
  "language_info": {
   "codemirror_mode": {
    "name": "ipython",
    "version": 3
   },
   "file_extension": ".py",
   "mimetype": "text/x-python",
   "name": "python",
   "nbconvert_exporter": "python",
   "pygments_lexer": "ipython3",
   "version": "3.9.12"
  }
 },
 "nbformat": 4,
 "nbformat_minor": 5
}