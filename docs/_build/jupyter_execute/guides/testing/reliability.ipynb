{
 "cells": [
  {
   "cell_type": "code",
   "execution_count": null,
   "id": "74c4c85a",
   "metadata": {},
   "outputs": [],
   "source": [
    "exp.model_diagnose(model=\"XGB2\", show=\"reliability_table\", alpha=0.1)"
   ]
  },
  {
   "cell_type": "code",
   "execution_count": null,
   "id": "af72bd83",
   "metadata": {},
   "outputs": [],
   "source": [
    "exp.model_diagnose(model=\"XGB2\", show=\"reliability_distance\", alpha=0.1,\n",
    "                   threshold=1.1, distance_metric=\"PSI\", figsize=(5, 4))"
   ]
  },
  {
   "cell_type": "code",
   "execution_count": null,
   "id": "13b8d4fb",
   "metadata": {},
   "outputs": [],
   "source": [
    "exp.model_diagnose(model=\"XGB2\", show=\"reliability_marginal\", alpha=0.1,\n",
    "                   target_feature=\"hr\", bins=10, threshold=1.1,\n",
    "                   original_scale=True, figsize=(5, 4))"
   ]
  },
  {
   "cell_type": "code",
   "execution_count": null,
   "id": "0690cbff",
   "metadata": {},
   "outputs": [],
   "source": [
    "exp.model_diagnose(model=\"XGB2\", show=\"reliability_distance\",\n",
    "                   threshold=1.1, distance_metric=\"PSI\", figsize=(5, 4))"
   ]
  },
  {
   "cell_type": "code",
   "execution_count": null,
   "id": "84505fe4",
   "metadata": {},
   "outputs": [],
   "source": [
    "exp.model_diagnose(model=\"GAM\", show=\"reliability_marginal\",\n",
    "                  target_feature=\"PAY_1\", bins=10, threshold=1.1, figsize=(5, 4))"
   ]
  },
  {
   "cell_type": "code",
   "execution_count": null,
   "id": "587bdb67",
   "metadata": {},
   "outputs": [],
   "source": [
    "exp.model_diagnose(model=\"GAM\", show=\"reliability_calibration\", figsize=(5, 4))"
   ]
  },
  {
   "cell_type": "code",
   "execution_count": null,
   "id": "62ed2216",
   "metadata": {},
   "outputs": [],
   "source": [
    "exp.model_diagnose(model=\"GAM\", show=\"reliability_perf\", figsize=(5, 4))"
   ]
  },
  {
   "cell_type": "code",
   "execution_count": null,
   "id": "21fcafc2",
   "metadata": {},
   "outputs": [],
   "source": [
    "results = exp.model_diagnose(model=\"GAM\", show=\"reliability_table\", return_data=True)\n",
    "results.data"
   ]
  }
 ],
 "metadata": {
  "kernelspec": {
   "display_name": "Python 3 (ipykernel)",
   "language": "python",
   "name": "python3"
  },
  "language_info": {
   "codemirror_mode": {
    "name": "ipython",
    "version": 3
   },
   "file_extension": ".py",
   "mimetype": "text/x-python",
   "name": "python",
   "nbconvert_exporter": "python",
   "pygments_lexer": "ipython3",
   "version": "3.10.11"
  }
 },
 "nbformat": 4,
 "nbformat_minor": 5
}