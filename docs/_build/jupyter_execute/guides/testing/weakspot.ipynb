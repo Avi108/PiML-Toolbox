{
 "cells": [
  {
   "cell_type": "code",
   "execution_count": null,
   "id": "4ff6c678",
   "metadata": {},
   "outputs": [],
   "source": [
    "results = exp.model_diagnose(model=\"XGB2\", show=\"weakspot\", slice_method=\"histogram\",\n",
    "                        slice_features=[\"PAY_1\"], threshold=1.1, min_samples=100, metric=\"ACC\",\n",
    "                        use_test=True, return_data=True, original_scale=True, figsize=(5, 4))"
   ]
  },
  {
   "cell_type": "code",
   "execution_count": null,
   "id": "5187ee9b",
   "metadata": {},
   "outputs": [],
   "source": [
    "results.data"
   ]
  },
  {
   "cell_type": "code",
   "execution_count": null,
   "id": "4b60a92b",
   "metadata": {},
   "outputs": [],
   "source": [
    "results = exp.model_diagnose(model=\"XGB2\", show=\"weakspot\", slice_method=\"histogram\",\n",
    "                       slice_features=[\"PAY_1\", \"PAY_2\"], threshold=1.1, min_samples=100, metric=\"ACC\",\n",
    "                       use_test=True, return_data=True, original_scale=True, figsize=(5, 4))"
   ]
  },
  {
   "cell_type": "code",
   "execution_count": null,
   "id": "d41b586a",
   "metadata": {},
   "outputs": [],
   "source": [
    "results.data"
   ]
  }
 ],
 "metadata": {
  "kernelspec": {
   "display_name": "Python 3 (ipykernel)",
   "language": "python",
   "name": "python3"
  },
  "language_info": {
   "codemirror_mode": {
    "name": "ipython",
    "version": 3
   },
   "file_extension": ".py",
   "mimetype": "text/x-python",
   "name": "python",
   "nbconvert_exporter": "python",
   "pygments_lexer": "ipython3",
   "version": "3.10.11"
  }
 },
 "nbformat": 4,
 "nbformat_minor": 5
}