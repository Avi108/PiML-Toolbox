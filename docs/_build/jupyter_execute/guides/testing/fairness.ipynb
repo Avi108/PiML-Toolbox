{
 "cells": [
  {
   "cell_type": "code",
   "execution_count": null,
   "id": "5450bc59",
   "metadata": {},
   "outputs": [],
   "source": [
    "metrics_result = exp.model_fairness(model=\"XGB2_monotonic\", show=\"metrics\", metric=\"AIR\", group_category=[\"Race\",\"Gender\"], reference_group=[1., 1.], protected_group=[0., 0.], favorable_threshold=0.5,\n",
    "figsize=(6, 4), return_data=True)"
   ]
  },
  {
   "cell_type": "code",
   "execution_count": null,
   "id": "7d00e303",
   "metadata": {},
   "outputs": [],
   "source": [
    "segmented_result = exp.model_fairness(model=\"XGB2_monotonic\", show=\"segmented\", metric=\"AIR\", segmented_feature=\"Balance\",\n",
    "                                      group_category=[\"Race\",\"Gender\"], reference_group=[1., 1.], protected_group=[0., 0.], segmented_bins=5,\n",
    "                                      favorable_threshold=0.5, return_data=True, figsize=(8, 4))"
   ]
  },
  {
   "cell_type": "code",
   "execution_count": null,
   "id": "147f1a5f",
   "metadata": {},
   "outputs": [],
   "source": [
    "binning_dict = {\"Balance\": {\"type\": \"quantile\", \"value\": [1, 5]},\n",
    "                \"Mortgage\": {\"type\": \"uniform\", \"value\": [1, 5]},\n",
    "                \"Amount Past Due\": {\"type\": \"custom\", \"value\": (0, 100)}}\n",
    "binning_result = exp.model_fairness(model=\"XGB2_monotonic\", show=\"binning\", metric=\"AIR\", group_category=[\"Race\",\"Gender\"],\n",
    "                                 reference_group=[1., 1.], protected_group=[0., 0.], favorable_threshold=0.5,\n",
    "                                 performance_metric=\"F1\", binning_dict=binning_dict, return_data=True, figsize=(8,4))"
   ]
  },
  {
   "cell_type": "code",
   "execution_count": null,
   "id": "459ef913",
   "metadata": {},
   "outputs": [],
   "source": [
    "thresholding_result = exp.model_fairness(model=\"XGB2_monotonic\", show=\"thresholding\", metric=\"AIR\",\n",
    "                                         group_category=[\"Race\",\"Gender\"],\n",
    "                                         reference_group=[1., 1.], protected_group=[0., 0.],\n",
    "                                         favorable_threshold=0.32, performance_metric=\"ACC\",\n",
    "                                         return_data=True)"
   ]
  }
 ],
 "metadata": {
  "kernelspec": {
   "display_name": "Python 3 (ipykernel)",
   "language": "python",
   "name": "python3"
  },
  "language_info": {
   "codemirror_mode": {
    "name": "ipython",
    "version": 3
   },
   "file_extension": ".py",
   "mimetype": "text/x-python",
   "name": "python",
   "nbconvert_exporter": "python",
   "pygments_lexer": "ipython3",
   "version": "3.10.11"
  }
 },
 "nbformat": 4,
 "nbformat_minor": 5
}