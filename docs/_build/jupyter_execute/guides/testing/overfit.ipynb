{
 "cells": [
  {
   "cell_type": "code",
   "execution_count": null,
   "id": "1aa7f612",
   "metadata": {},
   "outputs": [],
   "source": [
    "results = exp.model_diagnose(model=\"XGB2\", show=\"overfit\", slice_method=\"histogram\",\n",
    "                           slice_features=[\"hr\"], threshold=1.05, min_samples=100,\n",
    "                           original_scale=True, return_data=True, figsize=(5, 4))"
   ]
  },
  {
   "cell_type": "code",
   "execution_count": null,
   "id": "afea62b7",
   "metadata": {},
   "outputs": [],
   "source": [
    "results.data"
   ]
  },
  {
   "cell_type": "code",
   "execution_count": null,
   "id": "455d2a83",
   "metadata": {},
   "outputs": [],
   "source": [
    "results=exp.model_diagnose(model=\"XGB2\", show=\"overfit\", slice_method=\"tree\",\n",
    "                           slice_features=[\"hr\", \"atemp\"], threshold=1.05, min_samples=100,\n",
    "                           original_scale=True, return_data=True, figsize=(5, 4))"
   ]
  },
  {
   "cell_type": "code",
   "execution_count": null,
   "id": "d4f39b1e",
   "metadata": {},
   "outputs": [],
   "source": [
    "results.data"
   ]
  }
 ],
 "metadata": {
  "kernelspec": {
   "display_name": "Python 3",
   "language": "python",
   "name": "python3"
  },
  "language_info": {
   "codemirror_mode": {
    "name": "ipython",
    "version": 3
   },
   "file_extension": ".py",
   "mimetype": "text/x-python",
   "name": "python",
   "nbconvert_exporter": "python",
   "pygments_lexer": "ipython3",
   "version": "3.9.12"
  }
 },
 "nbformat": 4,
 "nbformat_minor": 5
}