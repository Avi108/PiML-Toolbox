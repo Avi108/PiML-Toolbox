{
 "cells": [
  {
   "cell_type": "code",
   "execution_count": null,
   "id": "9e76edeb",
   "metadata": {},
   "outputs": [],
   "source": [
    "exp.model_diagnose(model=\"XGB2\", show=\"resilience_perf\", resilience_method=\"worst-sample\",\n",
    "              metric=\"AUC\", figsize=(5, 4))"
   ]
  },
  {
   "cell_type": "code",
   "execution_count": null,
   "id": "3ef71314",
   "metadata": {},
   "outputs": [],
   "source": [
    "exp.model_diagnose(model=\"XGB2\", show=\"resilience_perf\", resilience_method=\"hard-sample\",\n",
    "              metric=\"AUC\", figsize=(5, 4))"
   ]
  },
  {
   "cell_type": "code",
   "execution_count": null,
   "id": "7ee91e23",
   "metadata": {},
   "outputs": [],
   "source": [
    "exp.model_diagnose(model=\"XGB2\", show=\"resilience_perf\", resilience_method=\"outer-sample\",\n",
    "              metric=\"AUC\", figsize=(5, 4))"
   ]
  },
  {
   "cell_type": "code",
   "execution_count": null,
   "id": "930adedc",
   "metadata": {},
   "outputs": [],
   "source": [
    "exp.model_diagnose(model=\"XGB2\", show=\"resilience_perf\", resilience_method=\"worst-cluster\",\n",
    "              metric=\"AUC\", figsize=(5, 4))"
   ]
  },
  {
   "cell_type": "code",
   "execution_count": null,
   "id": "e5a1c58f",
   "metadata": {},
   "outputs": [],
   "source": [
    "exp.model_diagnose(model=\"XGB2\", show=\"resilience_distance\", resilience_method=\"worst-sample\",\n",
    "                   distance_metric=\"PSI\", alpha=0.3, figsize=(5, 4))"
   ]
  },
  {
   "cell_type": "code",
   "execution_count": null,
   "id": "4f86e358",
   "metadata": {},
   "outputs": [],
   "source": [
    "exp.model_diagnose(model=\"XGB2\", show=\"resilience_distance\", resilience_method=\"worst-sample\",\n",
    "                   distance_metric=\"PSI\", immu_feature=\"PAY_1\", alpha=0.3, figsize=(5, 4))"
   ]
  },
  {
   "cell_type": "code",
   "execution_count": null,
   "id": "06be2707",
   "metadata": {},
   "outputs": [],
   "source": [
    "exp.model_diagnose(model=\"XGB2\", show=\"resilience_distance\", resilience_method=\"worst-cluster\",\n",
    "                   distance_metric=\"WD1\", n_clusters=10, figsize=(5, 4))"
   ]
  },
  {
   "cell_type": "code",
   "execution_count": null,
   "id": "81188644",
   "metadata": {},
   "outputs": [],
   "source": [
    "exp.model_diagnose(model=\"XGB2\", show=\"resilience_shift_density\",\n",
    "                                target_feature=\"Pay_1\", original_scale=True, figsize=(5, 4))"
   ]
  },
  {
   "cell_type": "code",
   "execution_count": null,
   "id": "c8207ba6",
   "metadata": {},
   "outputs": [],
   "source": [
    "exp.model_diagnose(model=\"XGB2\", show=\"resilience_shift_histogram\",\n",
    "                                target_feature=\"Pay_1\", original_scale=True, figsize=(5, 4))"
   ]
  }
 ],
 "metadata": {
  "kernelspec": {
   "display_name": "Python 3 (ipykernel)",
   "language": "python",
   "name": "python3"
  },
  "language_info": {
   "codemirror_mode": {
    "name": "ipython",
    "version": 3
   },
   "file_extension": ".py",
   "mimetype": "text/x-python",
   "name": "python",
   "nbconvert_exporter": "python",
   "pygments_lexer": "ipython3",
   "version": "3.10.11"
  }
 },
 "nbformat": 4,
 "nbformat_minor": 5
}