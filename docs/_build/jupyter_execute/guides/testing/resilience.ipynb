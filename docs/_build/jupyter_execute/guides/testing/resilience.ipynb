{
 "cells": [
  {
   "cell_type": "code",
   "execution_count": null,
   "id": "1777e53b",
   "metadata": {},
   "outputs": [],
   "source": [
    "exp.model_diagnose(model=\"XGB2\", show=\"resilience_perf\", resilience_method=\"worst-sample\",\n",
    "                   metric=\"AUC\", figsize=(5, 4))"
   ]
  },
  {
   "cell_type": "code",
   "execution_count": null,
   "id": "81c162e5",
   "metadata": {},
   "outputs": [],
   "source": [
    "exp.model_diagnose(model=\"XGB2\", show=\"resilience_perf\", resilience_method=\"hard-sample\",\n",
    "                   metric=\"AUC\", figsize=(5, 4))"
   ]
  },
  {
   "cell_type": "code",
   "execution_count": null,
   "id": "06ff40a0",
   "metadata": {},
   "outputs": [],
   "source": [
    "exp.model_diagnose(model=\"XGB2\", show=\"resilience_perf\", resilience_method=\"outer-sample\",\n",
    "                   metric=\"AUC\", figsize=(5, 4))"
   ]
  },
  {
   "cell_type": "code",
   "execution_count": null,
   "id": "288c7510",
   "metadata": {},
   "outputs": [],
   "source": [
    "exp.model_diagnose(model=\"XGB2\", show=\"resilience_perf\", resilience_method=\"worst-cluster\",\n",
    "                   metric=\"AUC\", figsize=(5, 4))"
   ]
  },
  {
   "cell_type": "code",
   "execution_count": null,
   "id": "6995cf67",
   "metadata": {},
   "outputs": [],
   "source": [
    "exp.model_diagnose(model=\"XGB2\", show=\"resilience_distance\", resilience_method=\"worst-sample\",\n",
    "                   distance_metric=\"PSI\", alpha=0.3, figsize=(5, 4))"
   ]
  },
  {
   "cell_type": "code",
   "execution_count": null,
   "id": "bf6888e9",
   "metadata": {},
   "outputs": [],
   "source": [
    "exp.model_diagnose(model=\"XGB2\", show=\"resilience_distance\", resilience_method=\"worst-sample\",\n",
    "                   distance_metric=\"PSI\", immu_feature=\"PAY_1\", alpha=0.3, figsize=(5, 4))"
   ]
  },
  {
   "cell_type": "code",
   "execution_count": null,
   "id": "1a114555",
   "metadata": {},
   "outputs": [],
   "source": [
    "exp.model_diagnose(model=\"XGB2\", show=\"resilience_distance\", resilience_method=\"worst-cluster\",\n",
    "                   distance_metric=\"WD1\", n_clusters=10, figsize=(5, 4))"
   ]
  },
  {
   "cell_type": "code",
   "execution_count": null,
   "id": "2803d086",
   "metadata": {},
   "outputs": [],
   "source": [
    "exp.model_diagnose(model=\"XGB2\", show=\"resilience_shift_density\",\n",
    "                   target_feature=\"Pay_1\", original_scale=True, figsize=(5, 4))"
   ]
  },
  {
   "cell_type": "code",
   "execution_count": null,
   "id": "c7704594",
   "metadata": {},
   "outputs": [],
   "source": [
    "exp.model_diagnose(model=\"XGB2\", show=\"resilience_shift_histogram\",\n",
    "                   target_feature=\"Pay_1\", original_scale=True, figsize=(5, 4))"
   ]
  }
 ],
 "metadata": {
  "kernelspec": {
   "display_name": "Python 3",
   "language": "python",
   "name": "python3"
  },
  "language_info": {
   "codemirror_mode": {
    "name": "ipython",
    "version": 3
   },
   "file_extension": ".py",
   "mimetype": "text/x-python",
   "name": "python",
   "nbconvert_exporter": "python",
   "pygments_lexer": "ipython3",
   "version": "3.9.12"
  }
 },
 "nbformat": 4,
 "nbformat_minor": 5
}