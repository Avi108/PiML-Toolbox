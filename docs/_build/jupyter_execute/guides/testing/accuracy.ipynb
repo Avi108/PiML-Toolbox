{
 "cells": [
  {
   "cell_type": "code",
   "execution_count": null,
   "id": "a3ebbfdc",
   "metadata": {},
   "outputs": [],
   "source": [
    "exp.model_diagnose(model=\"XGB2\", show='accuracy_table')"
   ]
  },
  {
   "cell_type": "code",
   "execution_count": null,
   "id": "33d40315",
   "metadata": {},
   "outputs": [],
   "source": [
    "exp.model_diagnose(model=\"XGB2\", show=\"accuracy_residual\", target_feature=\"hr\",\n",
    "                   use_test=False, original_scale=True, figsize=(5, 4))"
   ]
  },
  {
   "cell_type": "code",
   "execution_count": null,
   "id": "09036187",
   "metadata": {},
   "outputs": [],
   "source": [
    "exp.model_diagnose(model=\"XGB2\", show=\"accuracy_residual\", target_feature=\"season\",\n",
    "                   use_test=False, original_scale=True, figsize=(5, 4))"
   ]
  },
  {
   "cell_type": "code",
   "execution_count": null,
   "id": "51cfd397",
   "metadata": {},
   "outputs": [],
   "source": [
    "exp.model_diagnose(model=\"XGB2\", show=\"accuracy_residual\", target_feature=\"cnt\",\n",
    "                   use_test=False, figsize=(5, 4))"
   ]
  },
  {
   "cell_type": "code",
   "execution_count": null,
   "id": "23a611b5",
   "metadata": {},
   "outputs": [],
   "source": [
    "exp.model_diagnose(model=\"XGB2\", show=\"accuracy_residual\", target_feature=\"cnt_predict\",\n",
    "                   use_test=False, figsize=(5, 4))"
   ]
  },
  {
   "cell_type": "code",
   "execution_count": null,
   "id": "fab75a34",
   "metadata": {},
   "outputs": [],
   "source": [
    "exp.model_diagnose(model=\"XGB2\", show=\"accuracy_table\")"
   ]
  },
  {
   "cell_type": "code",
   "execution_count": null,
   "id": "d7b6fcf7",
   "metadata": {},
   "outputs": [],
   "source": [
    "exp.model_diagnose(model=\"XGB2\", show=\"residual_plot\", target_feature=\"PAY_1\",\n",
    "                   use_test=False, original_scale=True, figsize=(5, 4))"
   ]
  },
  {
   "cell_type": "code",
   "execution_count": null,
   "id": "38d30fd8",
   "metadata": {},
   "outputs": [],
   "source": [
    "exp.model_diagnose(model=\"XGB2\", show=\"accuracy_plot\")"
   ]
  }
 ],
 "metadata": {
  "kernelspec": {
   "display_name": "Python 3",
   "language": "python",
   "name": "python3"
  },
  "language_info": {
   "codemirror_mode": {
    "name": "ipython",
    "version": 3
   },
   "file_extension": ".py",
   "mimetype": "text/x-python",
   "name": "python",
   "nbconvert_exporter": "python",
   "pygments_lexer": "ipython3",
   "version": "3.9.12"
  }
 },
 "nbformat": 4,
 "nbformat_minor": 5
}