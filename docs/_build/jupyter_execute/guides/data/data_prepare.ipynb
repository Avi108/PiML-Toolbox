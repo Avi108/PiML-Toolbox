{
 "cells": [
  {
   "cell_type": "code",
   "execution_count": 1,
   "id": "f0ec3e57",
   "metadata": {
    "execution": {
     "iopub.execute_input": "2023-12-01T10:08:04.282719Z",
     "iopub.status.busy": "2023-12-01T10:08:04.282719Z",
     "iopub.status.idle": "2023-12-01T10:08:13.469895Z",
     "shell.execute_reply": "2023-12-01T10:08:13.469895Z"
    }
   },
   "outputs": [],
   "source": [
    "import numpy as np\n",
    "from piml import Experiment\n",
    "\n",
    "exp = Experiment()\n",
    "exp.data_loader(data=\"BikeSharing\", silent=True)"
   ]
  },
  {
   "cell_type": "code",
   "execution_count": 2,
   "id": "ead359c0",
   "metadata": {
    "execution": {
     "iopub.execute_input": "2023-12-01T10:08:13.485515Z",
     "iopub.status.busy": "2023-12-01T10:08:13.485515Z",
     "iopub.status.idle": "2023-12-01T10:08:13.563646Z",
     "shell.execute_reply": "2023-12-01T10:08:13.563646Z"
    }
   },
   "outputs": [
    {
     "data": {
      "application/vnd.jupyter.widget-view+json": {
       "model_id": "49afa2821df345218f7ecc15f39272d2",
       "version_major": 2,
       "version_minor": 0
      },
      "text/plain": [
       "HTML(value='\\n        <style>\\n\\n        .left-label {\\n            width: 30%;\\n        }\\n\\n        .card-pa…"
      ]
     },
     "metadata": {},
     "output_type": "display_data"
    },
    {
     "data": {
      "text/html": [
       "<div>\n",
       "<style scoped>\n",
       "    .dataframe tbody tr th:only-of-type {\n",
       "        vertical-align: middle;\n",
       "    }\n",
       "\n",
       "    .dataframe tbody tr th {\n",
       "        vertical-align: top;\n",
       "    }\n",
       "\n",
       "    .dataframe thead th {\n",
       "        text-align: right;\n",
       "    }\n",
       "</style>\n",
       "<table border=\"1\" class=\"dataframe\">\n",
       "  <thead>\n",
       "    <tr style=\"text-align: right;\">\n",
       "      <th></th>\n",
       "      <th>Config</th>\n",
       "      <th>Value</th>\n",
       "    </tr>\n",
       "  </thead>\n",
       "  <tbody>\n",
       "    <tr>\n",
       "      <th>0</th>\n",
       "      <td>Excluded columns</td>\n",
       "      <td>[]</td>\n",
       "    </tr>\n",
       "    <tr>\n",
       "      <th>1</th>\n",
       "      <td>Target variable</td>\n",
       "      <td>cnt</td>\n",
       "    </tr>\n",
       "    <tr>\n",
       "      <th>2</th>\n",
       "      <td>Sample weight</td>\n",
       "      <td>None</td>\n",
       "    </tr>\n",
       "    <tr>\n",
       "      <th>3</th>\n",
       "      <td>Task type</td>\n",
       "      <td>regression</td>\n",
       "    </tr>\n",
       "    <tr>\n",
       "      <th>4</th>\n",
       "      <td>Split method</td>\n",
       "      <td>random</td>\n",
       "    </tr>\n",
       "    <tr>\n",
       "      <th>5</th>\n",
       "      <td>Test ratio</td>\n",
       "      <td>0.2</td>\n",
       "    </tr>\n",
       "    <tr>\n",
       "      <th>6</th>\n",
       "      <td>Random state</td>\n",
       "      <td>0</td>\n",
       "    </tr>\n",
       "  </tbody>\n",
       "</table>\n",
       "</div>"
      ],
      "text/plain": [
       "             Config       Value\n",
       "0  Excluded columns          []\n",
       "1   Target variable         cnt\n",
       "2     Sample weight        None\n",
       "3         Task type  regression\n",
       "4      Split method      random\n",
       "5        Test ratio         0.2\n",
       "6      Random state           0"
      ]
     },
     "metadata": {},
     "output_type": "display_data"
    }
   ],
   "source": [
    "exp.data_prepare(target='cnt', task_type='regression', sample_weight=None)"
   ]
  },
  {
   "cell_type": "code",
   "execution_count": 3,
   "id": "09bcc974",
   "metadata": {
    "execution": {
     "iopub.execute_input": "2023-12-01T10:08:13.563646Z",
     "iopub.status.busy": "2023-12-01T10:08:13.563646Z",
     "iopub.status.idle": "2023-12-01T10:08:13.642263Z",
     "shell.execute_reply": "2023-12-01T10:08:13.641757Z"
    }
   },
   "outputs": [
    {
     "data": {
      "application/vnd.jupyter.widget-view+json": {
       "model_id": "15da93221987445b844b850c04be484e",
       "version_major": 2,
       "version_minor": 0
      },
      "text/plain": [
       "HTML(value='\\n        <style>\\n\\n        .left-label {\\n            width: 30%;\\n        }\\n\\n        .card-pa…"
      ]
     },
     "metadata": {},
     "output_type": "display_data"
    },
    {
     "data": {
      "text/html": [
       "<div>\n",
       "<style scoped>\n",
       "    .dataframe tbody tr th:only-of-type {\n",
       "        vertical-align: middle;\n",
       "    }\n",
       "\n",
       "    .dataframe tbody tr th {\n",
       "        vertical-align: top;\n",
       "    }\n",
       "\n",
       "    .dataframe thead th {\n",
       "        text-align: right;\n",
       "    }\n",
       "</style>\n",
       "<table border=\"1\" class=\"dataframe\">\n",
       "  <thead>\n",
       "    <tr style=\"text-align: right;\">\n",
       "      <th></th>\n",
       "      <th>Config</th>\n",
       "      <th>Value</th>\n",
       "    </tr>\n",
       "  </thead>\n",
       "  <tbody>\n",
       "    <tr>\n",
       "      <th>0</th>\n",
       "      <td>Excluded columns</td>\n",
       "      <td>[]</td>\n",
       "    </tr>\n",
       "    <tr>\n",
       "      <th>1</th>\n",
       "      <td>Target variable</td>\n",
       "      <td>cnt</td>\n",
       "    </tr>\n",
       "    <tr>\n",
       "      <th>2</th>\n",
       "      <td>Sample weight</td>\n",
       "      <td>None</td>\n",
       "    </tr>\n",
       "    <tr>\n",
       "      <th>3</th>\n",
       "      <td>Task type</td>\n",
       "      <td>regression</td>\n",
       "    </tr>\n",
       "    <tr>\n",
       "      <th>4</th>\n",
       "      <td>Split method</td>\n",
       "      <td>random</td>\n",
       "    </tr>\n",
       "    <tr>\n",
       "      <th>5</th>\n",
       "      <td>Test ratio</td>\n",
       "      <td>0.2</td>\n",
       "    </tr>\n",
       "    <tr>\n",
       "      <th>6</th>\n",
       "      <td>Random state</td>\n",
       "      <td>0</td>\n",
       "    </tr>\n",
       "  </tbody>\n",
       "</table>\n",
       "</div>"
      ],
      "text/plain": [
       "             Config       Value\n",
       "0  Excluded columns          []\n",
       "1   Target variable         cnt\n",
       "2     Sample weight        None\n",
       "3         Task type  regression\n",
       "4      Split method      random\n",
       "5        Test ratio         0.2\n",
       "6      Random state           0"
      ]
     },
     "metadata": {},
     "output_type": "display_data"
    }
   ],
   "source": [
    "exp.data_prepare(target='cnt', task_type='regression', sample_weight=None,\n",
    "                split_method='random', test_ratio=0.2, random_state=0)"
   ]
  },
  {
   "cell_type": "code",
   "execution_count": 4,
   "id": "8c58064f",
   "metadata": {
    "execution": {
     "iopub.execute_input": "2023-12-01T10:08:13.642263Z",
     "iopub.status.busy": "2023-12-01T10:08:13.642263Z",
     "iopub.status.idle": "2023-12-01T10:08:13.751567Z",
     "shell.execute_reply": "2023-12-01T10:08:13.751567Z"
    }
   },
   "outputs": [
    {
     "data": {
      "application/vnd.jupyter.widget-view+json": {
       "model_id": "ec493bfa0ed04c029b612ac6f2e0d830",
       "version_major": 2,
       "version_minor": 0
      },
      "text/plain": [
       "HTML(value='\\n        <style>\\n\\n        .left-label {\\n            width: 30%;\\n        }\\n\\n        .card-pa…"
      ]
     },
     "metadata": {},
     "output_type": "display_data"
    },
    {
     "data": {
      "text/html": [
       "<div>\n",
       "<style scoped>\n",
       "    .dataframe tbody tr th:only-of-type {\n",
       "        vertical-align: middle;\n",
       "    }\n",
       "\n",
       "    .dataframe tbody tr th {\n",
       "        vertical-align: top;\n",
       "    }\n",
       "\n",
       "    .dataframe thead th {\n",
       "        text-align: right;\n",
       "    }\n",
       "</style>\n",
       "<table border=\"1\" class=\"dataframe\">\n",
       "  <thead>\n",
       "    <tr style=\"text-align: right;\">\n",
       "      <th></th>\n",
       "      <th>Config</th>\n",
       "      <th>Value</th>\n",
       "    </tr>\n",
       "  </thead>\n",
       "  <tbody>\n",
       "    <tr>\n",
       "      <th>0</th>\n",
       "      <td>Excluded columns</td>\n",
       "      <td>[]</td>\n",
       "    </tr>\n",
       "    <tr>\n",
       "      <th>1</th>\n",
       "      <td>Target variable</td>\n",
       "      <td>cnt</td>\n",
       "    </tr>\n",
       "    <tr>\n",
       "      <th>2</th>\n",
       "      <td>Sample weight</td>\n",
       "      <td>None</td>\n",
       "    </tr>\n",
       "    <tr>\n",
       "      <th>3</th>\n",
       "      <td>Task type</td>\n",
       "      <td>regression</td>\n",
       "    </tr>\n",
       "    <tr>\n",
       "      <th>4</th>\n",
       "      <td>Split method</td>\n",
       "      <td>outer-sample</td>\n",
       "    </tr>\n",
       "    <tr>\n",
       "      <th>5</th>\n",
       "      <td>Test ratio</td>\n",
       "      <td>0.2</td>\n",
       "    </tr>\n",
       "    <tr>\n",
       "      <th>6</th>\n",
       "      <td>Random state</td>\n",
       "      <td>0</td>\n",
       "    </tr>\n",
       "  </tbody>\n",
       "</table>\n",
       "</div>"
      ],
      "text/plain": [
       "             Config         Value\n",
       "0  Excluded columns            []\n",
       "1   Target variable           cnt\n",
       "2     Sample weight          None\n",
       "3         Task type    regression\n",
       "4      Split method  outer-sample\n",
       "5        Test ratio           0.2\n",
       "6      Random state             0"
      ]
     },
     "metadata": {},
     "output_type": "display_data"
    }
   ],
   "source": [
    "exp.data_prepare(target='cnt', task_type='regression', sample_weight=None,\n",
    "                split_method='outer-sample', test_ratio=0.2, random_state=0)"
   ]
  },
  {
   "cell_type": "code",
   "execution_count": 5,
   "id": "5577c4c0",
   "metadata": {
    "execution": {
     "iopub.execute_input": "2023-12-01T10:08:13.751567Z",
     "iopub.status.busy": "2023-12-01T10:08:13.751567Z",
     "iopub.status.idle": "2023-12-01T10:08:14.741563Z",
     "shell.execute_reply": "2023-12-01T10:08:14.741563Z"
    }
   },
   "outputs": [
    {
     "data": {
      "application/vnd.jupyter.widget-view+json": {
       "model_id": "13132d64fd3c475191666256bb611716",
       "version_major": 2,
       "version_minor": 0
      },
      "text/plain": [
       "HTML(value='\\n        <style>\\n\\n        .left-label {\\n            width: 30%;\\n        }\\n\\n        .card-pa…"
      ]
     },
     "metadata": {},
     "output_type": "display_data"
    },
    {
     "data": {
      "text/html": [
       "<div>\n",
       "<style scoped>\n",
       "    .dataframe tbody tr th:only-of-type {\n",
       "        vertical-align: middle;\n",
       "    }\n",
       "\n",
       "    .dataframe tbody tr th {\n",
       "        vertical-align: top;\n",
       "    }\n",
       "\n",
       "    .dataframe thead th {\n",
       "        text-align: right;\n",
       "    }\n",
       "</style>\n",
       "<table border=\"1\" class=\"dataframe\">\n",
       "  <thead>\n",
       "    <tr style=\"text-align: right;\">\n",
       "      <th></th>\n",
       "      <th>Config</th>\n",
       "      <th>Value</th>\n",
       "    </tr>\n",
       "  </thead>\n",
       "  <tbody>\n",
       "    <tr>\n",
       "      <th>0</th>\n",
       "      <td>Excluded columns</td>\n",
       "      <td>[]</td>\n",
       "    </tr>\n",
       "    <tr>\n",
       "      <th>1</th>\n",
       "      <td>Target variable</td>\n",
       "      <td>cnt</td>\n",
       "    </tr>\n",
       "    <tr>\n",
       "      <th>2</th>\n",
       "      <td>Sample weight</td>\n",
       "      <td>None</td>\n",
       "    </tr>\n",
       "    <tr>\n",
       "      <th>3</th>\n",
       "      <td>Task type</td>\n",
       "      <td>regression</td>\n",
       "    </tr>\n",
       "    <tr>\n",
       "      <th>4</th>\n",
       "      <td>Split method</td>\n",
       "      <td>kmeans</td>\n",
       "    </tr>\n",
       "    <tr>\n",
       "      <th>5</th>\n",
       "      <td>Test ratio</td>\n",
       "      <td>0.420277</td>\n",
       "    </tr>\n",
       "    <tr>\n",
       "      <th>6</th>\n",
       "      <td>Random state</td>\n",
       "      <td>0</td>\n",
       "    </tr>\n",
       "  </tbody>\n",
       "</table>\n",
       "</div>"
      ],
      "text/plain": [
       "             Config       Value\n",
       "0  Excluded columns          []\n",
       "1   Target variable         cnt\n",
       "2     Sample weight        None\n",
       "3         Task type  regression\n",
       "4      Split method      kmeans\n",
       "5        Test ratio    0.420277\n",
       "6      Random state           0"
      ]
     },
     "metadata": {},
     "output_type": "display_data"
    }
   ],
   "source": [
    "exp.data_prepare(target='cnt', task_type='regression', sample_weight=None,\n",
    "                split_method='kmeans', test_ratio=[0.0, 1.0, 0.0], random_state=0)"
   ]
  },
  {
   "cell_type": "code",
   "execution_count": 6,
   "id": "96f03bfc",
   "metadata": {
    "execution": {
     "iopub.execute_input": "2023-12-01T10:08:14.757188Z",
     "iopub.status.busy": "2023-12-01T10:08:14.757188Z",
     "iopub.status.idle": "2023-12-01T10:08:14.835327Z",
     "shell.execute_reply": "2023-12-01T10:08:14.835327Z"
    }
   },
   "outputs": [
    {
     "data": {
      "application/vnd.jupyter.widget-view+json": {
       "model_id": "c9410607897142b5aa1f53d6dbbbf2ba",
       "version_major": 2,
       "version_minor": 0
      },
      "text/plain": [
       "HTML(value='\\n        <style>\\n\\n        .left-label {\\n            width: 30%;\\n        }\\n\\n        .card-pa…"
      ]
     },
     "metadata": {},
     "output_type": "display_data"
    },
    {
     "data": {
      "text/html": [
       "<div>\n",
       "<style scoped>\n",
       "    .dataframe tbody tr th:only-of-type {\n",
       "        vertical-align: middle;\n",
       "    }\n",
       "\n",
       "    .dataframe tbody tr th {\n",
       "        vertical-align: top;\n",
       "    }\n",
       "\n",
       "    .dataframe thead th {\n",
       "        text-align: right;\n",
       "    }\n",
       "</style>\n",
       "<table border=\"1\" class=\"dataframe\">\n",
       "  <thead>\n",
       "    <tr style=\"text-align: right;\">\n",
       "      <th></th>\n",
       "      <th>Config</th>\n",
       "      <th>Value</th>\n",
       "    </tr>\n",
       "  </thead>\n",
       "  <tbody>\n",
       "    <tr>\n",
       "      <th>0</th>\n",
       "      <td>Excluded columns</td>\n",
       "      <td>[]</td>\n",
       "    </tr>\n",
       "    <tr>\n",
       "      <th>1</th>\n",
       "      <td>Target variable</td>\n",
       "      <td>cnt</td>\n",
       "    </tr>\n",
       "    <tr>\n",
       "      <th>2</th>\n",
       "      <td>Sample weight</td>\n",
       "      <td>None</td>\n",
       "    </tr>\n",
       "    <tr>\n",
       "      <th>3</th>\n",
       "      <td>Task type</td>\n",
       "      <td>regression</td>\n",
       "    </tr>\n",
       "    <tr>\n",
       "      <th>4</th>\n",
       "      <td>Split method</td>\n",
       "      <td>manual</td>\n",
       "    </tr>\n",
       "    <tr>\n",
       "      <th>5</th>\n",
       "      <td>Test ratio</td>\n",
       "      <td>0.079349</td>\n",
       "    </tr>\n",
       "    <tr>\n",
       "      <th>6</th>\n",
       "      <td>Random state</td>\n",
       "      <td>0</td>\n",
       "    </tr>\n",
       "  </tbody>\n",
       "</table>\n",
       "</div>"
      ],
      "text/plain": [
       "             Config       Value\n",
       "0  Excluded columns          []\n",
       "1   Target variable         cnt\n",
       "2     Sample weight        None\n",
       "3         Task type  regression\n",
       "4      Split method      manual\n",
       "5        Test ratio    0.079349\n",
       "6      Random state           0"
      ]
     },
     "metadata": {},
     "output_type": "display_data"
    }
   ],
   "source": [
    "custom_train_idx = np.arange(0, 16000)\n",
    "custom_test_idx = np.arange(16000, 17379)\n",
    "exp.data_prepare(target='cnt', task_type='regression', sample_weight=None,\n",
    "                train_idx=custom_train_idx, test_idx=custom_test_idx)"
   ]
  }
 ],
 "metadata": {
  "kernelspec": {
   "display_name": "Python 3",
   "language": "python",
   "name": "python3"
  },
  "language_info": {
   "codemirror_mode": {
    "name": "ipython",
    "version": 3
   },
   "file_extension": ".py",
   "mimetype": "text/x-python",
   "name": "python",
   "nbconvert_exporter": "python",
   "pygments_lexer": "ipython3",
   "version": "3.9.12"
  },
  "widgets": {
   "application/vnd.jupyter.widget-state+json": {
    "state": {
     "13132d64fd3c475191666256bb611716": {
      "model_module": "@jupyter-widgets/controls",
      "model_module_version": "2.0.0",
      "model_name": "HTMLModel",
      "state": {
       "_dom_classes": [],
       "_model_module": "@jupyter-widgets/controls",
       "_model_module_version": "2.0.0",
       "_model_name": "HTMLModel",
       "_view_count": null,
       "_view_module": "@jupyter-widgets/controls",
       "_view_module_version": "2.0.0",
       "_view_name": "HTMLView",
       "description": "",
       "description_allow_html": false,
       "layout": "IPY_MODEL_7d773e2716434a0ead763d2e72cad233",
       "placeholder": "​",
       "style": "IPY_MODEL_50557b2bb2ca44c19444c1a3fceb2c57",
       "tabbable": null,
       "tooltip": null,
       "value": "\n        <style>\n\n        .left-label {\n            width: 30%;\n        }\n\n        .card-panel {\n            -webkit-transition: -webkit-box-shadow .25s;\n            transition: -webkit-box-shadow .25s;\n            transition: box-shadow .25s;\n            transition: box-shadow .25s, -webkit-box-shadow .25s;\n            padding: 24px;\n            margin: 0.5rem 0 1rem 0;\n            border-radius: 2px;\n            background-color: #fff;\n        }\n\n        .card {\n            position: relative;\n            margin: 0.5rem 0.1rem 1rem 0.2rem;\n            background-color: #fff;\n            -webkit-transition: -webkit-box-shadow .25s;\n            transition: -webkit-box-shadow .25s;\n            transition: box-shadow .25s;\n            transition: box-shadow .25s, -webkit-box-shadow .25s;\n            border-radius: 2px;\n            box-shadow: 0 2px 2px 0 rgb(0 0 0 / 14%), 0 3px 1px -2px rgb(0 0 0 / 12%), 0 1px 5px 0 rgb(0 0 0 / 20%);\n            padding: 24px;\n            color: white;\n        }\n\n        .card .card-title {\n            font-size: 24px;\n            font-weight: 300;\n        }\n\n        @media only screen and (min-width: 800px) {\n            /* For notebook: */\n            .card {width: 99% !important;}\n        }\n\n        @media only screen and (min-width: 1400px) {\n            /* For colab: */\n            .card {width: 99% !important;}\n        }\n\n        .blue-grey.darken-1 {\n            background-color: #546e7a !important;\n        }\n\n        .small-card {\n            position: relative;\n            margin: 0.5rem 0 1rem 0;\n            background-color: #fff;\n            -webkit-transition: -webkit-box-shadow .25s;\n            transition: -webkit-box-shadow .25s;\n            transition: box-shadow .25s;\n            transition: box-shadow .25s, -webkit-box-shadow .25s;\n            border-radius: 2px;\n            box-shadow: 0 2px 2px 0 rgb(0 0 0 / 14%), 0 3px 1px -2px rgb(0 0 0 / 12%), 0 1px 5px 0 rgb(0 0 0 / 20%);\n            padding: 0px 5px 0px 5px;\n            color: white;\n        }\n\n        .inner-card {\n            position: relative;\n            background-color: #fff;\n            -webkit-transition: -webkit-box-shadow .25s;\n            transition: -webkit-box-shadow .25s;\n            transition: box-shadow .25s;\n            transition: box-shadow .25s, -webkit-box-shadow .25s;\n            border-radius: 2px;\n            box-shadow: 0 2px 2px 0 rgb(0 0 0 / 14%), 0 3px 1px -2px rgb(0 0 0 / 12%), 0 1px 5px 0 rgb(0 0 0 / 20%);\n            padding: 20px;\n            color: white;\n            margin: 0px 1px 1px 1px;\n        }\n\n        .card-with-tab {\n            position: relative;\n            margin: 0.5rem 0.1rem 1rem 0.2rem;\n            background-color: #fff;\n            -webkit-transition: -webkit-box-shadow .25s;\n            transition: -webkit-box-shadow .25s;\n            transition: box-shadow .25s;\n            transition: box-shadow .25s, -webkit-box-shadow .25s;\n            border-radius: 2px;\n            box-shadow: 0 2px 2px 0 rgb(0 0 0 / 14%), 0 3px 1px -2px rgb(0 0 0 / 12%), 0 1px 5px 0 rgb(0 0 0 / 20%);\n            padding: 24px;\n            color: white;\n        }\n\n        .card-with-tab button {\n            width: auto;\n            padding: 12px 40px;\n        }\n\n        .list {\n            padding: 0px 10px;\n            box-shadow: 0 2px 2px 0 rgb(0 0 0 / 14%), 0 3px 1px -2px rgb(0 0 0 / 12%), 0 1px 5px 0 rgb(0 0 0 / 20%);\n            margin: 0px 1px 60px 1px;\n        }\n\n        .list-item {\n            padding: 10px 0px;\n            border-width: 0;\n            border-style: solid;\n            border-color: rgba(0, 0, 0, 0.08);\n            border-bottom-width: thin;\n        }\n\n        .divider {\n            margin: 10px 0px;\n            border-width: 0;\n            border-style: solid;\n            border-color: rgba(0, 0, 0, 0.08);\n            border-bottom-width: thin;\n        }\n\n        .hr {\n            margin: 0;\n            -webkit-flex-shrink: 0;\n            -ms-flex-negative: 0;\n            flex-shrink: 0;\n            border-width: 0;\n            border-style: solid;\n            border-color: rgba(0, 0, 0, 0.08);\n            border-bottom-width: thin;\n        }\n\n        .notification {\n            transition: box-shadow 300ms cubic-bezier(0.4, 0, 0.2, 1) 0ms;\n            border-radius: 4px;\n            box-shadow: 0 2px 2px 0 rgb(0 0 0 / 14%), 0 3px 1px -2px rgb(0 0 0 / 12%), 0 1px 5px 0 rgb(0 0 0 / 20%);\n            font-family: Roboto, Helvetica, Arial, sans-serif;\n            font-weight: 500;\n            font-size: 12px;\n            line-height: 1.43;\n            letter-spacing: 0.01071em;\n            background-color: rgb(2, 136, 209);\n            display: flex;\n            padding: 6px 16px;\n            color: rgb(255, 255, 255);\n            margin-top: 10px;\n        }\n\n        .success {\n            background-color: #EDF7ED;\n            color: #1E4620;\n        }\n\n        .error {\n            background-color: #FDEDED;\n            color: #5F2120;\n        }\n\n        .info {\n            background-color: #E5F6FD;\n            color: #528298;\n        }\n\n        .warn {\n            background-color: #FFF4E5;\n            color: #663C00;\n        }\n\n        .margin-top-20 {\n            margin-top: 20px;\n        }\n\n        .hide {\n            display: none;\n        }\n\n        .pbtn {\n            display: inline-flex;\n            -webkit-box-align: center;\n            align-items: center;\n            -webkit-box-pack: center;\n            justify-content: center;\n            position: relative;\n            box-sizing: border-box;\n            -webkit-tap-highlight-color: transparent;\n            outline: 0px;\n            border: 0px;\n            margin: 0px;\n            cursor: pointer;\n            user-select: none;\n            vertical-align: middle;\n            appearance: none;\n            text-decoration: none;\n            font-family: Roboto, Helvetica, Arial, sans-serif;\n            font-weight: 550;\n            font-size: 12px;\n            line-height: 1.75;\n            letter-spacing: 0.02857em;\n            text-transform: uppercase;\n            min-width: 64px;\n            padding: 6px 16px;\n            border-radius: 4px;\n            transition: background-color 250ms cubic-bezier(0.4, 0, 0.2, 1) 0ms, box-shadow 250ms cubic-bezier(0.4, 0, 0.2, 1) 0ms, border-color 250ms cubic-bezier(0.4, 0, 0.2, 1) 0ms, color 250ms cubic-bezier(0.4, 0, 0.2, 1) 0ms;\n            color: rgb(255, 255, 255);\n            background-color: #D71E28;\n            box-shadow: rgb(0 0 0 / 20%) 0px 3px 1px -2px, rgb(0 0 0 / 14%) 0px 2px 2px 0px, rgb(0 0 0 / 12%) 0px 1px 5px 0px;\n        }\n\n        .jp-OutputArea-output {\n            flex-grow: 1;\n            flex-shrink: 1;\n            margin: 0px;\n        }\n\n        .output_subarea {\n            padding: 0px !important;\n        }\n\n        .ptable, .pth, .ptd {\n            border: none;\n        }\n\n        .pth, .ptd {\n            max-width: 150px;\n            white-space: nowrap;\n            overflow: hidden;\n            -o-text-overflow: ellipsis;\n            -ms-text-overflow: ellipsis;\n            text-overflow: ellipsis;\n        }\n\n        .ptable {\n            display: table;\n            border-collapse: collapse;\n            border-spacing: 0;\n        }\n\n        .ptable.striped .ptr {\n            border-bottom: none;\n        }\n\n        .ptable.striped > .ptbody > .ptr:nth-child(odd) {\n            background-color: rgba(242, 242, 242, 0.5);\n        }\n\n        .ptable.striped > .ptbody > .ptr > .ptd {\n            border-radius: 0;\n        }\n\n        .ptable.highlight > .ptbody > .ptr {\n            -webkit-transition: background-color .25s ease;\n            transition: background-color .25s ease;\n        }\n\n        .ptable.highlight > .ptbody > .ptr:hover {\n            background-color: rgba(242, 242, 242, 0.5);\n        }\n\n        .ptable.centered .pthead .ptr .pth, .ptable.centered .ptbody .ptr .ptd {\n            text-align: center;\n        }\n\n        .ptr {\n            border-bottom: 1px solid rgba(0, 0, 0, 0.12);\n        }\n\n        .ptr.hightlight {\n            background-color: yellow !important;\n        }\n\n        .ptd, .pth {\n            padding: 0.2rem 0.6rem;\n            display: table-cell;\n            text-align: right;\n            vertical-align: middle;\n            border-radius: 2px;\n            position: relative;\n        }\n\n        .ptr.grey {\n            background-color: grey !important;\n        }\n\n        .ptr.strikeout .ptd:before {\n            content: \" \";\n            position: absolute;\n            top: 50%;\n            left: 0;\n            border-bottom: 1px solid #111;\n            width: 100%;\n        }\n\n        .widget-toggle-button {\n            display: inline-flex;\n            -webkit-box-align: center;\n            align-items: center;\n            -webkit-box-pack: center;\n            justify-content: center;\n            box-sizing: border-box;\n            -webkit-tap-highlight-color: transparent;\n            background-color: transparent !important;\n            outline: 0px;\n            border: 0px;\n            border-bottom: 2px solid #E4E4E4 !important;\n            box-shadow: none !important;\n            margin: 0px !important;\n            border-radius: 0px;\n            cursor: pointer;\n            user-select: none;\n            vertical-align: middle;\n            appearance: none;\n            text-decoration: none;\n            font-family: Roboto, Helvetica, Arial, sans-serif;\n            font-weight: 500;\n            font-size: 14px;\n            line-height: 1.25;\n            letter-spacing: 0.02857em;\n            max-width: 360px;\n            min-width: 90px;\n            position: relative;\n            min-height: 48px;\n            flex-shrink: 0;\n            padding: 12px 16px;\n            overflow: hidden;\n            white-space: normal;\n            text-align: center;\n            flex-direction: column;\n            color: rgba(0, 0, 0, 0.6);\n        }\n\n        .narrow-accordion .jupyter-widget-Accordion-child .jupyter-widget-Collapse-header{\n            padding: 5px;\n        }  \n\n        .mod-active {\n            color: rgb(25, 118, 210) !important;\n            border-bottom: 2px solid rgb(25, 118, 210) !important;\n        }\n\n        .narrow-tab button {\n            max-width: 15%;\n        }\n\n        .narrow-tab-fairness button {\n            max-width: 20%;\n        }\n        .narrow-tab-fs button {\n            max-width: 25%;\n        }\n\n        .overflow-fix .jupyter-widgets {\n            overflow: auto;\n        }\n\n        .inner-padding {\n            padding-top: 20px;\n        }\n\n        .fix-img img {\n            width: 100%;\n        }\n\n        .fix-img-half img {\n            width: 50%;\n        }\n\n        .flex-reverse-for-update-button {\n            flex-direction: row-reverse;\n            margin-right: 50px;\n        }\n\n        .data-summary-tab {\n            max-height: 400px;\n        }\n\n        .restricted_table_height {\n            max-height: 450px\n        }\n\n        .input-width-with-parent .widget-dropdown {\n            width: 100%;\n        }\n\n        .input-width-with-parent .widget-text {\n            width: 100%;\n        }\n\n        .no-margin {\n            margin: 0px;\n        }\n\n        .widget-hprogress label {\n            text-align: left;\n        }\n\n        .widget-dropdown label {\n            margin-right: 10px;\n        }\n\n        .form .widget-dropdown {\n            width: auto;\n        }\n\n        .form .widget-text {\n            width: auto;\n        }\n\n        .form p {\n            margin: 0px;\n        }\n\n        .widget-dropdown {\n            white-space: nowrap;\n            overflow: hidden;\n            -o-text-overflow: ellipsis;\n            -ms-text-overflow: ellipsis;\n            text-overflow: ellipsis;\n        }\n\n        .progress-train label {\n            margin-right: 10px;\n        }\n\n        select {\n            height: 97% !important;\n        }\n\n        .no-overflow {\n            overflow: none;\n        }\n\n        .split-btn button {\n            margin-bottom: 2px;\n        }\n\n        .register-btn {\n            width: 50%\n        }\n\n        .register-btn-colab {\n            width: 40%\n        }\n\n        .fix-config-from-overflow .jp-OutputArea-child {\n            display: inherit;\n        }\n        \n        .checkbox-center input[type=\"checkbox\"] {\n            vertical-align: middle;\n        }\n\n        input[type=\"checkbox\"] {\n            vertical-align: middle;\n        }\n\n        </style>\n        "
      }
     },
     "15da93221987445b844b850c04be484e": {
      "model_module": "@jupyter-widgets/controls",
      "model_module_version": "2.0.0",
      "model_name": "HTMLModel",
      "state": {
       "_dom_classes": [],
       "_model_module": "@jupyter-widgets/controls",
       "_model_module_version": "2.0.0",
       "_model_name": "HTMLModel",
       "_view_count": null,
       "_view_module": "@jupyter-widgets/controls",
       "_view_module_version": "2.0.0",
       "_view_name": "HTMLView",
       "description": "",
       "description_allow_html": false,
       "layout": "IPY_MODEL_f3574447260f405cae6678e6f61d9f51",
       "placeholder": "​",
       "style": "IPY_MODEL_fb3db3c6586148c59bc6adaabab1ca4d",
       "tabbable": null,
       "tooltip": null,
       "value": "\n        <style>\n\n        .left-label {\n            width: 30%;\n        }\n\n        .card-panel {\n            -webkit-transition: -webkit-box-shadow .25s;\n            transition: -webkit-box-shadow .25s;\n            transition: box-shadow .25s;\n            transition: box-shadow .25s, -webkit-box-shadow .25s;\n            padding: 24px;\n            margin: 0.5rem 0 1rem 0;\n            border-radius: 2px;\n            background-color: #fff;\n        }\n\n        .card {\n            position: relative;\n            margin: 0.5rem 0.1rem 1rem 0.2rem;\n            background-color: #fff;\n            -webkit-transition: -webkit-box-shadow .25s;\n            transition: -webkit-box-shadow .25s;\n            transition: box-shadow .25s;\n            transition: box-shadow .25s, -webkit-box-shadow .25s;\n            border-radius: 2px;\n            box-shadow: 0 2px 2px 0 rgb(0 0 0 / 14%), 0 3px 1px -2px rgb(0 0 0 / 12%), 0 1px 5px 0 rgb(0 0 0 / 20%);\n            padding: 24px;\n            color: white;\n        }\n\n        .card .card-title {\n            font-size: 24px;\n            font-weight: 300;\n        }\n\n        @media only screen and (min-width: 800px) {\n            /* For notebook: */\n            .card {width: 99% !important;}\n        }\n\n        @media only screen and (min-width: 1400px) {\n            /* For colab: */\n            .card {width: 99% !important;}\n        }\n\n        .blue-grey.darken-1 {\n            background-color: #546e7a !important;\n        }\n\n        .small-card {\n            position: relative;\n            margin: 0.5rem 0 1rem 0;\n            background-color: #fff;\n            -webkit-transition: -webkit-box-shadow .25s;\n            transition: -webkit-box-shadow .25s;\n            transition: box-shadow .25s;\n            transition: box-shadow .25s, -webkit-box-shadow .25s;\n            border-radius: 2px;\n            box-shadow: 0 2px 2px 0 rgb(0 0 0 / 14%), 0 3px 1px -2px rgb(0 0 0 / 12%), 0 1px 5px 0 rgb(0 0 0 / 20%);\n            padding: 0px 5px 0px 5px;\n            color: white;\n        }\n\n        .inner-card {\n            position: relative;\n            background-color: #fff;\n            -webkit-transition: -webkit-box-shadow .25s;\n            transition: -webkit-box-shadow .25s;\n            transition: box-shadow .25s;\n            transition: box-shadow .25s, -webkit-box-shadow .25s;\n            border-radius: 2px;\n            box-shadow: 0 2px 2px 0 rgb(0 0 0 / 14%), 0 3px 1px -2px rgb(0 0 0 / 12%), 0 1px 5px 0 rgb(0 0 0 / 20%);\n            padding: 20px;\n            color: white;\n            margin: 0px 1px 1px 1px;\n        }\n\n        .card-with-tab {\n            position: relative;\n            margin: 0.5rem 0.1rem 1rem 0.2rem;\n            background-color: #fff;\n            -webkit-transition: -webkit-box-shadow .25s;\n            transition: -webkit-box-shadow .25s;\n            transition: box-shadow .25s;\n            transition: box-shadow .25s, -webkit-box-shadow .25s;\n            border-radius: 2px;\n            box-shadow: 0 2px 2px 0 rgb(0 0 0 / 14%), 0 3px 1px -2px rgb(0 0 0 / 12%), 0 1px 5px 0 rgb(0 0 0 / 20%);\n            padding: 24px;\n            color: white;\n        }\n\n        .card-with-tab button {\n            width: auto;\n            padding: 12px 40px;\n        }\n\n        .list {\n            padding: 0px 10px;\n            box-shadow: 0 2px 2px 0 rgb(0 0 0 / 14%), 0 3px 1px -2px rgb(0 0 0 / 12%), 0 1px 5px 0 rgb(0 0 0 / 20%);\n            margin: 0px 1px 60px 1px;\n        }\n\n        .list-item {\n            padding: 10px 0px;\n            border-width: 0;\n            border-style: solid;\n            border-color: rgba(0, 0, 0, 0.08);\n            border-bottom-width: thin;\n        }\n\n        .divider {\n            margin: 10px 0px;\n            border-width: 0;\n            border-style: solid;\n            border-color: rgba(0, 0, 0, 0.08);\n            border-bottom-width: thin;\n        }\n\n        .hr {\n            margin: 0;\n            -webkit-flex-shrink: 0;\n            -ms-flex-negative: 0;\n            flex-shrink: 0;\n            border-width: 0;\n            border-style: solid;\n            border-color: rgba(0, 0, 0, 0.08);\n            border-bottom-width: thin;\n        }\n\n        .notification {\n            transition: box-shadow 300ms cubic-bezier(0.4, 0, 0.2, 1) 0ms;\n            border-radius: 4px;\n            box-shadow: 0 2px 2px 0 rgb(0 0 0 / 14%), 0 3px 1px -2px rgb(0 0 0 / 12%), 0 1px 5px 0 rgb(0 0 0 / 20%);\n            font-family: Roboto, Helvetica, Arial, sans-serif;\n            font-weight: 500;\n            font-size: 12px;\n            line-height: 1.43;\n            letter-spacing: 0.01071em;\n            background-color: rgb(2, 136, 209);\n            display: flex;\n            padding: 6px 16px;\n            color: rgb(255, 255, 255);\n            margin-top: 10px;\n        }\n\n        .success {\n            background-color: #EDF7ED;\n            color: #1E4620;\n        }\n\n        .error {\n            background-color: #FDEDED;\n            color: #5F2120;\n        }\n\n        .info {\n            background-color: #E5F6FD;\n            color: #528298;\n        }\n\n        .warn {\n            background-color: #FFF4E5;\n            color: #663C00;\n        }\n\n        .margin-top-20 {\n            margin-top: 20px;\n        }\n\n        .hide {\n            display: none;\n        }\n\n        .pbtn {\n            display: inline-flex;\n            -webkit-box-align: center;\n            align-items: center;\n            -webkit-box-pack: center;\n            justify-content: center;\n            position: relative;\n            box-sizing: border-box;\n            -webkit-tap-highlight-color: transparent;\n            outline: 0px;\n            border: 0px;\n            margin: 0px;\n            cursor: pointer;\n            user-select: none;\n            vertical-align: middle;\n            appearance: none;\n            text-decoration: none;\n            font-family: Roboto, Helvetica, Arial, sans-serif;\n            font-weight: 550;\n            font-size: 12px;\n            line-height: 1.75;\n            letter-spacing: 0.02857em;\n            text-transform: uppercase;\n            min-width: 64px;\n            padding: 6px 16px;\n            border-radius: 4px;\n            transition: background-color 250ms cubic-bezier(0.4, 0, 0.2, 1) 0ms, box-shadow 250ms cubic-bezier(0.4, 0, 0.2, 1) 0ms, border-color 250ms cubic-bezier(0.4, 0, 0.2, 1) 0ms, color 250ms cubic-bezier(0.4, 0, 0.2, 1) 0ms;\n            color: rgb(255, 255, 255);\n            background-color: #D71E28;\n            box-shadow: rgb(0 0 0 / 20%) 0px 3px 1px -2px, rgb(0 0 0 / 14%) 0px 2px 2px 0px, rgb(0 0 0 / 12%) 0px 1px 5px 0px;\n        }\n\n        .jp-OutputArea-output {\n            flex-grow: 1;\n            flex-shrink: 1;\n            margin: 0px;\n        }\n\n        .output_subarea {\n            padding: 0px !important;\n        }\n\n        .ptable, .pth, .ptd {\n            border: none;\n        }\n\n        .pth, .ptd {\n            max-width: 150px;\n            white-space: nowrap;\n            overflow: hidden;\n            -o-text-overflow: ellipsis;\n            -ms-text-overflow: ellipsis;\n            text-overflow: ellipsis;\n        }\n\n        .ptable {\n            display: table;\n            border-collapse: collapse;\n            border-spacing: 0;\n        }\n\n        .ptable.striped .ptr {\n            border-bottom: none;\n        }\n\n        .ptable.striped > .ptbody > .ptr:nth-child(odd) {\n            background-color: rgba(242, 242, 242, 0.5);\n        }\n\n        .ptable.striped > .ptbody > .ptr > .ptd {\n            border-radius: 0;\n        }\n\n        .ptable.highlight > .ptbody > .ptr {\n            -webkit-transition: background-color .25s ease;\n            transition: background-color .25s ease;\n        }\n\n        .ptable.highlight > .ptbody > .ptr:hover {\n            background-color: rgba(242, 242, 242, 0.5);\n        }\n\n        .ptable.centered .pthead .ptr .pth, .ptable.centered .ptbody .ptr .ptd {\n            text-align: center;\n        }\n\n        .ptr {\n            border-bottom: 1px solid rgba(0, 0, 0, 0.12);\n        }\n\n        .ptr.hightlight {\n            background-color: yellow !important;\n        }\n\n        .ptd, .pth {\n            padding: 0.2rem 0.6rem;\n            display: table-cell;\n            text-align: right;\n            vertical-align: middle;\n            border-radius: 2px;\n            position: relative;\n        }\n\n        .ptr.grey {\n            background-color: grey !important;\n        }\n\n        .ptr.strikeout .ptd:before {\n            content: \" \";\n            position: absolute;\n            top: 50%;\n            left: 0;\n            border-bottom: 1px solid #111;\n            width: 100%;\n        }\n\n        .widget-toggle-button {\n            display: inline-flex;\n            -webkit-box-align: center;\n            align-items: center;\n            -webkit-box-pack: center;\n            justify-content: center;\n            box-sizing: border-box;\n            -webkit-tap-highlight-color: transparent;\n            background-color: transparent !important;\n            outline: 0px;\n            border: 0px;\n            border-bottom: 2px solid #E4E4E4 !important;\n            box-shadow: none !important;\n            margin: 0px !important;\n            border-radius: 0px;\n            cursor: pointer;\n            user-select: none;\n            vertical-align: middle;\n            appearance: none;\n            text-decoration: none;\n            font-family: Roboto, Helvetica, Arial, sans-serif;\n            font-weight: 500;\n            font-size: 14px;\n            line-height: 1.25;\n            letter-spacing: 0.02857em;\n            max-width: 360px;\n            min-width: 90px;\n            position: relative;\n            min-height: 48px;\n            flex-shrink: 0;\n            padding: 12px 16px;\n            overflow: hidden;\n            white-space: normal;\n            text-align: center;\n            flex-direction: column;\n            color: rgba(0, 0, 0, 0.6);\n        }\n\n        .narrow-accordion .jupyter-widget-Accordion-child .jupyter-widget-Collapse-header{\n            padding: 5px;\n        }  \n\n        .mod-active {\n            color: rgb(25, 118, 210) !important;\n            border-bottom: 2px solid rgb(25, 118, 210) !important;\n        }\n\n        .narrow-tab button {\n            max-width: 15%;\n        }\n\n        .narrow-tab-fairness button {\n            max-width: 20%;\n        }\n        .narrow-tab-fs button {\n            max-width: 25%;\n        }\n\n        .overflow-fix .jupyter-widgets {\n            overflow: auto;\n        }\n\n        .inner-padding {\n            padding-top: 20px;\n        }\n\n        .fix-img img {\n            width: 100%;\n        }\n\n        .fix-img-half img {\n            width: 50%;\n        }\n\n        .flex-reverse-for-update-button {\n            flex-direction: row-reverse;\n            margin-right: 50px;\n        }\n\n        .data-summary-tab {\n            max-height: 400px;\n        }\n\n        .restricted_table_height {\n            max-height: 450px\n        }\n\n        .input-width-with-parent .widget-dropdown {\n            width: 100%;\n        }\n\n        .input-width-with-parent .widget-text {\n            width: 100%;\n        }\n\n        .no-margin {\n            margin: 0px;\n        }\n\n        .widget-hprogress label {\n            text-align: left;\n        }\n\n        .widget-dropdown label {\n            margin-right: 10px;\n        }\n\n        .form .widget-dropdown {\n            width: auto;\n        }\n\n        .form .widget-text {\n            width: auto;\n        }\n\n        .form p {\n            margin: 0px;\n        }\n\n        .widget-dropdown {\n            white-space: nowrap;\n            overflow: hidden;\n            -o-text-overflow: ellipsis;\n            -ms-text-overflow: ellipsis;\n            text-overflow: ellipsis;\n        }\n\n        .progress-train label {\n            margin-right: 10px;\n        }\n\n        select {\n            height: 97% !important;\n        }\n\n        .no-overflow {\n            overflow: none;\n        }\n\n        .split-btn button {\n            margin-bottom: 2px;\n        }\n\n        .register-btn {\n            width: 50%\n        }\n\n        .register-btn-colab {\n            width: 40%\n        }\n\n        .fix-config-from-overflow .jp-OutputArea-child {\n            display: inherit;\n        }\n        \n        .checkbox-center input[type=\"checkbox\"] {\n            vertical-align: middle;\n        }\n\n        input[type=\"checkbox\"] {\n            vertical-align: middle;\n        }\n\n        </style>\n        "
      }
     },
     "49afa2821df345218f7ecc15f39272d2": {
      "model_module": "@jupyter-widgets/controls",
      "model_module_version": "2.0.0",
      "model_name": "HTMLModel",
      "state": {
       "_dom_classes": [],
       "_model_module": "@jupyter-widgets/controls",
       "_model_module_version": "2.0.0",
       "_model_name": "HTMLModel",
       "_view_count": null,
       "_view_module": "@jupyter-widgets/controls",
       "_view_module_version": "2.0.0",
       "_view_name": "HTMLView",
       "description": "",
       "description_allow_html": false,
       "layout": "IPY_MODEL_85e5fc2bc0bb454f8e9eef4c7c385f76",
       "placeholder": "​",
       "style": "IPY_MODEL_cfff723a86644f088404c0e2de19f401",
       "tabbable": null,
       "tooltip": null,
       "value": "\n        <style>\n\n        .left-label {\n            width: 30%;\n        }\n\n        .card-panel {\n            -webkit-transition: -webkit-box-shadow .25s;\n            transition: -webkit-box-shadow .25s;\n            transition: box-shadow .25s;\n            transition: box-shadow .25s, -webkit-box-shadow .25s;\n            padding: 24px;\n            margin: 0.5rem 0 1rem 0;\n            border-radius: 2px;\n            background-color: #fff;\n        }\n\n        .card {\n            position: relative;\n            margin: 0.5rem 0.1rem 1rem 0.2rem;\n            background-color: #fff;\n            -webkit-transition: -webkit-box-shadow .25s;\n            transition: -webkit-box-shadow .25s;\n            transition: box-shadow .25s;\n            transition: box-shadow .25s, -webkit-box-shadow .25s;\n            border-radius: 2px;\n            box-shadow: 0 2px 2px 0 rgb(0 0 0 / 14%), 0 3px 1px -2px rgb(0 0 0 / 12%), 0 1px 5px 0 rgb(0 0 0 / 20%);\n            padding: 24px;\n            color: white;\n        }\n\n        .card .card-title {\n            font-size: 24px;\n            font-weight: 300;\n        }\n\n        @media only screen and (min-width: 800px) {\n            /* For notebook: */\n            .card {width: 99% !important;}\n        }\n\n        @media only screen and (min-width: 1400px) {\n            /* For colab: */\n            .card {width: 99% !important;}\n        }\n\n        .blue-grey.darken-1 {\n            background-color: #546e7a !important;\n        }\n\n        .small-card {\n            position: relative;\n            margin: 0.5rem 0 1rem 0;\n            background-color: #fff;\n            -webkit-transition: -webkit-box-shadow .25s;\n            transition: -webkit-box-shadow .25s;\n            transition: box-shadow .25s;\n            transition: box-shadow .25s, -webkit-box-shadow .25s;\n            border-radius: 2px;\n            box-shadow: 0 2px 2px 0 rgb(0 0 0 / 14%), 0 3px 1px -2px rgb(0 0 0 / 12%), 0 1px 5px 0 rgb(0 0 0 / 20%);\n            padding: 0px 5px 0px 5px;\n            color: white;\n        }\n\n        .inner-card {\n            position: relative;\n            background-color: #fff;\n            -webkit-transition: -webkit-box-shadow .25s;\n            transition: -webkit-box-shadow .25s;\n            transition: box-shadow .25s;\n            transition: box-shadow .25s, -webkit-box-shadow .25s;\n            border-radius: 2px;\n            box-shadow: 0 2px 2px 0 rgb(0 0 0 / 14%), 0 3px 1px -2px rgb(0 0 0 / 12%), 0 1px 5px 0 rgb(0 0 0 / 20%);\n            padding: 20px;\n            color: white;\n            margin: 0px 1px 1px 1px;\n        }\n\n        .card-with-tab {\n            position: relative;\n            margin: 0.5rem 0.1rem 1rem 0.2rem;\n            background-color: #fff;\n            -webkit-transition: -webkit-box-shadow .25s;\n            transition: -webkit-box-shadow .25s;\n            transition: box-shadow .25s;\n            transition: box-shadow .25s, -webkit-box-shadow .25s;\n            border-radius: 2px;\n            box-shadow: 0 2px 2px 0 rgb(0 0 0 / 14%), 0 3px 1px -2px rgb(0 0 0 / 12%), 0 1px 5px 0 rgb(0 0 0 / 20%);\n            padding: 24px;\n            color: white;\n        }\n\n        .card-with-tab button {\n            width: auto;\n            padding: 12px 40px;\n        }\n\n        .list {\n            padding: 0px 10px;\n            box-shadow: 0 2px 2px 0 rgb(0 0 0 / 14%), 0 3px 1px -2px rgb(0 0 0 / 12%), 0 1px 5px 0 rgb(0 0 0 / 20%);\n            margin: 0px 1px 60px 1px;\n        }\n\n        .list-item {\n            padding: 10px 0px;\n            border-width: 0;\n            border-style: solid;\n            border-color: rgba(0, 0, 0, 0.08);\n            border-bottom-width: thin;\n        }\n\n        .divider {\n            margin: 10px 0px;\n            border-width: 0;\n            border-style: solid;\n            border-color: rgba(0, 0, 0, 0.08);\n            border-bottom-width: thin;\n        }\n\n        .hr {\n            margin: 0;\n            -webkit-flex-shrink: 0;\n            -ms-flex-negative: 0;\n            flex-shrink: 0;\n            border-width: 0;\n            border-style: solid;\n            border-color: rgba(0, 0, 0, 0.08);\n            border-bottom-width: thin;\n        }\n\n        .notification {\n            transition: box-shadow 300ms cubic-bezier(0.4, 0, 0.2, 1) 0ms;\n            border-radius: 4px;\n            box-shadow: 0 2px 2px 0 rgb(0 0 0 / 14%), 0 3px 1px -2px rgb(0 0 0 / 12%), 0 1px 5px 0 rgb(0 0 0 / 20%);\n            font-family: Roboto, Helvetica, Arial, sans-serif;\n            font-weight: 500;\n            font-size: 12px;\n            line-height: 1.43;\n            letter-spacing: 0.01071em;\n            background-color: rgb(2, 136, 209);\n            display: flex;\n            padding: 6px 16px;\n            color: rgb(255, 255, 255);\n            margin-top: 10px;\n        }\n\n        .success {\n            background-color: #EDF7ED;\n            color: #1E4620;\n        }\n\n        .error {\n            background-color: #FDEDED;\n            color: #5F2120;\n        }\n\n        .info {\n            background-color: #E5F6FD;\n            color: #528298;\n        }\n\n        .warn {\n            background-color: #FFF4E5;\n            color: #663C00;\n        }\n\n        .margin-top-20 {\n            margin-top: 20px;\n        }\n\n        .hide {\n            display: none;\n        }\n\n        .pbtn {\n            display: inline-flex;\n            -webkit-box-align: center;\n            align-items: center;\n            -webkit-box-pack: center;\n            justify-content: center;\n            position: relative;\n            box-sizing: border-box;\n            -webkit-tap-highlight-color: transparent;\n            outline: 0px;\n            border: 0px;\n            margin: 0px;\n            cursor: pointer;\n            user-select: none;\n            vertical-align: middle;\n            appearance: none;\n            text-decoration: none;\n            font-family: Roboto, Helvetica, Arial, sans-serif;\n            font-weight: 550;\n            font-size: 12px;\n            line-height: 1.75;\n            letter-spacing: 0.02857em;\n            text-transform: uppercase;\n            min-width: 64px;\n            padding: 6px 16px;\n            border-radius: 4px;\n            transition: background-color 250ms cubic-bezier(0.4, 0, 0.2, 1) 0ms, box-shadow 250ms cubic-bezier(0.4, 0, 0.2, 1) 0ms, border-color 250ms cubic-bezier(0.4, 0, 0.2, 1) 0ms, color 250ms cubic-bezier(0.4, 0, 0.2, 1) 0ms;\n            color: rgb(255, 255, 255);\n            background-color: #D71E28;\n            box-shadow: rgb(0 0 0 / 20%) 0px 3px 1px -2px, rgb(0 0 0 / 14%) 0px 2px 2px 0px, rgb(0 0 0 / 12%) 0px 1px 5px 0px;\n        }\n\n        .jp-OutputArea-output {\n            flex-grow: 1;\n            flex-shrink: 1;\n            margin: 0px;\n        }\n\n        .output_subarea {\n            padding: 0px !important;\n        }\n\n        .ptable, .pth, .ptd {\n            border: none;\n        }\n\n        .pth, .ptd {\n            max-width: 150px;\n            white-space: nowrap;\n            overflow: hidden;\n            -o-text-overflow: ellipsis;\n            -ms-text-overflow: ellipsis;\n            text-overflow: ellipsis;\n        }\n\n        .ptable {\n            display: table;\n            border-collapse: collapse;\n            border-spacing: 0;\n        }\n\n        .ptable.striped .ptr {\n            border-bottom: none;\n        }\n\n        .ptable.striped > .ptbody > .ptr:nth-child(odd) {\n            background-color: rgba(242, 242, 242, 0.5);\n        }\n\n        .ptable.striped > .ptbody > .ptr > .ptd {\n            border-radius: 0;\n        }\n\n        .ptable.highlight > .ptbody > .ptr {\n            -webkit-transition: background-color .25s ease;\n            transition: background-color .25s ease;\n        }\n\n        .ptable.highlight > .ptbody > .ptr:hover {\n            background-color: rgba(242, 242, 242, 0.5);\n        }\n\n        .ptable.centered .pthead .ptr .pth, .ptable.centered .ptbody .ptr .ptd {\n            text-align: center;\n        }\n\n        .ptr {\n            border-bottom: 1px solid rgba(0, 0, 0, 0.12);\n        }\n\n        .ptr.hightlight {\n            background-color: yellow !important;\n        }\n\n        .ptd, .pth {\n            padding: 0.2rem 0.6rem;\n            display: table-cell;\n            text-align: right;\n            vertical-align: middle;\n            border-radius: 2px;\n            position: relative;\n        }\n\n        .ptr.grey {\n            background-color: grey !important;\n        }\n\n        .ptr.strikeout .ptd:before {\n            content: \" \";\n            position: absolute;\n            top: 50%;\n            left: 0;\n            border-bottom: 1px solid #111;\n            width: 100%;\n        }\n\n        .widget-toggle-button {\n            display: inline-flex;\n            -webkit-box-align: center;\n            align-items: center;\n            -webkit-box-pack: center;\n            justify-content: center;\n            box-sizing: border-box;\n            -webkit-tap-highlight-color: transparent;\n            background-color: transparent !important;\n            outline: 0px;\n            border: 0px;\n            border-bottom: 2px solid #E4E4E4 !important;\n            box-shadow: none !important;\n            margin: 0px !important;\n            border-radius: 0px;\n            cursor: pointer;\n            user-select: none;\n            vertical-align: middle;\n            appearance: none;\n            text-decoration: none;\n            font-family: Roboto, Helvetica, Arial, sans-serif;\n            font-weight: 500;\n            font-size: 14px;\n            line-height: 1.25;\n            letter-spacing: 0.02857em;\n            max-width: 360px;\n            min-width: 90px;\n            position: relative;\n            min-height: 48px;\n            flex-shrink: 0;\n            padding: 12px 16px;\n            overflow: hidden;\n            white-space: normal;\n            text-align: center;\n            flex-direction: column;\n            color: rgba(0, 0, 0, 0.6);\n        }\n\n        .narrow-accordion .jupyter-widget-Accordion-child .jupyter-widget-Collapse-header{\n            padding: 5px;\n        }  \n\n        .mod-active {\n            color: rgb(25, 118, 210) !important;\n            border-bottom: 2px solid rgb(25, 118, 210) !important;\n        }\n\n        .narrow-tab button {\n            max-width: 15%;\n        }\n\n        .narrow-tab-fairness button {\n            max-width: 20%;\n        }\n        .narrow-tab-fs button {\n            max-width: 25%;\n        }\n\n        .overflow-fix .jupyter-widgets {\n            overflow: auto;\n        }\n\n        .inner-padding {\n            padding-top: 20px;\n        }\n\n        .fix-img img {\n            width: 100%;\n        }\n\n        .fix-img-half img {\n            width: 50%;\n        }\n\n        .flex-reverse-for-update-button {\n            flex-direction: row-reverse;\n            margin-right: 50px;\n        }\n\n        .data-summary-tab {\n            max-height: 400px;\n        }\n\n        .restricted_table_height {\n            max-height: 450px\n        }\n\n        .input-width-with-parent .widget-dropdown {\n            width: 100%;\n        }\n\n        .input-width-with-parent .widget-text {\n            width: 100%;\n        }\n\n        .no-margin {\n            margin: 0px;\n        }\n\n        .widget-hprogress label {\n            text-align: left;\n        }\n\n        .widget-dropdown label {\n            margin-right: 10px;\n        }\n\n        .form .widget-dropdown {\n            width: auto;\n        }\n\n        .form .widget-text {\n            width: auto;\n        }\n\n        .form p {\n            margin: 0px;\n        }\n\n        .widget-dropdown {\n            white-space: nowrap;\n            overflow: hidden;\n            -o-text-overflow: ellipsis;\n            -ms-text-overflow: ellipsis;\n            text-overflow: ellipsis;\n        }\n\n        .progress-train label {\n            margin-right: 10px;\n        }\n\n        select {\n            height: 97% !important;\n        }\n\n        .no-overflow {\n            overflow: none;\n        }\n\n        .split-btn button {\n            margin-bottom: 2px;\n        }\n\n        .register-btn {\n            width: 50%\n        }\n\n        .register-btn-colab {\n            width: 40%\n        }\n\n        .fix-config-from-overflow .jp-OutputArea-child {\n            display: inherit;\n        }\n        \n        .checkbox-center input[type=\"checkbox\"] {\n            vertical-align: middle;\n        }\n\n        input[type=\"checkbox\"] {\n            vertical-align: middle;\n        }\n\n        </style>\n        "
      }
     },
     "4ab86ccd03c8455c8d5e337ac59bfe06": {
      "model_module": "@jupyter-widgets/base",
      "model_module_version": "2.0.0",
      "model_name": "LayoutModel",
      "state": {
       "_model_module": "@jupyter-widgets/base",
       "_model_module_version": "2.0.0",
       "_model_name": "LayoutModel",
       "_view_count": null,
       "_view_module": "@jupyter-widgets/base",
       "_view_module_version": "2.0.0",
       "_view_name": "LayoutView",
       "align_content": null,
       "align_items": null,
       "align_self": null,
       "border_bottom": null,
       "border_left": null,
       "border_right": null,
       "border_top": null,
       "bottom": null,
       "display": null,
       "flex": null,
       "flex_flow": null,
       "grid_area": null,
       "grid_auto_columns": null,
       "grid_auto_flow": null,
       "grid_auto_rows": null,
       "grid_column": null,
       "grid_gap": null,
       "grid_row": null,
       "grid_template_areas": null,
       "grid_template_columns": null,
       "grid_template_rows": null,
       "height": null,
       "justify_content": null,
       "justify_items": null,
       "left": null,
       "margin": null,
       "max_height": null,
       "max_width": null,
       "min_height": null,
       "min_width": null,
       "object_fit": null,
       "object_position": null,
       "order": null,
       "overflow": null,
       "padding": null,
       "right": null,
       "top": null,
       "visibility": null,
       "width": null
      }
     },
     "50557b2bb2ca44c19444c1a3fceb2c57": {
      "model_module": "@jupyter-widgets/controls",
      "model_module_version": "2.0.0",
      "model_name": "HTMLStyleModel",
      "state": {
       "_model_module": "@jupyter-widgets/controls",
       "_model_module_version": "2.0.0",
       "_model_name": "HTMLStyleModel",
       "_view_count": null,
       "_view_module": "@jupyter-widgets/base",
       "_view_module_version": "2.0.0",
       "_view_name": "StyleView",
       "background": null,
       "description_width": "",
       "font_size": null,
       "text_color": null
      }
     },
     "7d773e2716434a0ead763d2e72cad233": {
      "model_module": "@jupyter-widgets/base",
      "model_module_version": "2.0.0",
      "model_name": "LayoutModel",
      "state": {
       "_model_module": "@jupyter-widgets/base",
       "_model_module_version": "2.0.0",
       "_model_name": "LayoutModel",
       "_view_count": null,
       "_view_module": "@jupyter-widgets/base",
       "_view_module_version": "2.0.0",
       "_view_name": "LayoutView",
       "align_content": null,
       "align_items": null,
       "align_self": null,
       "border_bottom": null,
       "border_left": null,
       "border_right": null,
       "border_top": null,
       "bottom": null,
       "display": null,
       "flex": null,
       "flex_flow": null,
       "grid_area": null,
       "grid_auto_columns": null,
       "grid_auto_flow": null,
       "grid_auto_rows": null,
       "grid_column": null,
       "grid_gap": null,
       "grid_row": null,
       "grid_template_areas": null,
       "grid_template_columns": null,
       "grid_template_rows": null,
       "height": null,
       "justify_content": null,
       "justify_items": null,
       "left": null,
       "margin": null,
       "max_height": null,
       "max_width": null,
       "min_height": null,
       "min_width": null,
       "object_fit": null,
       "object_position": null,
       "order": null,
       "overflow": null,
       "padding": null,
       "right": null,
       "top": null,
       "visibility": null,
       "width": null
      }
     },
     "81094db8e12c42bbbca1e52ff54be6ed": {
      "model_module": "@jupyter-widgets/base",
      "model_module_version": "2.0.0",
      "model_name": "LayoutModel",
      "state": {
       "_model_module": "@jupyter-widgets/base",
       "_model_module_version": "2.0.0",
       "_model_name": "LayoutModel",
       "_view_count": null,
       "_view_module": "@jupyter-widgets/base",
       "_view_module_version": "2.0.0",
       "_view_name": "LayoutView",
       "align_content": null,
       "align_items": null,
       "align_self": null,
       "border_bottom": null,
       "border_left": null,
       "border_right": null,
       "border_top": null,
       "bottom": null,
       "display": null,
       "flex": null,
       "flex_flow": null,
       "grid_area": null,
       "grid_auto_columns": null,
       "grid_auto_flow": null,
       "grid_auto_rows": null,
       "grid_column": null,
       "grid_gap": null,
       "grid_row": null,
       "grid_template_areas": null,
       "grid_template_columns": null,
       "grid_template_rows": null,
       "height": null,
       "justify_content": null,
       "justify_items": null,
       "left": null,
       "margin": null,
       "max_height": null,
       "max_width": null,
       "min_height": null,
       "min_width": null,
       "object_fit": null,
       "object_position": null,
       "order": null,
       "overflow": null,
       "padding": null,
       "right": null,
       "top": null,
       "visibility": null,
       "width": null
      }
     },
     "85e5fc2bc0bb454f8e9eef4c7c385f76": {
      "model_module": "@jupyter-widgets/base",
      "model_module_version": "2.0.0",
      "model_name": "LayoutModel",
      "state": {
       "_model_module": "@jupyter-widgets/base",
       "_model_module_version": "2.0.0",
       "_model_name": "LayoutModel",
       "_view_count": null,
       "_view_module": "@jupyter-widgets/base",
       "_view_module_version": "2.0.0",
       "_view_name": "LayoutView",
       "align_content": null,
       "align_items": null,
       "align_self": null,
       "border_bottom": null,
       "border_left": null,
       "border_right": null,
       "border_top": null,
       "bottom": null,
       "display": null,
       "flex": null,
       "flex_flow": null,
       "grid_area": null,
       "grid_auto_columns": null,
       "grid_auto_flow": null,
       "grid_auto_rows": null,
       "grid_column": null,
       "grid_gap": null,
       "grid_row": null,
       "grid_template_areas": null,
       "grid_template_columns": null,
       "grid_template_rows": null,
       "height": null,
       "justify_content": null,
       "justify_items": null,
       "left": null,
       "margin": null,
       "max_height": null,
       "max_width": null,
       "min_height": null,
       "min_width": null,
       "object_fit": null,
       "object_position": null,
       "order": null,
       "overflow": null,
       "padding": null,
       "right": null,
       "top": null,
       "visibility": null,
       "width": null
      }
     },
     "9843caa7f418404f9e3d6649dd70230e": {
      "model_module": "@jupyter-widgets/controls",
      "model_module_version": "2.0.0",
      "model_name": "HTMLStyleModel",
      "state": {
       "_model_module": "@jupyter-widgets/controls",
       "_model_module_version": "2.0.0",
       "_model_name": "HTMLStyleModel",
       "_view_count": null,
       "_view_module": "@jupyter-widgets/base",
       "_view_module_version": "2.0.0",
       "_view_name": "StyleView",
       "background": null,
       "description_width": "",
       "font_size": null,
       "text_color": null
      }
     },
     "c9410607897142b5aa1f53d6dbbbf2ba": {
      "model_module": "@jupyter-widgets/controls",
      "model_module_version": "2.0.0",
      "model_name": "HTMLModel",
      "state": {
       "_dom_classes": [],
       "_model_module": "@jupyter-widgets/controls",
       "_model_module_version": "2.0.0",
       "_model_name": "HTMLModel",
       "_view_count": null,
       "_view_module": "@jupyter-widgets/controls",
       "_view_module_version": "2.0.0",
       "_view_name": "HTMLView",
       "description": "",
       "description_allow_html": false,
       "layout": "IPY_MODEL_81094db8e12c42bbbca1e52ff54be6ed",
       "placeholder": "​",
       "style": "IPY_MODEL_d7497e6f221e4365b7b4789ecb2be3ac",
       "tabbable": null,
       "tooltip": null,
       "value": "\n        <style>\n\n        .left-label {\n            width: 30%;\n        }\n\n        .card-panel {\n            -webkit-transition: -webkit-box-shadow .25s;\n            transition: -webkit-box-shadow .25s;\n            transition: box-shadow .25s;\n            transition: box-shadow .25s, -webkit-box-shadow .25s;\n            padding: 24px;\n            margin: 0.5rem 0 1rem 0;\n            border-radius: 2px;\n            background-color: #fff;\n        }\n\n        .card {\n            position: relative;\n            margin: 0.5rem 0.1rem 1rem 0.2rem;\n            background-color: #fff;\n            -webkit-transition: -webkit-box-shadow .25s;\n            transition: -webkit-box-shadow .25s;\n            transition: box-shadow .25s;\n            transition: box-shadow .25s, -webkit-box-shadow .25s;\n            border-radius: 2px;\n            box-shadow: 0 2px 2px 0 rgb(0 0 0 / 14%), 0 3px 1px -2px rgb(0 0 0 / 12%), 0 1px 5px 0 rgb(0 0 0 / 20%);\n            padding: 24px;\n            color: white;\n        }\n\n        .card .card-title {\n            font-size: 24px;\n            font-weight: 300;\n        }\n\n        @media only screen and (min-width: 800px) {\n            /* For notebook: */\n            .card {width: 99% !important;}\n        }\n\n        @media only screen and (min-width: 1400px) {\n            /* For colab: */\n            .card {width: 99% !important;}\n        }\n\n        .blue-grey.darken-1 {\n            background-color: #546e7a !important;\n        }\n\n        .small-card {\n            position: relative;\n            margin: 0.5rem 0 1rem 0;\n            background-color: #fff;\n            -webkit-transition: -webkit-box-shadow .25s;\n            transition: -webkit-box-shadow .25s;\n            transition: box-shadow .25s;\n            transition: box-shadow .25s, -webkit-box-shadow .25s;\n            border-radius: 2px;\n            box-shadow: 0 2px 2px 0 rgb(0 0 0 / 14%), 0 3px 1px -2px rgb(0 0 0 / 12%), 0 1px 5px 0 rgb(0 0 0 / 20%);\n            padding: 0px 5px 0px 5px;\n            color: white;\n        }\n\n        .inner-card {\n            position: relative;\n            background-color: #fff;\n            -webkit-transition: -webkit-box-shadow .25s;\n            transition: -webkit-box-shadow .25s;\n            transition: box-shadow .25s;\n            transition: box-shadow .25s, -webkit-box-shadow .25s;\n            border-radius: 2px;\n            box-shadow: 0 2px 2px 0 rgb(0 0 0 / 14%), 0 3px 1px -2px rgb(0 0 0 / 12%), 0 1px 5px 0 rgb(0 0 0 / 20%);\n            padding: 20px;\n            color: white;\n            margin: 0px 1px 1px 1px;\n        }\n\n        .card-with-tab {\n            position: relative;\n            margin: 0.5rem 0.1rem 1rem 0.2rem;\n            background-color: #fff;\n            -webkit-transition: -webkit-box-shadow .25s;\n            transition: -webkit-box-shadow .25s;\n            transition: box-shadow .25s;\n            transition: box-shadow .25s, -webkit-box-shadow .25s;\n            border-radius: 2px;\n            box-shadow: 0 2px 2px 0 rgb(0 0 0 / 14%), 0 3px 1px -2px rgb(0 0 0 / 12%), 0 1px 5px 0 rgb(0 0 0 / 20%);\n            padding: 24px;\n            color: white;\n        }\n\n        .card-with-tab button {\n            width: auto;\n            padding: 12px 40px;\n        }\n\n        .list {\n            padding: 0px 10px;\n            box-shadow: 0 2px 2px 0 rgb(0 0 0 / 14%), 0 3px 1px -2px rgb(0 0 0 / 12%), 0 1px 5px 0 rgb(0 0 0 / 20%);\n            margin: 0px 1px 60px 1px;\n        }\n\n        .list-item {\n            padding: 10px 0px;\n            border-width: 0;\n            border-style: solid;\n            border-color: rgba(0, 0, 0, 0.08);\n            border-bottom-width: thin;\n        }\n\n        .divider {\n            margin: 10px 0px;\n            border-width: 0;\n            border-style: solid;\n            border-color: rgba(0, 0, 0, 0.08);\n            border-bottom-width: thin;\n        }\n\n        .hr {\n            margin: 0;\n            -webkit-flex-shrink: 0;\n            -ms-flex-negative: 0;\n            flex-shrink: 0;\n            border-width: 0;\n            border-style: solid;\n            border-color: rgba(0, 0, 0, 0.08);\n            border-bottom-width: thin;\n        }\n\n        .notification {\n            transition: box-shadow 300ms cubic-bezier(0.4, 0, 0.2, 1) 0ms;\n            border-radius: 4px;\n            box-shadow: 0 2px 2px 0 rgb(0 0 0 / 14%), 0 3px 1px -2px rgb(0 0 0 / 12%), 0 1px 5px 0 rgb(0 0 0 / 20%);\n            font-family: Roboto, Helvetica, Arial, sans-serif;\n            font-weight: 500;\n            font-size: 12px;\n            line-height: 1.43;\n            letter-spacing: 0.01071em;\n            background-color: rgb(2, 136, 209);\n            display: flex;\n            padding: 6px 16px;\n            color: rgb(255, 255, 255);\n            margin-top: 10px;\n        }\n\n        .success {\n            background-color: #EDF7ED;\n            color: #1E4620;\n        }\n\n        .error {\n            background-color: #FDEDED;\n            color: #5F2120;\n        }\n\n        .info {\n            background-color: #E5F6FD;\n            color: #528298;\n        }\n\n        .warn {\n            background-color: #FFF4E5;\n            color: #663C00;\n        }\n\n        .margin-top-20 {\n            margin-top: 20px;\n        }\n\n        .hide {\n            display: none;\n        }\n\n        .pbtn {\n            display: inline-flex;\n            -webkit-box-align: center;\n            align-items: center;\n            -webkit-box-pack: center;\n            justify-content: center;\n            position: relative;\n            box-sizing: border-box;\n            -webkit-tap-highlight-color: transparent;\n            outline: 0px;\n            border: 0px;\n            margin: 0px;\n            cursor: pointer;\n            user-select: none;\n            vertical-align: middle;\n            appearance: none;\n            text-decoration: none;\n            font-family: Roboto, Helvetica, Arial, sans-serif;\n            font-weight: 550;\n            font-size: 12px;\n            line-height: 1.75;\n            letter-spacing: 0.02857em;\n            text-transform: uppercase;\n            min-width: 64px;\n            padding: 6px 16px;\n            border-radius: 4px;\n            transition: background-color 250ms cubic-bezier(0.4, 0, 0.2, 1) 0ms, box-shadow 250ms cubic-bezier(0.4, 0, 0.2, 1) 0ms, border-color 250ms cubic-bezier(0.4, 0, 0.2, 1) 0ms, color 250ms cubic-bezier(0.4, 0, 0.2, 1) 0ms;\n            color: rgb(255, 255, 255);\n            background-color: #D71E28;\n            box-shadow: rgb(0 0 0 / 20%) 0px 3px 1px -2px, rgb(0 0 0 / 14%) 0px 2px 2px 0px, rgb(0 0 0 / 12%) 0px 1px 5px 0px;\n        }\n\n        .jp-OutputArea-output {\n            flex-grow: 1;\n            flex-shrink: 1;\n            margin: 0px;\n        }\n\n        .output_subarea {\n            padding: 0px !important;\n        }\n\n        .ptable, .pth, .ptd {\n            border: none;\n        }\n\n        .pth, .ptd {\n            max-width: 150px;\n            white-space: nowrap;\n            overflow: hidden;\n            -o-text-overflow: ellipsis;\n            -ms-text-overflow: ellipsis;\n            text-overflow: ellipsis;\n        }\n\n        .ptable {\n            display: table;\n            border-collapse: collapse;\n            border-spacing: 0;\n        }\n\n        .ptable.striped .ptr {\n            border-bottom: none;\n        }\n\n        .ptable.striped > .ptbody > .ptr:nth-child(odd) {\n            background-color: rgba(242, 242, 242, 0.5);\n        }\n\n        .ptable.striped > .ptbody > .ptr > .ptd {\n            border-radius: 0;\n        }\n\n        .ptable.highlight > .ptbody > .ptr {\n            -webkit-transition: background-color .25s ease;\n            transition: background-color .25s ease;\n        }\n\n        .ptable.highlight > .ptbody > .ptr:hover {\n            background-color: rgba(242, 242, 242, 0.5);\n        }\n\n        .ptable.centered .pthead .ptr .pth, .ptable.centered .ptbody .ptr .ptd {\n            text-align: center;\n        }\n\n        .ptr {\n            border-bottom: 1px solid rgba(0, 0, 0, 0.12);\n        }\n\n        .ptr.hightlight {\n            background-color: yellow !important;\n        }\n\n        .ptd, .pth {\n            padding: 0.2rem 0.6rem;\n            display: table-cell;\n            text-align: right;\n            vertical-align: middle;\n            border-radius: 2px;\n            position: relative;\n        }\n\n        .ptr.grey {\n            background-color: grey !important;\n        }\n\n        .ptr.strikeout .ptd:before {\n            content: \" \";\n            position: absolute;\n            top: 50%;\n            left: 0;\n            border-bottom: 1px solid #111;\n            width: 100%;\n        }\n\n        .widget-toggle-button {\n            display: inline-flex;\n            -webkit-box-align: center;\n            align-items: center;\n            -webkit-box-pack: center;\n            justify-content: center;\n            box-sizing: border-box;\n            -webkit-tap-highlight-color: transparent;\n            background-color: transparent !important;\n            outline: 0px;\n            border: 0px;\n            border-bottom: 2px solid #E4E4E4 !important;\n            box-shadow: none !important;\n            margin: 0px !important;\n            border-radius: 0px;\n            cursor: pointer;\n            user-select: none;\n            vertical-align: middle;\n            appearance: none;\n            text-decoration: none;\n            font-family: Roboto, Helvetica, Arial, sans-serif;\n            font-weight: 500;\n            font-size: 14px;\n            line-height: 1.25;\n            letter-spacing: 0.02857em;\n            max-width: 360px;\n            min-width: 90px;\n            position: relative;\n            min-height: 48px;\n            flex-shrink: 0;\n            padding: 12px 16px;\n            overflow: hidden;\n            white-space: normal;\n            text-align: center;\n            flex-direction: column;\n            color: rgba(0, 0, 0, 0.6);\n        }\n\n        .narrow-accordion .jupyter-widget-Accordion-child .jupyter-widget-Collapse-header{\n            padding: 5px;\n        }  \n\n        .mod-active {\n            color: rgb(25, 118, 210) !important;\n            border-bottom: 2px solid rgb(25, 118, 210) !important;\n        }\n\n        .narrow-tab button {\n            max-width: 15%;\n        }\n\n        .narrow-tab-fairness button {\n            max-width: 20%;\n        }\n        .narrow-tab-fs button {\n            max-width: 25%;\n        }\n\n        .overflow-fix .jupyter-widgets {\n            overflow: auto;\n        }\n\n        .inner-padding {\n            padding-top: 20px;\n        }\n\n        .fix-img img {\n            width: 100%;\n        }\n\n        .fix-img-half img {\n            width: 50%;\n        }\n\n        .flex-reverse-for-update-button {\n            flex-direction: row-reverse;\n            margin-right: 50px;\n        }\n\n        .data-summary-tab {\n            max-height: 400px;\n        }\n\n        .restricted_table_height {\n            max-height: 450px\n        }\n\n        .input-width-with-parent .widget-dropdown {\n            width: 100%;\n        }\n\n        .input-width-with-parent .widget-text {\n            width: 100%;\n        }\n\n        .no-margin {\n            margin: 0px;\n        }\n\n        .widget-hprogress label {\n            text-align: left;\n        }\n\n        .widget-dropdown label {\n            margin-right: 10px;\n        }\n\n        .form .widget-dropdown {\n            width: auto;\n        }\n\n        .form .widget-text {\n            width: auto;\n        }\n\n        .form p {\n            margin: 0px;\n        }\n\n        .widget-dropdown {\n            white-space: nowrap;\n            overflow: hidden;\n            -o-text-overflow: ellipsis;\n            -ms-text-overflow: ellipsis;\n            text-overflow: ellipsis;\n        }\n\n        .progress-train label {\n            margin-right: 10px;\n        }\n\n        select {\n            height: 97% !important;\n        }\n\n        .no-overflow {\n            overflow: none;\n        }\n\n        .split-btn button {\n            margin-bottom: 2px;\n        }\n\n        .register-btn {\n            width: 50%\n        }\n\n        .register-btn-colab {\n            width: 40%\n        }\n\n        .fix-config-from-overflow .jp-OutputArea-child {\n            display: inherit;\n        }\n        \n        .checkbox-center input[type=\"checkbox\"] {\n            vertical-align: middle;\n        }\n\n        input[type=\"checkbox\"] {\n            vertical-align: middle;\n        }\n\n        </style>\n        "
      }
     },
     "cfff723a86644f088404c0e2de19f401": {
      "model_module": "@jupyter-widgets/controls",
      "model_module_version": "2.0.0",
      "model_name": "HTMLStyleModel",
      "state": {
       "_model_module": "@jupyter-widgets/controls",
       "_model_module_version": "2.0.0",
       "_model_name": "HTMLStyleModel",
       "_view_count": null,
       "_view_module": "@jupyter-widgets/base",
       "_view_module_version": "2.0.0",
       "_view_name": "StyleView",
       "background": null,
       "description_width": "",
       "font_size": null,
       "text_color": null
      }
     },
     "d7497e6f221e4365b7b4789ecb2be3ac": {
      "model_module": "@jupyter-widgets/controls",
      "model_module_version": "2.0.0",
      "model_name": "HTMLStyleModel",
      "state": {
       "_model_module": "@jupyter-widgets/controls",
       "_model_module_version": "2.0.0",
       "_model_name": "HTMLStyleModel",
       "_view_count": null,
       "_view_module": "@jupyter-widgets/base",
       "_view_module_version": "2.0.0",
       "_view_name": "StyleView",
       "background": null,
       "description_width": "",
       "font_size": null,
       "text_color": null
      }
     },
     "ec493bfa0ed04c029b612ac6f2e0d830": {
      "model_module": "@jupyter-widgets/controls",
      "model_module_version": "2.0.0",
      "model_name": "HTMLModel",
      "state": {
       "_dom_classes": [],
       "_model_module": "@jupyter-widgets/controls",
       "_model_module_version": "2.0.0",
       "_model_name": "HTMLModel",
       "_view_count": null,
       "_view_module": "@jupyter-widgets/controls",
       "_view_module_version": "2.0.0",
       "_view_name": "HTMLView",
       "description": "",
       "description_allow_html": false,
       "layout": "IPY_MODEL_4ab86ccd03c8455c8d5e337ac59bfe06",
       "placeholder": "​",
       "style": "IPY_MODEL_9843caa7f418404f9e3d6649dd70230e",
       "tabbable": null,
       "tooltip": null,
       "value": "\n        <style>\n\n        .left-label {\n            width: 30%;\n        }\n\n        .card-panel {\n            -webkit-transition: -webkit-box-shadow .25s;\n            transition: -webkit-box-shadow .25s;\n            transition: box-shadow .25s;\n            transition: box-shadow .25s, -webkit-box-shadow .25s;\n            padding: 24px;\n            margin: 0.5rem 0 1rem 0;\n            border-radius: 2px;\n            background-color: #fff;\n        }\n\n        .card {\n            position: relative;\n            margin: 0.5rem 0.1rem 1rem 0.2rem;\n            background-color: #fff;\n            -webkit-transition: -webkit-box-shadow .25s;\n            transition: -webkit-box-shadow .25s;\n            transition: box-shadow .25s;\n            transition: box-shadow .25s, -webkit-box-shadow .25s;\n            border-radius: 2px;\n            box-shadow: 0 2px 2px 0 rgb(0 0 0 / 14%), 0 3px 1px -2px rgb(0 0 0 / 12%), 0 1px 5px 0 rgb(0 0 0 / 20%);\n            padding: 24px;\n            color: white;\n        }\n\n        .card .card-title {\n            font-size: 24px;\n            font-weight: 300;\n        }\n\n        @media only screen and (min-width: 800px) {\n            /* For notebook: */\n            .card {width: 99% !important;}\n        }\n\n        @media only screen and (min-width: 1400px) {\n            /* For colab: */\n            .card {width: 99% !important;}\n        }\n\n        .blue-grey.darken-1 {\n            background-color: #546e7a !important;\n        }\n\n        .small-card {\n            position: relative;\n            margin: 0.5rem 0 1rem 0;\n            background-color: #fff;\n            -webkit-transition: -webkit-box-shadow .25s;\n            transition: -webkit-box-shadow .25s;\n            transition: box-shadow .25s;\n            transition: box-shadow .25s, -webkit-box-shadow .25s;\n            border-radius: 2px;\n            box-shadow: 0 2px 2px 0 rgb(0 0 0 / 14%), 0 3px 1px -2px rgb(0 0 0 / 12%), 0 1px 5px 0 rgb(0 0 0 / 20%);\n            padding: 0px 5px 0px 5px;\n            color: white;\n        }\n\n        .inner-card {\n            position: relative;\n            background-color: #fff;\n            -webkit-transition: -webkit-box-shadow .25s;\n            transition: -webkit-box-shadow .25s;\n            transition: box-shadow .25s;\n            transition: box-shadow .25s, -webkit-box-shadow .25s;\n            border-radius: 2px;\n            box-shadow: 0 2px 2px 0 rgb(0 0 0 / 14%), 0 3px 1px -2px rgb(0 0 0 / 12%), 0 1px 5px 0 rgb(0 0 0 / 20%);\n            padding: 20px;\n            color: white;\n            margin: 0px 1px 1px 1px;\n        }\n\n        .card-with-tab {\n            position: relative;\n            margin: 0.5rem 0.1rem 1rem 0.2rem;\n            background-color: #fff;\n            -webkit-transition: -webkit-box-shadow .25s;\n            transition: -webkit-box-shadow .25s;\n            transition: box-shadow .25s;\n            transition: box-shadow .25s, -webkit-box-shadow .25s;\n            border-radius: 2px;\n            box-shadow: 0 2px 2px 0 rgb(0 0 0 / 14%), 0 3px 1px -2px rgb(0 0 0 / 12%), 0 1px 5px 0 rgb(0 0 0 / 20%);\n            padding: 24px;\n            color: white;\n        }\n\n        .card-with-tab button {\n            width: auto;\n            padding: 12px 40px;\n        }\n\n        .list {\n            padding: 0px 10px;\n            box-shadow: 0 2px 2px 0 rgb(0 0 0 / 14%), 0 3px 1px -2px rgb(0 0 0 / 12%), 0 1px 5px 0 rgb(0 0 0 / 20%);\n            margin: 0px 1px 60px 1px;\n        }\n\n        .list-item {\n            padding: 10px 0px;\n            border-width: 0;\n            border-style: solid;\n            border-color: rgba(0, 0, 0, 0.08);\n            border-bottom-width: thin;\n        }\n\n        .divider {\n            margin: 10px 0px;\n            border-width: 0;\n            border-style: solid;\n            border-color: rgba(0, 0, 0, 0.08);\n            border-bottom-width: thin;\n        }\n\n        .hr {\n            margin: 0;\n            -webkit-flex-shrink: 0;\n            -ms-flex-negative: 0;\n            flex-shrink: 0;\n            border-width: 0;\n            border-style: solid;\n            border-color: rgba(0, 0, 0, 0.08);\n            border-bottom-width: thin;\n        }\n\n        .notification {\n            transition: box-shadow 300ms cubic-bezier(0.4, 0, 0.2, 1) 0ms;\n            border-radius: 4px;\n            box-shadow: 0 2px 2px 0 rgb(0 0 0 / 14%), 0 3px 1px -2px rgb(0 0 0 / 12%), 0 1px 5px 0 rgb(0 0 0 / 20%);\n            font-family: Roboto, Helvetica, Arial, sans-serif;\n            font-weight: 500;\n            font-size: 12px;\n            line-height: 1.43;\n            letter-spacing: 0.01071em;\n            background-color: rgb(2, 136, 209);\n            display: flex;\n            padding: 6px 16px;\n            color: rgb(255, 255, 255);\n            margin-top: 10px;\n        }\n\n        .success {\n            background-color: #EDF7ED;\n            color: #1E4620;\n        }\n\n        .error {\n            background-color: #FDEDED;\n            color: #5F2120;\n        }\n\n        .info {\n            background-color: #E5F6FD;\n            color: #528298;\n        }\n\n        .warn {\n            background-color: #FFF4E5;\n            color: #663C00;\n        }\n\n        .margin-top-20 {\n            margin-top: 20px;\n        }\n\n        .hide {\n            display: none;\n        }\n\n        .pbtn {\n            display: inline-flex;\n            -webkit-box-align: center;\n            align-items: center;\n            -webkit-box-pack: center;\n            justify-content: center;\n            position: relative;\n            box-sizing: border-box;\n            -webkit-tap-highlight-color: transparent;\n            outline: 0px;\n            border: 0px;\n            margin: 0px;\n            cursor: pointer;\n            user-select: none;\n            vertical-align: middle;\n            appearance: none;\n            text-decoration: none;\n            font-family: Roboto, Helvetica, Arial, sans-serif;\n            font-weight: 550;\n            font-size: 12px;\n            line-height: 1.75;\n            letter-spacing: 0.02857em;\n            text-transform: uppercase;\n            min-width: 64px;\n            padding: 6px 16px;\n            border-radius: 4px;\n            transition: background-color 250ms cubic-bezier(0.4, 0, 0.2, 1) 0ms, box-shadow 250ms cubic-bezier(0.4, 0, 0.2, 1) 0ms, border-color 250ms cubic-bezier(0.4, 0, 0.2, 1) 0ms, color 250ms cubic-bezier(0.4, 0, 0.2, 1) 0ms;\n            color: rgb(255, 255, 255);\n            background-color: #D71E28;\n            box-shadow: rgb(0 0 0 / 20%) 0px 3px 1px -2px, rgb(0 0 0 / 14%) 0px 2px 2px 0px, rgb(0 0 0 / 12%) 0px 1px 5px 0px;\n        }\n\n        .jp-OutputArea-output {\n            flex-grow: 1;\n            flex-shrink: 1;\n            margin: 0px;\n        }\n\n        .output_subarea {\n            padding: 0px !important;\n        }\n\n        .ptable, .pth, .ptd {\n            border: none;\n        }\n\n        .pth, .ptd {\n            max-width: 150px;\n            white-space: nowrap;\n            overflow: hidden;\n            -o-text-overflow: ellipsis;\n            -ms-text-overflow: ellipsis;\n            text-overflow: ellipsis;\n        }\n\n        .ptable {\n            display: table;\n            border-collapse: collapse;\n            border-spacing: 0;\n        }\n\n        .ptable.striped .ptr {\n            border-bottom: none;\n        }\n\n        .ptable.striped > .ptbody > .ptr:nth-child(odd) {\n            background-color: rgba(242, 242, 242, 0.5);\n        }\n\n        .ptable.striped > .ptbody > .ptr > .ptd {\n            border-radius: 0;\n        }\n\n        .ptable.highlight > .ptbody > .ptr {\n            -webkit-transition: background-color .25s ease;\n            transition: background-color .25s ease;\n        }\n\n        .ptable.highlight > .ptbody > .ptr:hover {\n            background-color: rgba(242, 242, 242, 0.5);\n        }\n\n        .ptable.centered .pthead .ptr .pth, .ptable.centered .ptbody .ptr .ptd {\n            text-align: center;\n        }\n\n        .ptr {\n            border-bottom: 1px solid rgba(0, 0, 0, 0.12);\n        }\n\n        .ptr.hightlight {\n            background-color: yellow !important;\n        }\n\n        .ptd, .pth {\n            padding: 0.2rem 0.6rem;\n            display: table-cell;\n            text-align: right;\n            vertical-align: middle;\n            border-radius: 2px;\n            position: relative;\n        }\n\n        .ptr.grey {\n            background-color: grey !important;\n        }\n\n        .ptr.strikeout .ptd:before {\n            content: \" \";\n            position: absolute;\n            top: 50%;\n            left: 0;\n            border-bottom: 1px solid #111;\n            width: 100%;\n        }\n\n        .widget-toggle-button {\n            display: inline-flex;\n            -webkit-box-align: center;\n            align-items: center;\n            -webkit-box-pack: center;\n            justify-content: center;\n            box-sizing: border-box;\n            -webkit-tap-highlight-color: transparent;\n            background-color: transparent !important;\n            outline: 0px;\n            border: 0px;\n            border-bottom: 2px solid #E4E4E4 !important;\n            box-shadow: none !important;\n            margin: 0px !important;\n            border-radius: 0px;\n            cursor: pointer;\n            user-select: none;\n            vertical-align: middle;\n            appearance: none;\n            text-decoration: none;\n            font-family: Roboto, Helvetica, Arial, sans-serif;\n            font-weight: 500;\n            font-size: 14px;\n            line-height: 1.25;\n            letter-spacing: 0.02857em;\n            max-width: 360px;\n            min-width: 90px;\n            position: relative;\n            min-height: 48px;\n            flex-shrink: 0;\n            padding: 12px 16px;\n            overflow: hidden;\n            white-space: normal;\n            text-align: center;\n            flex-direction: column;\n            color: rgba(0, 0, 0, 0.6);\n        }\n\n        .narrow-accordion .jupyter-widget-Accordion-child .jupyter-widget-Collapse-header{\n            padding: 5px;\n        }  \n\n        .mod-active {\n            color: rgb(25, 118, 210) !important;\n            border-bottom: 2px solid rgb(25, 118, 210) !important;\n        }\n\n        .narrow-tab button {\n            max-width: 15%;\n        }\n\n        .narrow-tab-fairness button {\n            max-width: 20%;\n        }\n        .narrow-tab-fs button {\n            max-width: 25%;\n        }\n\n        .overflow-fix .jupyter-widgets {\n            overflow: auto;\n        }\n\n        .inner-padding {\n            padding-top: 20px;\n        }\n\n        .fix-img img {\n            width: 100%;\n        }\n\n        .fix-img-half img {\n            width: 50%;\n        }\n\n        .flex-reverse-for-update-button {\n            flex-direction: row-reverse;\n            margin-right: 50px;\n        }\n\n        .data-summary-tab {\n            max-height: 400px;\n        }\n\n        .restricted_table_height {\n            max-height: 450px\n        }\n\n        .input-width-with-parent .widget-dropdown {\n            width: 100%;\n        }\n\n        .input-width-with-parent .widget-text {\n            width: 100%;\n        }\n\n        .no-margin {\n            margin: 0px;\n        }\n\n        .widget-hprogress label {\n            text-align: left;\n        }\n\n        .widget-dropdown label {\n            margin-right: 10px;\n        }\n\n        .form .widget-dropdown {\n            width: auto;\n        }\n\n        .form .widget-text {\n            width: auto;\n        }\n\n        .form p {\n            margin: 0px;\n        }\n\n        .widget-dropdown {\n            white-space: nowrap;\n            overflow: hidden;\n            -o-text-overflow: ellipsis;\n            -ms-text-overflow: ellipsis;\n            text-overflow: ellipsis;\n        }\n\n        .progress-train label {\n            margin-right: 10px;\n        }\n\n        select {\n            height: 97% !important;\n        }\n\n        .no-overflow {\n            overflow: none;\n        }\n\n        .split-btn button {\n            margin-bottom: 2px;\n        }\n\n        .register-btn {\n            width: 50%\n        }\n\n        .register-btn-colab {\n            width: 40%\n        }\n\n        .fix-config-from-overflow .jp-OutputArea-child {\n            display: inherit;\n        }\n        \n        .checkbox-center input[type=\"checkbox\"] {\n            vertical-align: middle;\n        }\n\n        input[type=\"checkbox\"] {\n            vertical-align: middle;\n        }\n\n        </style>\n        "
      }
     },
     "f3574447260f405cae6678e6f61d9f51": {
      "model_module": "@jupyter-widgets/base",
      "model_module_version": "2.0.0",
      "model_name": "LayoutModel",
      "state": {
       "_model_module": "@jupyter-widgets/base",
       "_model_module_version": "2.0.0",
       "_model_name": "LayoutModel",
       "_view_count": null,
       "_view_module": "@jupyter-widgets/base",
       "_view_module_version": "2.0.0",
       "_view_name": "LayoutView",
       "align_content": null,
       "align_items": null,
       "align_self": null,
       "border_bottom": null,
       "border_left": null,
       "border_right": null,
       "border_top": null,
       "bottom": null,
       "display": null,
       "flex": null,
       "flex_flow": null,
       "grid_area": null,
       "grid_auto_columns": null,
       "grid_auto_flow": null,
       "grid_auto_rows": null,
       "grid_column": null,
       "grid_gap": null,
       "grid_row": null,
       "grid_template_areas": null,
       "grid_template_columns": null,
       "grid_template_rows": null,
       "height": null,
       "justify_content": null,
       "justify_items": null,
       "left": null,
       "margin": null,
       "max_height": null,
       "max_width": null,
       "min_height": null,
       "min_width": null,
       "object_fit": null,
       "object_position": null,
       "order": null,
       "overflow": null,
       "padding": null,
       "right": null,
       "top": null,
       "visibility": null,
       "width": null
      }
     },
     "fb3db3c6586148c59bc6adaabab1ca4d": {
      "model_module": "@jupyter-widgets/controls",
      "model_module_version": "2.0.0",
      "model_name": "HTMLStyleModel",
      "state": {
       "_model_module": "@jupyter-widgets/controls",
       "_model_module_version": "2.0.0",
       "_model_name": "HTMLStyleModel",
       "_view_count": null,
       "_view_module": "@jupyter-widgets/base",
       "_view_module_version": "2.0.0",
       "_view_name": "StyleView",
       "background": null,
       "description_width": "",
       "font_size": null,
       "text_color": null
      }
     }
    },
    "version_major": 2,
    "version_minor": 0
   }
  }
 },
 "nbformat": 4,
 "nbformat_minor": 5
}