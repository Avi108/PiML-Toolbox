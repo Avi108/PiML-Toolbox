{
 "cells": [
  {
   "cell_type": "code",
   "execution_count": null,
   "id": "9768770c",
   "metadata": {},
   "outputs": [],
   "source": [
    "custom_train_idx = np.arange(0,16000)\n",
    "custom_test_idx = np.arange(16000, 17379)\n",
    "exp.data_prepare(train_idx=custom_train_idx, test_idx=custom_test_idx)"
   ]
  },
  {
   "cell_type": "code",
   "execution_count": null,
   "id": "6faacbe6",
   "metadata": {},
   "outputs": [],
   "source": [
    "exp.data_prepare(target='cnt', task_type='Regression', sample_weight=None,\n",
    "                 split_method='random', test_ratio=0.2, random_state=0)"
   ]
  }
 ],
 "metadata": {
  "kernelspec": {
   "display_name": "Python 3",
   "language": "python",
   "name": "python3"
  },
  "language_info": {
   "codemirror_mode": {
    "name": "ipython",
    "version": 3
   },
   "file_extension": ".py",
   "mimetype": "text/x-python",
   "name": "python",
   "nbconvert_exporter": "python",
   "pygments_lexer": "ipython3",
   "version": "3.9.12"
  }
 },
 "nbformat": 4,
 "nbformat_minor": 5
}