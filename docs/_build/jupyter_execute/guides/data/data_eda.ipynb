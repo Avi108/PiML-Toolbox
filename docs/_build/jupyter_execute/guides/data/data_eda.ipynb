{
 "cells": [
  {
   "cell_type": "code",
   "execution_count": null,
   "id": "ca48f759",
   "metadata": {},
   "outputs": [],
   "source": [
    "exp.eda(show='univariate', uni_feature='cnt', figsize=(5, 4))"
   ]
  },
  {
   "cell_type": "code",
   "execution_count": null,
   "id": "f758f5e0",
   "metadata": {},
   "outputs": [],
   "source": [
    "exp.eda(show='univariate', uni_feature='yr', figsize=(5, 4))"
   ]
  },
  {
   "cell_type": "code",
   "execution_count": null,
   "id": "ce082514",
   "metadata": {},
   "outputs": [],
   "source": [
    "exp.eda(show='bivariate', bi_features=['temp', 'cnt'], figsize=(5, 4))"
   ]
  },
  {
   "cell_type": "code",
   "execution_count": null,
   "id": "3005c8e8",
   "metadata": {},
   "outputs": [],
   "source": [
    "exp.eda(show='bivariate', bi_features=['hr', 'season'], figsize=(5, 4))"
   ]
  },
  {
   "cell_type": "code",
   "execution_count": null,
   "id": "2249b6c9",
   "metadata": {},
   "outputs": [],
   "source": [
    "exp.eda(show='bivariate', bi_features=['yr', 'season'], figsize=(5, 4))"
   ]
  },
  {
   "cell_type": "code",
   "execution_count": null,
   "id": "914a8f6e",
   "metadata": {},
   "outputs": [],
   "source": [
    "exp.eda(show='multivariate', multi_type='correlation_heatmap', figsize=(6, 5))"
   ]
  },
  {
   "cell_type": "code",
   "execution_count": null,
   "id": "7a2b9c7f",
   "metadata": {},
   "outputs": [],
   "source": [
    "exp.eda(show='multivariate', multi_type='correlation_graph', figsize=(6, 5))"
   ]
  }
 ],
 "metadata": {
  "kernelspec": {
   "display_name": "Python 3",
   "language": "python",
   "name": "python3"
  },
  "language_info": {
   "codemirror_mode": {
    "name": "ipython",
    "version": 3
   },
   "file_extension": ".py",
   "mimetype": "text/x-python",
   "name": "python",
   "nbconvert_exporter": "python",
   "pygments_lexer": "ipython3",
   "version": "3.9.12"
  }
 },
 "nbformat": 4,
 "nbformat_minor": 5
}