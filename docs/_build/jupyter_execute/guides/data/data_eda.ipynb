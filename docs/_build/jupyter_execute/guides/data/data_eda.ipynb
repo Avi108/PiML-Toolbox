{
 "cells": [
  {
   "cell_type": "code",
   "execution_count": null,
   "id": "35e3eae2",
   "metadata": {},
   "outputs": [],
   "source": [
    "exp.eda(show='univariate', uni_feature='cnt')"
   ]
  },
  {
   "cell_type": "code",
   "execution_count": null,
   "id": "d938ed81",
   "metadata": {},
   "outputs": [],
   "source": [
    "exp.eda(show='univariate', uni_feature='yr')"
   ]
  },
  {
   "cell_type": "code",
   "execution_count": null,
   "id": "88665fa2",
   "metadata": {},
   "outputs": [],
   "source": [
    "exp.eda(show='bivariate', bi_features=['temp', 'cnt'])"
   ]
  },
  {
   "cell_type": "code",
   "execution_count": null,
   "id": "a01dc901",
   "metadata": {},
   "outputs": [],
   "source": [
    "exp.eda(show='bivariate', bi_features=['hr', 'season'])"
   ]
  },
  {
   "cell_type": "code",
   "execution_count": null,
   "id": "079daff4",
   "metadata": {},
   "outputs": [],
   "source": [
    "exp.eda(show='bivariate', bi_features=['yr', 'season'])"
   ]
  },
  {
   "cell_type": "code",
   "execution_count": null,
   "id": "94f534b0",
   "metadata": {},
   "outputs": [],
   "source": [
    "exp.eda(show='multivariate', multi_type='correlation_heatmap')"
   ]
  },
  {
   "cell_type": "code",
   "execution_count": null,
   "id": "4b4213c8",
   "metadata": {},
   "outputs": [],
   "source": [
    "exp.eda(show='multivariate', multi_type='correlation_graph')"
   ]
  }
 ],
 "metadata": {
  "kernelspec": {
   "display_name": "Python 3 (ipykernel)",
   "language": "python",
   "name": "python3"
  },
  "language_info": {
   "codemirror_mode": {
    "name": "ipython",
    "version": 3
   },
   "file_extension": ".py",
   "mimetype": "text/x-python",
   "name": "python",
   "nbconvert_exporter": "python",
   "pygments_lexer": "ipython3",
   "version": "3.10.11"
  }
 },
 "nbformat": 4,
 "nbformat_minor": 5
}