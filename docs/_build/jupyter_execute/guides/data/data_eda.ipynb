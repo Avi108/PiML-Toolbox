{
 "cells": [
  {
   "cell_type": "code",
   "execution_count": null,
   "id": "625c045c",
   "metadata": {},
   "outputs": [],
   "source": [
    "exp.eda(show='univariate', uni_feature='cnt')"
   ]
  },
  {
   "cell_type": "code",
   "execution_count": null,
   "id": "fda2e1bc",
   "metadata": {},
   "outputs": [],
   "source": [
    "exp.eda(show='univariate', uni_feature='yr')"
   ]
  },
  {
   "cell_type": "code",
   "execution_count": null,
   "id": "66b198a9",
   "metadata": {},
   "outputs": [],
   "source": [
    "exp.eda(show='bivariate', bi_features=['temp', 'cnt'])"
   ]
  },
  {
   "cell_type": "code",
   "execution_count": null,
   "id": "83e79c24",
   "metadata": {},
   "outputs": [],
   "source": [
    "exp.eda(show='bivariate', bi_features=['hr', 'season'])"
   ]
  },
  {
   "cell_type": "code",
   "execution_count": null,
   "id": "86560937",
   "metadata": {},
   "outputs": [],
   "source": [
    "exp.eda(show='bivariate', bi_features=['yr', 'season'])"
   ]
  },
  {
   "cell_type": "code",
   "execution_count": null,
   "id": "dc1f1d41",
   "metadata": {},
   "outputs": [],
   "source": [
    "exp.eda(show='multivariate', multi_type='correlation_heatmap')"
   ]
  },
  {
   "cell_type": "code",
   "execution_count": null,
   "id": "5cee82f0",
   "metadata": {},
   "outputs": [],
   "source": [
    "exp.eda(show='multivariate', multi_type='correlation_graph')"
   ]
  }
 ],
 "metadata": {
  "kernelspec": {
   "display_name": "Python 3",
   "language": "python",
   "name": "python3"
  },
  "language_info": {
   "codemirror_mode": {
    "name": "ipython",
    "version": 3
   },
   "file_extension": ".py",
   "mimetype": "text/x-python",
   "name": "python",
   "nbconvert_exporter": "python",
   "pygments_lexer": "ipython3",
   "version": "3.9.12"
  }
 },
 "nbformat": 4,
 "nbformat_minor": 5
}