{
 "cells": [
  {
   "cell_type": "code",
   "execution_count": null,
   "id": "7bd62188",
   "metadata": {},
   "outputs": [],
   "source": [
    "exp.eda(show='univariate', uni_feature='cnt')"
   ]
  },
  {
   "cell_type": "code",
   "execution_count": null,
   "id": "4d0a18a3",
   "metadata": {},
   "outputs": [],
   "source": [
    "exp.eda(show='univariate', uni_feature='yr')"
   ]
  },
  {
   "cell_type": "code",
   "execution_count": null,
   "id": "027033d4",
   "metadata": {},
   "outputs": [],
   "source": [
    "exp.eda(show='bivariate', bi_features=['temp', 'cnt'])"
   ]
  },
  {
   "cell_type": "code",
   "execution_count": null,
   "id": "e65fae17",
   "metadata": {},
   "outputs": [],
   "source": [
    "exp.eda(show='bivariate', bi_features=['hr', 'season'])"
   ]
  },
  {
   "cell_type": "code",
   "execution_count": null,
   "id": "399902b3",
   "metadata": {},
   "outputs": [],
   "source": [
    "exp.eda(show='bivariate', bi_features=['yr', 'season'])"
   ]
  },
  {
   "cell_type": "code",
   "execution_count": null,
   "id": "1cf8fc1d",
   "metadata": {},
   "outputs": [],
   "source": [
    "exp.eda(show='multivariate', multi_type='correlation_heatmap')"
   ]
  },
  {
   "cell_type": "code",
   "execution_count": null,
   "id": "8e56bdeb",
   "metadata": {},
   "outputs": [],
   "source": [
    "exp.eda(show='multivariate', multi_type='correlation_graph')"
   ]
  }
 ],
 "metadata": {
  "kernelspec": {
   "display_name": "Python 3",
   "language": "python",
   "name": "python3"
  },
  "language_info": {
   "codemirror_mode": {
    "name": "ipython",
    "version": 3
   },
   "file_extension": ".py",
   "mimetype": "text/x-python",
   "name": "python",
   "nbconvert_exporter": "python",
   "pygments_lexer": "ipython3",
   "version": "3.9.12"
  }
 },
 "nbformat": 4,
 "nbformat_minor": 5
}