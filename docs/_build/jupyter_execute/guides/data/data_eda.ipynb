{
 "cells": [
  {
   "cell_type": "code",
   "execution_count": null,
   "id": "0f585d75",
   "metadata": {},
   "outputs": [],
   "source": [
    "exp.eda(show='univariate', uni_feature='cnt')"
   ]
  },
  {
   "cell_type": "code",
   "execution_count": null,
   "id": "7bf7b821",
   "metadata": {},
   "outputs": [],
   "source": [
    "exp.eda(show='univariate', uni_feature='yr')"
   ]
  },
  {
   "cell_type": "code",
   "execution_count": null,
   "id": "6dc9d2df",
   "metadata": {},
   "outputs": [],
   "source": [
    "exp.eda(show='bivariate', bi_features=['temp', 'cnt'])"
   ]
  },
  {
   "cell_type": "code",
   "execution_count": null,
   "id": "043a5640",
   "metadata": {},
   "outputs": [],
   "source": [
    "exp.eda(show='bivariate', bi_features=['hr', 'season'])"
   ]
  },
  {
   "cell_type": "code",
   "execution_count": null,
   "id": "7592685d",
   "metadata": {},
   "outputs": [],
   "source": [
    "exp.eda(show='bivariate', bi_features=['yr', 'season'])"
   ]
  },
  {
   "cell_type": "code",
   "execution_count": null,
   "id": "df78a4bf",
   "metadata": {},
   "outputs": [],
   "source": [
    "exp.eda(show='multivariate', multi_type='correlation_heatmap')"
   ]
  },
  {
   "cell_type": "code",
   "execution_count": null,
   "id": "33d0b839",
   "metadata": {},
   "outputs": [],
   "source": [
    "exp.eda(show='multivariate', multi_type='correlation_graph')"
   ]
  }
 ],
 "metadata": {
  "kernelspec": {
   "display_name": "Python 3",
   "language": "python",
   "name": "python3"
  },
  "language_info": {
   "codemirror_mode": {
    "name": "ipython",
    "version": 3
   },
   "file_extension": ".py",
   "mimetype": "text/x-python",
   "name": "python",
   "nbconvert_exporter": "python",
   "pygments_lexer": "ipython3",
   "version": "3.9.12"
  }
 },
 "nbformat": 4,
 "nbformat_minor": 5
}