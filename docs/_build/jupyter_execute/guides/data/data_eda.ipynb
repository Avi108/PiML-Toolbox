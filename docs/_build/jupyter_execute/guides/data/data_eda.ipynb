{
 "cells": [
  {
   "cell_type": "code",
   "execution_count": null,
   "id": "c1b7bde0",
   "metadata": {},
   "outputs": [],
   "source": [
    "exp.eda(show='univariate', uni_feature='cnt')"
   ]
  },
  {
   "cell_type": "code",
   "execution_count": null,
   "id": "6683b1d1",
   "metadata": {},
   "outputs": [],
   "source": [
    "exp.eda(show='univariate', uni_feature='yr')"
   ]
  },
  {
   "cell_type": "code",
   "execution_count": null,
   "id": "bea6c4e7",
   "metadata": {},
   "outputs": [],
   "source": [
    "exp.eda(show='bivariate', bi_features=['temp', 'cnt'])"
   ]
  },
  {
   "cell_type": "code",
   "execution_count": null,
   "id": "7022e036",
   "metadata": {},
   "outputs": [],
   "source": [
    "exp.eda(show='bivariate', bi_features=['hr', 'season'])"
   ]
  },
  {
   "cell_type": "code",
   "execution_count": null,
   "id": "e67ccd32",
   "metadata": {},
   "outputs": [],
   "source": [
    "exp.eda(show='bivariate', bi_features=['yr', 'season'])"
   ]
  },
  {
   "cell_type": "code",
   "execution_count": null,
   "id": "84658da4",
   "metadata": {},
   "outputs": [],
   "source": [
    "exp.eda(show='multivariate', multi_type='correlation_heatmap')"
   ]
  },
  {
   "cell_type": "code",
   "execution_count": null,
   "id": "2124fe2c",
   "metadata": {},
   "outputs": [],
   "source": [
    "exp.eda(show='multivariate', multi_type='correlation_graph')"
   ]
  }
 ],
 "metadata": {
  "kernelspec": {
   "display_name": "Python 3",
   "language": "python",
   "name": "python3"
  },
  "language_info": {
   "codemirror_mode": {
    "name": "ipython",
    "version": 3
   },
   "file_extension": ".py",
   "mimetype": "text/x-python",
   "name": "python",
   "nbconvert_exporter": "python",
   "pygments_lexer": "ipython3",
   "version": "3.9.12"
  }
 },
 "nbformat": 4,
 "nbformat_minor": 5
}