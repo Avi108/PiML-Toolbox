{
 "cells": [
  {
   "cell_type": "code",
   "execution_count": null,
   "id": "a871d08c",
   "metadata": {},
   "outputs": [],
   "source": [
    "exp.feature_select(method=\"cor\", corr_algorithm=\"pearson\", threshold=0.1, figsize=(5, 4))"
   ]
  },
  {
   "cell_type": "code",
   "execution_count": null,
   "id": "c9c69c0f",
   "metadata": {},
   "outputs": [],
   "source": [
    "exp.feature_select(method=\"cor\", corr_algorithm=\"spearman\", threshold=0.1, figsize=(5, 4))"
   ]
  },
  {
   "cell_type": "code",
   "execution_count": null,
   "id": "e0e23be4",
   "metadata": {},
   "outputs": [],
   "source": [
    "exp.feature_select(method=\"dcor\", threshold=0.1, figsize=(5, 4))"
   ]
  },
  {
   "cell_type": "code",
   "execution_count": null,
   "id": "3cb4d108",
   "metadata": {},
   "outputs": [],
   "source": [
    "exp.feature_select(method=\"pfi\", threshold=0.95, figsize=(5, 4))"
   ]
  },
  {
   "cell_type": "code",
   "execution_count": null,
   "id": "ab00e8a5",
   "metadata": {},
   "outputs": [],
   "source": [
    "exp.feature_select(method=\"rcit\", threshold=0.001, n_forward_phase=2, kernel_size=100, figsize=(5, 4))"
   ]
  },
  {
   "cell_type": "code",
   "execution_count": null,
   "id": "8b07b0be",
   "metadata": {},
   "outputs": [],
   "source": [
    "exp.feature_select(method=\"rcit\", threshold=0.001, preset=[\"hr\", \"temp\"], figsize=(5, 4))"
   ]
  }
 ],
 "metadata": {
  "kernelspec": {
   "display_name": "Python 3",
   "language": "python",
   "name": "python3"
  },
  "language_info": {
   "codemirror_mode": {
    "name": "ipython",
    "version": 3
   },
   "file_extension": ".py",
   "mimetype": "text/x-python",
   "name": "python",
   "nbconvert_exporter": "python",
   "pygments_lexer": "ipython3",
   "version": "3.9.12"
  }
 },
 "nbformat": 4,
 "nbformat_minor": 5
}