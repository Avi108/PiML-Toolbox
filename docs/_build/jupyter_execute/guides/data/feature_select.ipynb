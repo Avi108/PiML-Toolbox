{
 "cells": [
  {
   "cell_type": "code",
   "execution_count": null,
   "id": "44a2c18e",
   "metadata": {},
   "outputs": [],
   "source": [
    "exp.feature_select(method='cor', threshold=0.1)"
   ]
  },
  {
   "cell_type": "code",
   "execution_count": null,
   "id": "244f34c9",
   "metadata": {},
   "outputs": [],
   "source": [
    "exp.feature_select(method='dcor', threshold=0.1)"
   ]
  },
  {
   "cell_type": "code",
   "execution_count": null,
   "id": "fb4973fe",
   "metadata": {},
   "outputs": [],
   "source": [
    "exp.feature_select(method='pfi', threshold=0.95)"
   ]
  },
  {
   "cell_type": "code",
   "execution_count": null,
   "id": "16cb7cfa",
   "metadata": {},
   "outputs": [],
   "source": [
    "exp.feature_select(method='rcit', threshold=0.001, n_forward_phase=2, kernel_size=100)"
   ]
  },
  {
   "cell_type": "code",
   "execution_count": null,
   "id": "4c64a747",
   "metadata": {},
   "outputs": [],
   "source": [
    "exp.feature_select(method='rcit', threshold=0.001, preset=[\"hr\", \"temp\"])"
   ]
  }
 ],
 "metadata": {
  "kernelspec": {
   "display_name": "Python 3",
   "language": "python",
   "name": "python3"
  },
  "language_info": {
   "codemirror_mode": {
    "name": "ipython",
    "version": 3
   },
   "file_extension": ".py",
   "mimetype": "text/x-python",
   "name": "python",
   "nbconvert_exporter": "python",
   "pygments_lexer": "ipython3",
   "version": "3.9.12"
  }
 },
 "nbformat": 4,
 "nbformat_minor": 5
}