{
 "cells": [
  {
   "cell_type": "code",
   "execution_count": null,
   "id": "5659d70c",
   "metadata": {},
   "outputs": [],
   "source": [
    "exp.feature_select(method=\"cor\", corr_algorithm=\"pearson\", threshold=0.1, figsize=(5, 4))"
   ]
  },
  {
   "cell_type": "code",
   "execution_count": null,
   "id": "e4f91739",
   "metadata": {},
   "outputs": [],
   "source": [
    "exp.feature_select(method=\"cor\", corr_algorithm=\"spearman\", threshold=0.1, figsize=(5, 4))"
   ]
  },
  {
   "cell_type": "code",
   "execution_count": null,
   "id": "73d0b095",
   "metadata": {},
   "outputs": [],
   "source": [
    "exp.feature_select(method=\"dcor\", threshold=0.1, figsize=(5, 4))"
   ]
  },
  {
   "cell_type": "code",
   "execution_count": null,
   "id": "90e2aff3",
   "metadata": {},
   "outputs": [],
   "source": [
    "exp.feature_select(method=\"pfi\", threshold=0.95, figsize=(5, 4))"
   ]
  },
  {
   "cell_type": "code",
   "execution_count": null,
   "id": "dbc74aac",
   "metadata": {},
   "outputs": [],
   "source": [
    "exp.feature_select(method=\"rcit\", threshold=0.001, n_forward_phase=2, kernel_size=100, figsize=(5, 4))"
   ]
  },
  {
   "cell_type": "code",
   "execution_count": null,
   "id": "6c4bc0f3",
   "metadata": {},
   "outputs": [],
   "source": [
    "exp.feature_select(method=\"rcit\", threshold=0.001, preset=[\"hr\", \"temp\"], figsize=(5, 4))"
   ]
  }
 ],
 "metadata": {
  "kernelspec": {
   "display_name": "Python 3",
   "language": "python",
   "name": "python3"
  },
  "language_info": {
   "codemirror_mode": {
    "name": "ipython",
    "version": 3
   },
   "file_extension": ".py",
   "mimetype": "text/x-python",
   "name": "python",
   "nbconvert_exporter": "python",
   "pygments_lexer": "ipython3",
   "version": "3.9.12"
  }
 },
 "nbformat": 4,
 "nbformat_minor": 5
}