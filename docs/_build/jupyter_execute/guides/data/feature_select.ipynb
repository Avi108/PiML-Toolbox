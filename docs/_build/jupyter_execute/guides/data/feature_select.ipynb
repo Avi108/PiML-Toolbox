{
 "cells": [
  {
   "cell_type": "code",
   "execution_count": null,
   "id": "dc6e2908",
   "metadata": {},
   "outputs": [],
   "source": [
    "exp.feature_select(method=\"cor\", corr_algorithm=\"pearson\", threshold=0.1, figsize=(5, 4))"
   ]
  },
  {
   "cell_type": "code",
   "execution_count": null,
   "id": "a0f259a7",
   "metadata": {},
   "outputs": [],
   "source": [
    "exp.feature_select(method=\"cor\", corr_algorithm=\"spearman\", threshold=0.1, figsize=(5, 4))"
   ]
  },
  {
   "cell_type": "code",
   "execution_count": null,
   "id": "14eaf694",
   "metadata": {},
   "outputs": [],
   "source": [
    "exp.feature_select(method=\"dcor\", threshold=0.1, figsize=(5, 4))"
   ]
  },
  {
   "cell_type": "code",
   "execution_count": null,
   "id": "0ade5f29",
   "metadata": {},
   "outputs": [],
   "source": [
    "exp.feature_select(method=\"pfi\", threshold=0.95, figsize=(5, 4))"
   ]
  },
  {
   "cell_type": "code",
   "execution_count": null,
   "id": "c429e754",
   "metadata": {},
   "outputs": [],
   "source": [
    "exp.feature_select(method=\"rcit\", threshold=0.001, n_forward_phase=2, kernel_size=100, figsize=(5, 4))"
   ]
  },
  {
   "cell_type": "code",
   "execution_count": null,
   "id": "6408e79a",
   "metadata": {},
   "outputs": [],
   "source": [
    "exp.feature_select(method=\"rcit\", threshold=0.001, preset=[\"hr\", \"temp\"], figsize=(5, 4))"
   ]
  }
 ],
 "metadata": {
  "kernelspec": {
   "display_name": "Python 3",
   "language": "python",
   "name": "python3"
  },
  "language_info": {
   "codemirror_mode": {
    "name": "ipython",
    "version": 3
   },
   "file_extension": ".py",
   "mimetype": "text/x-python",
   "name": "python",
   "nbconvert_exporter": "python",
   "pygments_lexer": "ipython3",
   "version": "3.9.12"
  }
 },
 "nbformat": 4,
 "nbformat_minor": 5
}