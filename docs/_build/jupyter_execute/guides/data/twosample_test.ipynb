{
 "cells": [
  {
   "cell_type": "code",
   "execution_count": null,
   "id": "dc23d1ef",
   "metadata": {},
   "outputs": [],
   "source": [
    "exp.twosample_test(metric=\"PSI\", psi_buckets=\"uniform\", figsize=(5, 4))"
   ]
  },
  {
   "cell_type": "code",
   "execution_count": null,
   "id": "24adf748",
   "metadata": {},
   "outputs": [],
   "source": [
    "exp.twosample_test(metric=\"PSI\", psi_buckets='quantile', feature=\"atemp\", figsize=(5, 4))"
   ]
  }
 ],
 "metadata": {
  "kernelspec": {
   "display_name": "Python 3",
   "language": "python",
   "name": "python3"
  },
  "language_info": {
   "codemirror_mode": {
    "name": "ipython",
    "version": 3
   },
   "file_extension": ".py",
   "mimetype": "text/x-python",
   "name": "python",
   "nbconvert_exporter": "python",
   "pygments_lexer": "ipython3",
   "version": "3.9.12"
  }
 },
 "nbformat": 4,
 "nbformat_minor": 5
}