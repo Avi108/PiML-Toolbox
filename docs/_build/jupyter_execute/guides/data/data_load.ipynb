{
 "cells": [
  {
   "cell_type": "code",
   "execution_count": null,
   "id": "9bbf0543",
   "metadata": {},
   "outputs": [],
   "source": [
    "exp.data_loader(data=\"CoCircles\")"
   ]
  },
  {
   "cell_type": "code",
   "execution_count": null,
   "id": "76e33dd7",
   "metadata": {},
   "outputs": [],
   "source": [
    "data_pandas = pd.read_csv('https://github.com/SelfExplainML/PiML-Toolbox/blob/main/datasets/BikeSharing.csv?raw=true')\n",
    "exp.data_loader(data=data_pandas)"
   ]
  }
 ],
 "metadata": {
  "kernelspec": {
   "display_name": "Python 3",
   "language": "python",
   "name": "python3"
  },
  "language_info": {
   "codemirror_mode": {
    "name": "ipython",
    "version": 3
   },
   "file_extension": ".py",
   "mimetype": "text/x-python",
   "name": "python",
   "nbconvert_exporter": "python",
   "pygments_lexer": "ipython3",
   "version": "3.9.12"
  }
 },
 "nbformat": 4,
 "nbformat_minor": 5
}