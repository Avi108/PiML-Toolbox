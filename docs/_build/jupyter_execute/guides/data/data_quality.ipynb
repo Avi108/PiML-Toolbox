{
 "cells": [
  {
   "cell_type": "code",
   "execution_count": null,
   "id": "bd6de3f1",
   "metadata": {},
   "outputs": [],
   "source": [
    "from piml.data.outlier_detection import PCA\n",
    "exp.data_quality(method=PCA(), show='od_score_distribution', threshold=0.999)"
   ]
  },
  {
   "cell_type": "code",
   "execution_count": null,
   "id": "0349d813",
   "metadata": {},
   "outputs": [],
   "source": [
    "from piml.data.outlier_detection import PCA\n",
    "exp.data_quality(method=PCA(), show='od_marginal_outlier_distribution', threshold=0.999)"
   ]
  },
  {
   "cell_type": "code",
   "execution_count": null,
   "id": "6b74b6c8",
   "metadata": {},
   "outputs": [],
   "source": [
    "from piml.data.outlier_detection import PCA, CBLOF\n",
    "exp.data_quality(method=[PCA(), CBLOF()], show='od_tsne_comparison', threshold=[0.999, 0.999])"
   ]
  }
 ],
 "metadata": {
  "kernelspec": {
   "display_name": "Python 3",
   "language": "python",
   "name": "python3"
  },
  "language_info": {
   "codemirror_mode": {
    "name": "ipython",
    "version": 3
   },
   "file_extension": ".py",
   "mimetype": "text/x-python",
   "name": "python",
   "nbconvert_exporter": "python",
   "pygments_lexer": "ipython3",
   "version": "3.9.12"
  }
 },
 "nbformat": 4,
 "nbformat_minor": 5
}