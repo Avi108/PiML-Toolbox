{
 "cells": [
  {
   "cell_type": "code",
   "execution_count": null,
   "id": "1e6f9b1c",
   "metadata": {},
   "outputs": [],
   "source": [
    "from piml.models import ReluDNNClassifier\n",
    "exp.model_train(model=ReluDNNClassifier(hidden_layer_sizes=(40, 40), l1_reg=0.0002, learning_rate=0.001),\n",
    "                name=\"ReLUDNN\")"
   ]
  },
  {
   "cell_type": "code",
   "execution_count": null,
   "id": "b49bcd06",
   "metadata": {},
   "outputs": [],
   "source": [
    "exp.model_interpret(model=\"ReLUDNN\", show=\"llm_summary\")"
   ]
  },
  {
   "cell_type": "code",
   "execution_count": null,
   "id": "a8427cb2",
   "metadata": {},
   "outputs": [],
   "source": [
    "exp.model_interpret(model=\"ReLUDNN\", show=\"llm_pc\", figsize=(5, 4))"
   ]
  },
  {
   "cell_type": "code",
   "execution_count": null,
   "id": "800f63dc",
   "metadata": {},
   "outputs": [],
   "source": [
    "exp.model_interpret(model=\"ReLUDNN\", show=\"llm_violin\", figsize=(5, 4))"
   ]
  },
  {
   "cell_type": "code",
   "execution_count": null,
   "id": "a78ec6d8",
   "metadata": {},
   "outputs": [],
   "source": [
    "exp.model_interpret(model=\"ReLUDNN\", show=\"global_fi\", figsize=(5, 4))"
   ]
  },
  {
   "cell_type": "code",
   "execution_count": null,
   "id": "fe4b765e",
   "metadata": {},
   "outputs": [],
   "source": [
    "exp.model_interpret(model=\"ReLUDNN\", show=\"global_effect_plot\", uni_feature=\"PAY_1\", original_scale=True, figsize=(5, 4))"
   ]
  },
  {
   "cell_type": "code",
   "execution_count": null,
   "id": "81d4e60d",
   "metadata": {},
   "outputs": [],
   "source": [
    "exp.model_interpret(model=\"ReLUDNN\", show=\"global_effect_plot\", bi_features=[\"PAY_1\", \"PAY_3\"], original_scale=True, figsize=(5, 4))"
   ]
  },
  {
   "cell_type": "code",
   "execution_count": null,
   "id": "0407e12b",
   "metadata": {},
   "outputs": [],
   "source": [
    "exp.model_interpret(model=\"ReLUDNN\", show=\"local_fi\", sample_id=0, centered=False, original_scale=True, figsize=(5, 4))"
   ]
  },
  {
   "cell_type": "code",
   "execution_count": null,
   "id": "1d7c1e9c",
   "metadata": {},
   "outputs": [],
   "source": [
    "exp.model_interpret(model=\"ReLUDNN\", show=\"local_fi\", sample_id=0, centered=True, original_scale=True, figsize=(5, 4))"
   ]
  }
 ],
 "metadata": {
  "kernelspec": {
   "display_name": "Python 3",
   "language": "python",
   "name": "python3"
  },
  "language_info": {
   "codemirror_mode": {
    "name": "ipython",
    "version": 3
   },
   "file_extension": ".py",
   "mimetype": "text/x-python",
   "name": "python",
   "nbconvert_exporter": "python",
   "pygments_lexer": "ipython3",
   "version": "3.9.12"
  }
 },
 "nbformat": 4,
 "nbformat_minor": 5
}