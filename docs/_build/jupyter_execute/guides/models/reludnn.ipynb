{
 "cells": [
  {
   "cell_type": "code",
   "execution_count": null,
   "id": "2e3887e9",
   "metadata": {},
   "outputs": [],
   "source": [
    "from piml.models import ReluDNNClassifier\n",
    "exp.model_train(model=ReluDNNClassifier(hidden_layer_sizes=(40, 40), l1_reg=0.0002, learning_rate=0.001),\n",
    "                name=\"ReLUDNN\")"
   ]
  },
  {
   "cell_type": "code",
   "execution_count": null,
   "id": "e786da69",
   "metadata": {},
   "outputs": [],
   "source": [
    "exp.model_interpret(model=\"ReLUDNN\", show=\"llm_summary\")"
   ]
  },
  {
   "cell_type": "code",
   "execution_count": null,
   "id": "bc12418a",
   "metadata": {},
   "outputs": [],
   "source": [
    "exp.model_interpret(model=\"ReLUDNN\", show=\"llm_pc\", figsize=(5, 4))"
   ]
  },
  {
   "cell_type": "code",
   "execution_count": null,
   "id": "cea09084",
   "metadata": {},
   "outputs": [],
   "source": [
    "exp.model_interpret(model=\"ReLUDNN\", show=\"llm_violin\", figsize=(5, 4))"
   ]
  },
  {
   "cell_type": "code",
   "execution_count": null,
   "id": "bf40d4b7",
   "metadata": {},
   "outputs": [],
   "source": [
    "exp.model_interpret(model=\"ReLUDNN\", show=\"global_fi\", figsize=(5, 4))"
   ]
  },
  {
   "cell_type": "code",
   "execution_count": null,
   "id": "17489ce9",
   "metadata": {},
   "outputs": [],
   "source": [
    "exp.model_interpret(model=\"ReLUDNN\", show=\"global_effect_plot\", uni_feature=\"PAY_1\", original_scale=True, figsize=(5, 4))"
   ]
  },
  {
   "cell_type": "code",
   "execution_count": null,
   "id": "b7f843e9",
   "metadata": {},
   "outputs": [],
   "source": [
    "exp.model_interpret(model=\"ReLUDNN\", show=\"global_effect_plot\", bi_features=[\"PAY_1\", \"PAY_3\"], original_scale=True, figsize=(5, 4))"
   ]
  },
  {
   "cell_type": "code",
   "execution_count": null,
   "id": "2be3e65e",
   "metadata": {},
   "outputs": [],
   "source": [
    "exp.model_interpret(model=\"ReLUDNN\", show=\"local_fi\", sample_id=0, centered=False, original_scale=True, figsize=(5, 4))"
   ]
  },
  {
   "cell_type": "code",
   "execution_count": null,
   "id": "1f2f7804",
   "metadata": {},
   "outputs": [],
   "source": [
    "exp.model_interpret(model=\"ReLUDNN\", show=\"local_fi\", sample_id=0, centered=True, original_scale=True, figsize=(5, 4))"
   ]
  }
 ],
 "metadata": {
  "kernelspec": {
   "display_name": "Python 3",
   "language": "python",
   "name": "python3"
  },
  "language_info": {
   "codemirror_mode": {
    "name": "ipython",
    "version": 3
   },
   "file_extension": ".py",
   "mimetype": "text/x-python",
   "name": "python",
   "nbconvert_exporter": "python",
   "pygments_lexer": "ipython3",
   "version": "3.9.12"
  }
 },
 "nbformat": 4,
 "nbformat_minor": 5
}