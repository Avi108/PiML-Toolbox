{
 "cells": [
  {
   "cell_type": "code",
   "execution_count": null,
   "id": "0c28964f",
   "metadata": {},
   "outputs": [],
   "source": [
    "from piml.models import ReluDNNClassifier\n",
    "exp.model_train(model=ReluDNNClassifier(hidden_layer_sizes=(40, 40), l1_reg=0.0002, learning_rate=0.001),\n",
    "                name=\"ReLUDNN\")"
   ]
  },
  {
   "cell_type": "code",
   "execution_count": null,
   "id": "0c55c46b",
   "metadata": {},
   "outputs": [],
   "source": [
    "exp.model_interpret(model=\"ReLUDNN\", show=\"llm_summary\")"
   ]
  },
  {
   "cell_type": "code",
   "execution_count": null,
   "id": "288494c3",
   "metadata": {},
   "outputs": [],
   "source": [
    "exp.model_interpret(model=\"ReLUDNN\", show=\"llm_pc\", figsize=(5, 4))"
   ]
  },
  {
   "cell_type": "code",
   "execution_count": null,
   "id": "5e6a3593",
   "metadata": {},
   "outputs": [],
   "source": [
    "exp.model_interpret(model=\"ReLUDNN\", show=\"llm_violin\", figsize=(5, 4))"
   ]
  },
  {
   "cell_type": "code",
   "execution_count": null,
   "id": "0f3f3b7a",
   "metadata": {},
   "outputs": [],
   "source": [
    "exp.model_interpret(model=\"ReLUDNN\", show=\"global_fi\", figsize=(5, 4))"
   ]
  },
  {
   "cell_type": "code",
   "execution_count": null,
   "id": "bc16b2c8",
   "metadata": {},
   "outputs": [],
   "source": [
    "exp.model_interpret(model=\"ReLUDNN\", show=\"global_effect_plot\", uni_feature=\"PAY_1\", original_scale=True, figsize=(5, 4))"
   ]
  },
  {
   "cell_type": "code",
   "execution_count": null,
   "id": "39b62600",
   "metadata": {},
   "outputs": [],
   "source": [
    "exp.model_interpret(model=\"ReLUDNN\", show=\"global_effect_plot\", bi_features=[\"PAY_1\", \"PAY_3\"], original_scale=True, figsize=(5, 4))"
   ]
  },
  {
   "cell_type": "code",
   "execution_count": null,
   "id": "e2546b81",
   "metadata": {},
   "outputs": [],
   "source": [
    "exp.model_interpret(model=\"ReLUDNN\", show=\"local_fi\", sample_id=0, centered=False, original_scale=True, figsize=(5, 4))"
   ]
  },
  {
   "cell_type": "code",
   "execution_count": null,
   "id": "a1bd0abc",
   "metadata": {},
   "outputs": [],
   "source": [
    "exp.model_interpret(model=\"ReLUDNN\", show=\"local_fi\", sample_id=0, centered=True, original_scale=True, figsize=(5, 4))"
   ]
  }
 ],
 "metadata": {
  "kernelspec": {
   "display_name": "Python 3",
   "language": "python",
   "name": "python3"
  },
  "language_info": {
   "codemirror_mode": {
    "name": "ipython",
    "version": 3
   },
   "file_extension": ".py",
   "mimetype": "text/x-python",
   "name": "python",
   "nbconvert_exporter": "python",
   "pygments_lexer": "ipython3",
   "version": "3.9.12"
  }
 },
 "nbformat": 4,
 "nbformat_minor": 5
}