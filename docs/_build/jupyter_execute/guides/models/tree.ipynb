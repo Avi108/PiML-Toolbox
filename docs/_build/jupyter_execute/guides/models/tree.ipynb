{
 "cells": [
  {
   "cell_type": "code",
   "execution_count": null,
   "id": "49257a4d",
   "metadata": {},
   "outputs": [],
   "source": [
    "from piml.models import TreeRegressor\n",
    "exp.model_train(model=TreeRegressor(max_depth=6), name=\"Tree\")"
   ]
  },
  {
   "cell_type": "code",
   "execution_count": null,
   "id": "86c6ece0",
   "metadata": {},
   "outputs": [],
   "source": [
    "exp.model_interpret(model=\"Tree\", show=\"tree_global\", root=0,\n",
    "                    depth=3, original_scale=True, figsize=(16, 10))"
   ]
  },
  {
   "cell_type": "code",
   "execution_count": null,
   "id": "6d15fde6",
   "metadata": {},
   "outputs": [],
   "source": [
    "exp.model_interpret(model=\"Tree\", show=\"tree_local\", sample_id=0, original_scale=True, figsize=(16, 10))"
   ]
  }
 ],
 "metadata": {
  "kernelspec": {
   "display_name": "Python 3",
   "language": "python",
   "name": "python3"
  },
  "language_info": {
   "codemirror_mode": {
    "name": "ipython",
    "version": 3
   },
   "file_extension": ".py",
   "mimetype": "text/x-python",
   "name": "python",
   "nbconvert_exporter": "python",
   "pygments_lexer": "ipython3",
   "version": "3.9.12"
  }
 },
 "nbformat": 4,
 "nbformat_minor": 5
}