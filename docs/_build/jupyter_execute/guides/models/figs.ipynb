{
 "cells": [
  {
   "cell_type": "code",
   "execution_count": null,
   "id": "cd0533e7",
   "metadata": {},
   "outputs": [],
   "source": [
    "from piml.models import FIGSRegressor\n",
    "exp.model_train(model=FIGSRegressor(max_iter=100, max_depth=4), name=\"FIGS\")"
   ]
  },
  {
   "cell_type": "code",
   "execution_count": null,
   "id": "02d21f38",
   "metadata": {},
   "outputs": [],
   "source": [
    "exp.model_interpret(model=\"FIGS\", show=\"figs_heatmap\", tree_idx=0, figsize=(12, 4))"
   ]
  },
  {
   "cell_type": "code",
   "execution_count": null,
   "id": "ae68be80",
   "metadata": {},
   "outputs": [],
   "source": [
    "exp.model_interpret(model=\"FIGS\", show=\"tree_global\", tree_idx=0, root=0,\n",
    "                    depth=3, original_scale=True, figsize=(16, 10))"
   ]
  },
  {
   "cell_type": "code",
   "execution_count": null,
   "id": "0d997425",
   "metadata": {},
   "outputs": [],
   "source": [
    "exp.model_interpret(model=\"FIGS\", show=\"tree_global\", tree_idx=1, root=0,\n",
    "                    depth=3, original_scale=True, figsize=(16, 10))"
   ]
  },
  {
   "cell_type": "code",
   "execution_count": null,
   "id": "a26afcd8",
   "metadata": {},
   "outputs": [],
   "source": [
    "exp.model_interpret(model=\"FIGS\", show=\"tree_local\", sample_id=0, tree_idx=0,\n",
    "                    original_scale=True, figsize=(16, 10))"
   ]
  },
  {
   "cell_type": "code",
   "execution_count": null,
   "id": "e9398079",
   "metadata": {},
   "outputs": [],
   "source": [
    "exp.model_interpret(model=\"FIGS\", show=\"tree_local\", sample_id=0, tree_idx=1,\n",
    "                    original_scale=True, figsize=(16, 10))"
   ]
  }
 ],
 "metadata": {
  "kernelspec": {
   "display_name": "Python 3 (ipykernel)",
   "language": "python",
   "name": "python3"
  },
  "language_info": {
   "codemirror_mode": {
    "name": "ipython",
    "version": 3
   },
   "file_extension": ".py",
   "mimetype": "text/x-python",
   "name": "python",
   "nbconvert_exporter": "python",
   "pygments_lexer": "ipython3",
   "version": "3.10.11"
  }
 },
 "nbformat": 4,
 "nbformat_minor": 5
}