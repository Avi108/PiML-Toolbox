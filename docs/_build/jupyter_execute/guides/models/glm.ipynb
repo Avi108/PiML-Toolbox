{
 "cells": [
  {
   "cell_type": "code",
   "execution_count": null,
   "id": "9a3f6916",
   "metadata": {},
   "outputs": [],
   "source": [
    "from piml.models import GLMRegressor\n",
    "exp.model_train(model=GLMRegressor(l1_regularization=0.0008, l2_regularization=0.0008), name=\"GLM\")"
   ]
  },
  {
   "cell_type": "code",
   "execution_count": null,
   "id": "28158345",
   "metadata": {},
   "outputs": [],
   "source": [
    "exp.model_diagnose(model=\"GLM\", show=\"accuracy_table\")"
   ]
  },
  {
   "cell_type": "code",
   "execution_count": null,
   "id": "6ef3f3c2",
   "metadata": {},
   "outputs": [],
   "source": [
    "exp.model_interpret(model=\"GLM\", show=\"glm_coef_plot\", figsize=(5, 4))"
   ]
  },
  {
   "cell_type": "code",
   "execution_count": null,
   "id": "f870775a",
   "metadata": {},
   "outputs": [],
   "source": [
    "exp.model_interpret(model=\"GLM\", show=\"glm_coef_plot\", uni_feature=\"season\", figsize=(5, 4))"
   ]
  },
  {
   "cell_type": "code",
   "execution_count": null,
   "id": "c9f8c3ff",
   "metadata": {},
   "outputs": [],
   "source": [
    "exp.model_interpret(model=\"GLM\", show=\"glm_coef_table\")"
   ]
  },
  {
   "cell_type": "code",
   "execution_count": null,
   "id": "a80f249c",
   "metadata": {},
   "outputs": [],
   "source": [
    "exp.model_interpret(model=\"GLM\", show=\"global_fi\", figsize=(5, 4))"
   ]
  },
  {
   "cell_type": "code",
   "execution_count": null,
   "id": "249ef1a5",
   "metadata": {},
   "outputs": [],
   "source": [
    "exp.model_interpret(model=\"GLM\", show=\"local_fi\", sample_id=0, centered=False, original_scale=False, figsize=(5, 4))"
   ]
  },
  {
   "cell_type": "code",
   "execution_count": null,
   "id": "bccf6f2c",
   "metadata": {},
   "outputs": [],
   "source": [
    "exp.model_interpret(model=\"GLM\", show=\"local_fi\", sample_id=0, centered=False, original_scale=True, figsize=(5, 4))"
   ]
  },
  {
   "cell_type": "code",
   "execution_count": null,
   "id": "daefc5dd",
   "metadata": {},
   "outputs": [],
   "source": [
    "exp.model_interpret(model=\"GLM\", show=\"local_fi\", sample_id=0, centered=True, original_scale=True, figsize=(5, 4))"
   ]
  }
 ],
 "metadata": {
  "kernelspec": {
   "display_name": "Python 3",
   "language": "python",
   "name": "python3"
  },
  "language_info": {
   "codemirror_mode": {
    "name": "ipython",
    "version": 3
   },
   "file_extension": ".py",
   "mimetype": "text/x-python",
   "name": "python",
   "nbconvert_exporter": "python",
   "pygments_lexer": "ipython3",
   "version": "3.9.12"
  }
 },
 "nbformat": 4,
 "nbformat_minor": 5
}