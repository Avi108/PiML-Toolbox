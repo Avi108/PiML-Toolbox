{
 "cells": [
  {
   "cell_type": "code",
   "execution_count": null,
   "id": "bd8e1328",
   "metadata": {},
   "outputs": [],
   "source": [
    "from piml.models import GLMRegressor\n",
    "exp.model_train(model=GLMRegressor(l1_regularzation=0.0008, l2_regularzation=0.0008), name=\"GLM\")"
   ]
  },
  {
   "cell_type": "code",
   "execution_count": null,
   "id": "bd849a14",
   "metadata": {},
   "outputs": [],
   "source": [
    "exp.model_diagnose(model=\"GLM\", show=\"accuracy_table\")"
   ]
  },
  {
   "cell_type": "code",
   "execution_count": null,
   "id": "aba872d6",
   "metadata": {},
   "outputs": [],
   "source": [
    "exp.model_interpret(model=\"GLM\", show=\"glm_coef_plot\", figsize=(5, 4))"
   ]
  },
  {
   "cell_type": "code",
   "execution_count": null,
   "id": "32dff974",
   "metadata": {},
   "outputs": [],
   "source": [
    "exp.model_interpret(model=\"GLM\", show=\"glm_coef_plot\", uni_feature=\"season\", figsize=(5, 4))"
   ]
  },
  {
   "cell_type": "code",
   "execution_count": null,
   "id": "44b0dba2",
   "metadata": {},
   "outputs": [],
   "source": [
    "exp.model_interpret(model=\"GLM\", show=\"glm_coef_table\")"
   ]
  },
  {
   "cell_type": "code",
   "execution_count": null,
   "id": "9a5c3fde",
   "metadata": {},
   "outputs": [],
   "source": [
    "exp.model_interpret(model=\"GLM\", show=\"global_fi\", figsize=(5, 4))"
   ]
  },
  {
   "cell_type": "code",
   "execution_count": null,
   "id": "26c843a3",
   "metadata": {},
   "outputs": [],
   "source": [
    "exp.model_interpret(model=\"GLM\", show=\"local_fi\", sample_id=0, centered=False, original_scale=False, figsize=(5, 4))"
   ]
  },
  {
   "cell_type": "code",
   "execution_count": null,
   "id": "58817c7b",
   "metadata": {},
   "outputs": [],
   "source": [
    "exp.model_interpret(model=\"GLM\", show=\"local_fi\", sample_id=0, centered=False, original_scale=True, figsize=(5, 4))"
   ]
  },
  {
   "cell_type": "code",
   "execution_count": null,
   "id": "8f62ecc6",
   "metadata": {},
   "outputs": [],
   "source": [
    "exp.model_interpret(model=\"GLM\", show=\"local_fi\", sample_id=0, centered=True, original_scale=True, figsize=(5, 4))"
   ]
  }
 ],
 "metadata": {
  "kernelspec": {
   "display_name": "Python 3 (ipykernel)",
   "language": "python",
   "name": "python3"
  },
  "language_info": {
   "codemirror_mode": {
    "name": "ipython",
    "version": 3
   },
   "file_extension": ".py",
   "mimetype": "text/x-python",
   "name": "python",
   "nbconvert_exporter": "python",
   "pygments_lexer": "ipython3",
   "version": "3.10.11"
  }
 },
 "nbformat": 4,
 "nbformat_minor": 5
}