{
 "cells": [
  {
   "cell_type": "code",
   "execution_count": null,
   "id": "89b69c74",
   "metadata": {},
   "outputs": [],
   "source": [
    "from piml.models import XGB1Regressor\n",
    "exp.model_train(model=XGB1Regressor(n_estimators=100, max_bin=20, min_bin_size=0.01), name=\"XGB1\")"
   ]
  },
  {
   "cell_type": "code",
   "execution_count": null,
   "id": "f55babfb",
   "metadata": {},
   "outputs": [],
   "source": [
    "exp.model_interpret(model=\"XGB1\", show=\"global_effect_plot\", uni_feature=\"MedInc\",\n",
    "                    original_scale=True, figsize=(5, 4))"
   ]
  },
  {
   "cell_type": "code",
   "execution_count": null,
   "id": "f73f9bd0",
   "metadata": {},
   "outputs": [],
   "source": [
    "exp.model_interpret(model=\"XGB1\", show=\"global_fi\", figsize=(5, 4))"
   ]
  },
  {
   "cell_type": "code",
   "execution_count": null,
   "id": "219fc5ed",
   "metadata": {},
   "outputs": [],
   "source": [
    "exp.model_interpret(model=\"XGB1\", show=\"xgb1_woe\", uni_feature=\"MedInc\",\n",
    "                   original_scale=True, figsize=(5, 4))"
   ]
  },
  {
   "cell_type": "code",
   "execution_count": null,
   "id": "b91827c2",
   "metadata": {},
   "outputs": [],
   "source": [
    "exp.model_interpret(model=\"XGB1\", show=\"xgb1_iv\", figsize=(5, 4))"
   ]
  },
  {
   "cell_type": "code",
   "execution_count": null,
   "id": "2445d668",
   "metadata": {},
   "outputs": [],
   "source": [
    "exp.model_interpret(model=\"XGB1\", show=\"local_fi\", sample_id=0, original_scale=True, figsize=(5, 4))"
   ]
  }
 ],
 "metadata": {
  "kernelspec": {
   "display_name": "Python 3 (ipykernel)",
   "language": "python",
   "name": "python3"
  },
  "language_info": {
   "codemirror_mode": {
    "name": "ipython",
    "version": 3
   },
   "file_extension": ".py",
   "mimetype": "text/x-python",
   "name": "python",
   "nbconvert_exporter": "python",
   "pygments_lexer": "ipython3",
   "version": "3.10.11"
  }
 },
 "nbformat": 4,
 "nbformat_minor": 5
}