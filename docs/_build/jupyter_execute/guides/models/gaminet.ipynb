{
 "cells": [
  {
   "cell_type": "code",
   "execution_count": null,
   "id": "41a0dd47",
   "metadata": {},
   "outputs": [],
   "source": [
    "from piml.models import GAMINetRegressor\n",
    "exp.model_train(model=GAMINetRegressor(), name=\"GAMI-Net\")"
   ]
  },
  {
   "cell_type": "code",
   "execution_count": null,
   "id": "40e844f3",
   "metadata": {},
   "outputs": [],
   "source": [
    "exp.model_interpret(model=\"GAMI-Net\", show=\"global_effect_plot\", uni_feature=\"hr\",\n",
    "                   original_scale=True, figsize=(5, 4))"
   ]
  },
  {
   "cell_type": "code",
   "execution_count": null,
   "id": "c7c3767c",
   "metadata": {},
   "outputs": [],
   "source": [
    "exp.model_interpret(model=\"GAMI-Net\", show=\"global_effect_plot\", bi_features=[\"hr\", \"weekday\"],\n",
    "                    original_scale=True, figsize=(5, 4))"
   ]
  },
  {
   "cell_type": "code",
   "execution_count": null,
   "id": "c260fe55",
   "metadata": {},
   "outputs": [],
   "source": [
    "exp.model_interpret(model=\"GAMI-Net\", show=\"global_ei\", figsize=(5, 4))"
   ]
  },
  {
   "cell_type": "code",
   "execution_count": null,
   "id": "2a4616a9",
   "metadata": {},
   "outputs": [],
   "source": [
    "exp.model_interpret(model=\"GAMI-Net\", show=\"global_fi\", figsize=(5, 4))"
   ]
  },
  {
   "cell_type": "code",
   "execution_count": null,
   "id": "d2043766",
   "metadata": {},
   "outputs": [],
   "source": [
    "exp.model_interpret(model=\"GAMI-Net\", show=\"local_ei\", sample_id=0, original_scale=True, figsize=(5, 4))"
   ]
  },
  {
   "cell_type": "code",
   "execution_count": null,
   "id": "00d254c2",
   "metadata": {},
   "outputs": [],
   "source": [
    "exp.model_interpret(model=\"GAMI-Net\", show=\"local_fi\", sample_id=0, original_scale=True, figsize=(5, 4))"
   ]
  }
 ],
 "metadata": {
  "kernelspec": {
   "display_name": "Python 3",
   "language": "python",
   "name": "python3"
  },
  "language_info": {
   "codemirror_mode": {
    "name": "ipython",
    "version": 3
   },
   "file_extension": ".py",
   "mimetype": "text/x-python",
   "name": "python",
   "nbconvert_exporter": "python",
   "pygments_lexer": "ipython3",
   "version": "3.9.12"
  }
 },
 "nbformat": 4,
 "nbformat_minor": 5
}