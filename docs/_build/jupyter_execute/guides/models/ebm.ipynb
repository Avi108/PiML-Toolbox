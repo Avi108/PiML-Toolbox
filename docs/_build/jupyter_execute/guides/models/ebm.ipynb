{
 "cells": [
  {
   "cell_type": "code",
   "execution_count": null,
   "id": "542fde33",
   "metadata": {},
   "outputs": [],
   "source": [
    "from piml.models import ExplainableBoostingRegressor\n",
    "exp.model_train(model=ExplainableBoostingRegressor(interactions=10), name=\"EBM\")"
   ]
  },
  {
   "cell_type": "code",
   "execution_count": null,
   "id": "0c28cc83",
   "metadata": {},
   "outputs": [],
   "source": [
    "exp.model_interpret(model=\"EBM\", show=\"global_effect_plot\", uni_feature=\"hr\",\n",
    "                    original_scale=True, figsize=(5, 4))"
   ]
  },
  {
   "cell_type": "code",
   "execution_count": null,
   "id": "c8e2cef7",
   "metadata": {},
   "outputs": [],
   "source": [
    "exp.model_interpret(model=\"EBM\", show=\"global_effect_plot\", bi_features=[\"hr\", \"season\"],\n",
    "                    original_scale=True, figsize=(5, 4))"
   ]
  },
  {
   "cell_type": "code",
   "execution_count": null,
   "id": "cb4b257b",
   "metadata": {},
   "outputs": [],
   "source": [
    "exp.model_interpret(model=\"EBM\", show=\"global_ei\", figsize=(5, 4))"
   ]
  },
  {
   "cell_type": "code",
   "execution_count": null,
   "id": "693f2d4f",
   "metadata": {},
   "outputs": [],
   "source": [
    "exp.model_interpret(model=\"EBM\", show=\"global_fi\", figsize=(5, 4))"
   ]
  },
  {
   "cell_type": "code",
   "execution_count": null,
   "id": "cef72187",
   "metadata": {},
   "outputs": [],
   "source": [
    "exp.model_interpret(model=\"EBM\", show=\"local_ei\", sample_id=0, original_scale=True, figsize=(5, 4))"
   ]
  },
  {
   "cell_type": "code",
   "execution_count": null,
   "id": "43221ec2",
   "metadata": {},
   "outputs": [],
   "source": [
    "exp.model_interpret(model=\"EBM\", show=\"local_fi\", sample_id=0, original_scale=True, figsize=(5, 4))"
   ]
  }
 ],
 "metadata": {
  "kernelspec": {
   "display_name": "Python 3 (ipykernel)",
   "language": "python",
   "name": "python3"
  },
  "language_info": {
   "codemirror_mode": {
    "name": "ipython",
    "version": 3
   },
   "file_extension": ".py",
   "mimetype": "text/x-python",
   "name": "python",
   "nbconvert_exporter": "python",
   "pygments_lexer": "ipython3",
   "version": "3.10.11"
  }
 },
 "nbformat": 4,
 "nbformat_minor": 5
}