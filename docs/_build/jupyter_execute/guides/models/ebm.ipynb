{
 "cells": [
  {
   "cell_type": "code",
   "execution_count": null,
   "id": "58af4e08",
   "metadata": {},
   "outputs": [],
   "source": [
    "from piml.models import ExplainableBoostingRegressor\n",
    "exp.model_train(model=ExplainableBoostingRegressor(interactions=10), name=\"EBM\")"
   ]
  },
  {
   "cell_type": "code",
   "execution_count": null,
   "id": "387a164e",
   "metadata": {},
   "outputs": [],
   "source": [
    "exp.model_interpret(model=\"EBM\", show=\"global_effect_plot\", uni_feature=\"hr\",\n",
    "                    original_scale=True, figsize=(5, 4))"
   ]
  },
  {
   "cell_type": "code",
   "execution_count": null,
   "id": "4c2a77a0",
   "metadata": {},
   "outputs": [],
   "source": [
    "exp.model_interpret(model=\"EBM\", show=\"global_effect_plot\", bi_features=[\"hr\", \"season\"],\n",
    "                    original_scale=True, figsize=(5, 4))"
   ]
  },
  {
   "cell_type": "code",
   "execution_count": null,
   "id": "645aaaa1",
   "metadata": {},
   "outputs": [],
   "source": [
    "exp.model_interpret(model=\"EBM\", show=\"global_ei\", figsize=(5, 4))"
   ]
  },
  {
   "cell_type": "code",
   "execution_count": null,
   "id": "fc816d56",
   "metadata": {},
   "outputs": [],
   "source": [
    "exp.model_interpret(model=\"EBM\", show=\"global_fi\", figsize=(5, 4))"
   ]
  },
  {
   "cell_type": "code",
   "execution_count": null,
   "id": "ab3ff216",
   "metadata": {},
   "outputs": [],
   "source": [
    "exp.model_interpret(model=\"EBM\", show=\"local_ei\", sample_id=0, original_scale=True, figsize=(5, 4))"
   ]
  },
  {
   "cell_type": "code",
   "execution_count": null,
   "id": "3c0f4ef8",
   "metadata": {},
   "outputs": [],
   "source": [
    "exp.model_interpret(model=\"EBM\", show=\"local_fi\", sample_id=0, original_scale=True, figsize=(5, 4))"
   ]
  }
 ],
 "metadata": {
  "kernelspec": {
   "display_name": "Python 3",
   "language": "python",
   "name": "python3"
  },
  "language_info": {
   "codemirror_mode": {
    "name": "ipython",
    "version": 3
   },
   "file_extension": ".py",
   "mimetype": "text/x-python",
   "name": "python",
   "nbconvert_exporter": "python",
   "pygments_lexer": "ipython3",
   "version": "3.9.12"
  }
 },
 "nbformat": 4,
 "nbformat_minor": 5
}