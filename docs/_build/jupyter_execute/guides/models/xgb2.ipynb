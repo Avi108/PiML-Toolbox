{
 "cells": [
  {
   "cell_type": "code",
   "execution_count": null,
   "id": "262ab19f",
   "metadata": {},
   "outputs": [],
   "source": [
    "from piml.models import XGB2Regressor\n",
    "exp.model_train(model=XGB2Regressor(), name=\"XGB2\")"
   ]
  },
  {
   "cell_type": "code",
   "execution_count": null,
   "id": "d01833e6",
   "metadata": {},
   "outputs": [],
   "source": [
    "exp.model_interpret(model=\"XGB2\", show=\"global_effect_plot\", uni_feature=\"atemp\",\n",
    "                    original_scale=True, figsize=(5, 4))"
   ]
  },
  {
   "cell_type": "code",
   "execution_count": null,
   "id": "c896a9ab",
   "metadata": {},
   "outputs": [],
   "source": [
    "exp.model_interpret(model=\"XGB2\", show=\"global_effect_plot\", bi_features=[\"hr\", \"workingday\"],\n",
    "                    original_scale=True, figsize=(5, 4))"
   ]
  },
  {
   "cell_type": "code",
   "execution_count": null,
   "id": "02c668b4",
   "metadata": {},
   "outputs": [],
   "source": [
    "exp.model_interpret(model=\"XGB2\", show=\"global_ei\", figsize=(5, 4))"
   ]
  },
  {
   "cell_type": "code",
   "execution_count": null,
   "id": "081e2479",
   "metadata": {},
   "outputs": [],
   "source": [
    "exp.model_interpret(model='XGB2', show=\"global_fi\", figsize=(5, 4))"
   ]
  },
  {
   "cell_type": "code",
   "execution_count": null,
   "id": "4d592c1e",
   "metadata": {},
   "outputs": [],
   "source": [
    "exp.model_interpret(model='XGB2', show=\"local_ei\", sample_id=0, original_scale=True, figsize=(5, 4))"
   ]
  },
  {
   "cell_type": "code",
   "execution_count": null,
   "id": "a265e574",
   "metadata": {},
   "outputs": [],
   "source": [
    "exp.model_interpret(model=\"XGB2\", show=\"local_fi\", sample_id=0, original_scale=True, figsize=(5, 4))"
   ]
  }
 ],
 "metadata": {
  "kernelspec": {
   "display_name": "Python 3",
   "language": "python",
   "name": "python3"
  },
  "language_info": {
   "codemirror_mode": {
    "name": "ipython",
    "version": 3
   },
   "file_extension": ".py",
   "mimetype": "text/x-python",
   "name": "python",
   "nbconvert_exporter": "python",
   "pygments_lexer": "ipython3",
   "version": "3.9.12"
  }
 },
 "nbformat": 4,
 "nbformat_minor": 5
}