{
 "cells": [
  {
   "cell_type": "code",
   "execution_count": null,
   "id": "3e4988cf",
   "metadata": {},
   "outputs": [],
   "source": [
    "from piml.models import XGB2Regressor\n",
    "exp.model_train(model=XGB2Regressor(), name=\"XGB2\")"
   ]
  },
  {
   "cell_type": "code",
   "execution_count": null,
   "id": "2e7b3cde",
   "metadata": {},
   "outputs": [],
   "source": [
    "exp.model_interpret(model=\"XGB2\", show=\"global_effect_plot\", uni_feature=\"atemp\",\n",
    "                    original_scale=True, figsize=(5, 4))"
   ]
  },
  {
   "cell_type": "code",
   "execution_count": null,
   "id": "f0d63488",
   "metadata": {},
   "outputs": [],
   "source": [
    "exp.model_interpret(model=\"XGB2\", show=\"global_effect_plot\", bi_features=[\"hr\", \"workingday\"],\n",
    "                    original_scale=True, figsize=(5, 4))"
   ]
  },
  {
   "cell_type": "code",
   "execution_count": null,
   "id": "46cd352b",
   "metadata": {},
   "outputs": [],
   "source": [
    "exp.model_interpret(model=\"XGB2\", show=\"global_ei\", figsize=(5, 4))"
   ]
  },
  {
   "cell_type": "code",
   "execution_count": null,
   "id": "4f35ee2d",
   "metadata": {},
   "outputs": [],
   "source": [
    "exp.model_interpret(model='XGB2', show=\"global_fi\", figsize=(5, 4))"
   ]
  },
  {
   "cell_type": "code",
   "execution_count": null,
   "id": "b733ef36",
   "metadata": {},
   "outputs": [],
   "source": [
    "exp.model_interpret(model='XGB2', show=\"local_ei\", sample_id=0, original_scale=True, figsize=(5, 4))"
   ]
  },
  {
   "cell_type": "code",
   "execution_count": null,
   "id": "5734278e",
   "metadata": {},
   "outputs": [],
   "source": [
    "exp.model_interpret(model=\"XGB2\", show=\"local_fi\", sample_id=0, original_scale=True, figsize=(5, 4))"
   ]
  }
 ],
 "metadata": {
  "kernelspec": {
   "display_name": "Python 3",
   "language": "python",
   "name": "python3"
  },
  "language_info": {
   "codemirror_mode": {
    "name": "ipython",
    "version": 3
   },
   "file_extension": ".py",
   "mimetype": "text/x-python",
   "name": "python",
   "nbconvert_exporter": "python",
   "pygments_lexer": "ipython3",
   "version": "3.9.12"
  }
 },
 "nbformat": 4,
 "nbformat_minor": 5
}