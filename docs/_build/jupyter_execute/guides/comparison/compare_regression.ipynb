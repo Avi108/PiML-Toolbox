{
 "cells": [
  {
   "cell_type": "code",
   "execution_count": null,
   "id": "54345f4d",
   "metadata": {},
   "outputs": [],
   "source": [
    "exp.model_compare(models=[\"GLM\", \"XGB2\", \"XGB7\"], show=\"accuracy_plot\",\n",
    "                  metric=\"MSE\", figsize=(5, 4))"
   ]
  },
  {
   "cell_type": "code",
   "execution_count": null,
   "id": "93368e59",
   "metadata": {},
   "outputs": [],
   "source": [
    "exp.model_compare(models=[\"GLM\", \"XGB2\", \"XGB7\"], show=\"accuracy_plot\",\n",
    "                  metric=\"MAE\", figsize=(5, 4))"
   ]
  },
  {
   "cell_type": "code",
   "execution_count": null,
   "id": "a968a108",
   "metadata": {},
   "outputs": [],
   "source": [
    "exp.model_compare(models=[\"GLM\", \"XGB2\", \"XGB7\"], show=\"accuracy_plot\",\n",
    "                  metric=\"R2\", figsize=(5, 4))"
   ]
  },
  {
   "cell_type": "code",
   "execution_count": null,
   "id": "773975c1",
   "metadata": {},
   "outputs": [],
   "source": [
    "exp.model_compare(models=[\"GLM\", \"XGB2\", \"XGB7\"], show=\"overfit\",\n",
    "                  slice_method=\"histogram\", slice_feature=\"hr\", threshold=1.05,\n",
    "                  bins=10, metricmetric=\"MSE\", figsize=(5, 4))"
   ]
  },
  {
   "cell_type": "code",
   "execution_count": null,
   "id": "c7595ddc",
   "metadata": {},
   "outputs": [],
   "source": [
    "exp.model_compare(models=[\"GLM\", \"XGB2\", \"XGB7\"], show=\"overfit\",\n",
    "                  slice_method=\"tree\", slice_feature=\"atemp\", threshold=1.05,\n",
    "                  metricmetric=\"ACC\", figsize=(5, 4))"
   ]
  },
  {
   "cell_type": "code",
   "execution_count": null,
   "id": "19413830",
   "metadata": {},
   "outputs": [],
   "source": [
    "exp.model_compare(models=[\"GLM\", \"XGB2\", \"XGB7\"], show=\"reliability_coverage\",\n",
    "                  alpha=0.1, figsize=(5, 4))"
   ]
  },
  {
   "cell_type": "code",
   "execution_count": null,
   "id": "bd0a457b",
   "metadata": {},
   "outputs": [],
   "source": [
    "exp.model_compare(models=[\"GLM\", \"XGB2\", \"XGB7\"], show=\"reliability_bandwidth\",\n",
    "                  alpha=0.1, figsize=(5, 4))"
   ]
  },
  {
   "cell_type": "code",
   "execution_count": null,
   "id": "39be8dbf",
   "metadata": {},
   "outputs": [],
   "source": [
    "exp.model_compare(models=[\"GLM\", \"XGB2\", \"XGB7\"], show=\"robustness_perf\",\n",
    "                  perturb_method=\"raw\", perturb_size=0.2, metric=\"MSE\", figsize=(5, 4))"
   ]
  },
  {
   "cell_type": "code",
   "execution_count": null,
   "id": "fc20243c",
   "metadata": {},
   "outputs": [],
   "source": [
    "exp.model_compare(models=[\"GLM\", \"XGB2\", \"XGB7\"], show=\"robustness_perf_worst\",\n",
    "                  perturb_method=\"quantile\", perturb_size=0.1, metric=\"R2\", alpha=0.3, figsize=(5, 4))"
   ]
  },
  {
   "cell_type": "code",
   "execution_count": null,
   "id": "bf8dec5c",
   "metadata": {},
   "outputs": [],
   "source": [
    "exp.model_compare(models=[\"GLM\", \"XGB2\", \"XGB7\"], show=\"resilience_perf\",\n",
    "                  resilience_method=\"worst-sample\", immu_feature=None, metric=\"MSE\", figsize=(5, 4))"
   ]
  },
  {
   "cell_type": "code",
   "execution_count": null,
   "id": "73fe966c",
   "metadata": {},
   "outputs": [],
   "source": [
    "exp.model_compare(models=[\"GLM\", \"XGB2\", \"XGB7\"], show=\"resilience_perf_worst\",\n",
    "                  resilience_method=\"worst-sample\", immu_feature=None, metric=\"MSE\",\n",
    "                  alpha=0.3, figsize=(5, 4))"
   ]
  }
 ],
 "metadata": {
  "kernelspec": {
   "display_name": "Python 3",
   "language": "python",
   "name": "python3"
  },
  "language_info": {
   "codemirror_mode": {
    "name": "ipython",
    "version": 3
   },
   "file_extension": ".py",
   "mimetype": "text/x-python",
   "name": "python",
   "nbconvert_exporter": "python",
   "pygments_lexer": "ipython3",
   "version": "3.9.12"
  }
 },
 "nbformat": 4,
 "nbformat_minor": 5
}