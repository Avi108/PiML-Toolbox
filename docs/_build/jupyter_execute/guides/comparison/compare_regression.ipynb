{
 "cells": [
  {
   "cell_type": "code",
   "execution_count": null,
   "id": "66f5cd1e",
   "metadata": {},
   "outputs": [],
   "source": [
    "exp.model_compare(models=[\"GLM\", \"XGB2\", \"XGB7\"], show=\"accuracy_plot\",\n",
    "                  metric=\"MSE\", figsize=(5, 4))"
   ]
  },
  {
   "cell_type": "code",
   "execution_count": null,
   "id": "22e9363b",
   "metadata": {},
   "outputs": [],
   "source": [
    "exp.model_compare(models=[\"GLM\", \"XGB2\", \"XGB7\"], show=\"accuracy_plot\",\n",
    "                  metric=\"MAE\", figsize=(5, 4))"
   ]
  },
  {
   "cell_type": "code",
   "execution_count": null,
   "id": "d4a55895",
   "metadata": {},
   "outputs": [],
   "source": [
    "exp.model_compare(models=[\"GLM\", \"XGB2\", \"XGB7\"], show=\"accuracy_plot\",\n",
    "                  metric=\"R2\", figsize=(5, 4))"
   ]
  },
  {
   "cell_type": "code",
   "execution_count": null,
   "id": "6bd14902",
   "metadata": {},
   "outputs": [],
   "source": [
    "exp.model_compare(models=[\"GLM\", \"XGB2\", \"XGB7\"], show=\"overfit\",\n",
    "                  slice_method=\"historgram\", slice_feature=\"hr\", threshold=1.05,\n",
    "                  bins=10, metricmetric=\"MSE\", figsize=(5, 4))"
   ]
  },
  {
   "cell_type": "code",
   "execution_count": null,
   "id": "fed6fed9",
   "metadata": {},
   "outputs": [],
   "source": [
    "exp.model_compare(models=[\"GLM\", \"XGB2\", \"XGB7\"], show=\"overfit\",\n",
    "                  slice_method=\"tree\", slice_feature=\"atemp\", threshold=1.05,\n",
    "                  metricmetric=\"ACC\", figsize=(5, 4))"
   ]
  },
  {
   "cell_type": "code",
   "execution_count": null,
   "id": "f83aef98",
   "metadata": {},
   "outputs": [],
   "source": [
    "exp.model_compare(models=[\"GLM\", \"XGB2\", \"XGB7\"], show=\"reliability_coverage\",\n",
    "                  alpha=0.1, figsize=(5, 4))"
   ]
  },
  {
   "cell_type": "code",
   "execution_count": null,
   "id": "13cf2558",
   "metadata": {},
   "outputs": [],
   "source": [
    "exp.model_compare(models=[\"GLM\", \"XGB2\", \"XGB7\"], show=\"reliability_bandwidth\",\n",
    "                  alpha=0.1, figsize=(5, 4))"
   ]
  },
  {
   "cell_type": "code",
   "execution_count": null,
   "id": "4deb90e4",
   "metadata": {},
   "outputs": [],
   "source": [
    "exp.model_compare(models=[\"GLM\", \"XGB2\", \"XGB7\"], show=\"robustness_perf\",\n",
    "                  perturb_method=\"raw\", perturb_size=0.2, metric=\"MSE\", figsize=(5, 4))"
   ]
  },
  {
   "cell_type": "code",
   "execution_count": null,
   "id": "1cb75df1",
   "metadata": {},
   "outputs": [],
   "source": [
    "exp.model_compare(models=[\"GLM\", \"XGB2\", \"XGB7\"], show=\"robustness_perf_worst\",\n",
    "                  perturb_method=\"quantile\", perturb_size=0.1, metric=\"R2\", alpha=0.3, figsize=(5, 4))"
   ]
  },
  {
   "cell_type": "code",
   "execution_count": null,
   "id": "8bfc4085",
   "metadata": {},
   "outputs": [],
   "source": [
    "exp.model_compare(models=[\"GLM\", \"XGB2\", \"XGB7\"], show=\"resilience_perf\",\n",
    "                  resilience_method=\"worst-sample\", immu_feature=None, metric=\"MSE\", figsize=(5, 4))"
   ]
  },
  {
   "cell_type": "code",
   "execution_count": null,
   "id": "d092245c",
   "metadata": {},
   "outputs": [],
   "source": [
    "exp.model_compare(models=[\"GLM\", \"XGB2\", \"XGB7\"], show=\"resilience_perf_worst\",\n",
    "                  resilience_method=\"worst-sample\", immu_feature=None, metric=\"MSE\",\n",
    "                  alpha=0.3, figsize=(5, 4))"
   ]
  }
 ],
 "metadata": {
  "kernelspec": {
   "display_name": "Python 3",
   "language": "python",
   "name": "python3"
  },
  "language_info": {
   "codemirror_mode": {
    "name": "ipython",
    "version": 3
   },
   "file_extension": ".py",
   "mimetype": "text/x-python",
   "name": "python",
   "nbconvert_exporter": "python",
   "pygments_lexer": "ipython3",
   "version": "3.9.12"
  }
 },
 "nbformat": 4,
 "nbformat_minor": 5
}