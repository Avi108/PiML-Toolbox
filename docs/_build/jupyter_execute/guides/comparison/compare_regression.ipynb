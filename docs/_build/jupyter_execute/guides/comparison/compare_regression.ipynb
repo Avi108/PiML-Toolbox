{
 "cells": [
  {
   "cell_type": "code",
   "execution_count": null,
   "id": "8943b692",
   "metadata": {},
   "outputs": [],
   "source": [
    "exp.model_compare(models=[\"GLM\", \"XGB2\", \"XGB7\"], show=\"accuracy_plot\",\n",
    "                  metric=\"MSE\", figsize=(5, 4))"
   ]
  },
  {
   "cell_type": "code",
   "execution_count": null,
   "id": "0312208f",
   "metadata": {},
   "outputs": [],
   "source": [
    "exp.model_compare(models=[\"GLM\", \"XGB2\", \"XGB7\"], show=\"accuracy_plot\",\n",
    "                  metric=\"MAE\", figsize=(5, 4))"
   ]
  },
  {
   "cell_type": "code",
   "execution_count": null,
   "id": "ad1bce0a",
   "metadata": {},
   "outputs": [],
   "source": [
    "exp.model_compare(models=[\"GLM\", \"XGB2\", \"XGB7\"], show=\"accuracy_plot\",\n",
    "                  metric=\"R2\", figsize=(5, 4))"
   ]
  },
  {
   "cell_type": "code",
   "execution_count": null,
   "id": "36a44185",
   "metadata": {},
   "outputs": [],
   "source": [
    "exp.model_compare(models=[\"GLM\", \"XGB2\", \"XGB7\"], show=\"overfit\",\n",
    "                  slice_method=\"histogram\", slice_feature=\"hr\", threshold=1.05,\n",
    "                  bins=10, metricmetric=\"MSE\", figsize=(5, 4))"
   ]
  },
  {
   "cell_type": "code",
   "execution_count": null,
   "id": "da339f9f",
   "metadata": {},
   "outputs": [],
   "source": [
    "exp.model_compare(models=[\"GLM\", \"XGB2\", \"XGB7\"], show=\"overfit\",\n",
    "                  slice_method=\"tree\", slice_feature=\"atemp\", threshold=1.05,\n",
    "                  metricmetric=\"ACC\", figsize=(5, 4))"
   ]
  },
  {
   "cell_type": "code",
   "execution_count": null,
   "id": "848ca6da",
   "metadata": {},
   "outputs": [],
   "source": [
    "exp.model_compare(models=[\"GLM\", \"XGB2\", \"XGB7\"], show=\"reliability_coverage\",\n",
    "                  alpha=0.1, figsize=(5, 4))"
   ]
  },
  {
   "cell_type": "code",
   "execution_count": null,
   "id": "1a045dbb",
   "metadata": {},
   "outputs": [],
   "source": [
    "exp.model_compare(models=[\"GLM\", \"XGB2\", \"XGB7\"], show=\"reliability_bandwidth\",\n",
    "                  alpha=0.1, figsize=(5, 4))"
   ]
  },
  {
   "cell_type": "code",
   "execution_count": null,
   "id": "b5b13a8f",
   "metadata": {},
   "outputs": [],
   "source": [
    "exp.model_compare(models=[\"GLM\", \"XGB2\", \"XGB7\"], show=\"robustness_perf\",\n",
    "                  perturb_method=\"raw\", perturb_size=0.2, metric=\"MSE\", figsize=(5, 4))"
   ]
  },
  {
   "cell_type": "code",
   "execution_count": null,
   "id": "1b7eabd0",
   "metadata": {},
   "outputs": [],
   "source": [
    "exp.model_compare(models=[\"GLM\", \"XGB2\", \"XGB7\"], show=\"robustness_perf_worst\",\n",
    "                  perturb_method=\"quantile\", perturb_size=0.1, metric=\"R2\", alpha=0.3, figsize=(5, 4))"
   ]
  },
  {
   "cell_type": "code",
   "execution_count": null,
   "id": "7e3690b1",
   "metadata": {},
   "outputs": [],
   "source": [
    "exp.model_compare(models=[\"GLM\", \"XGB2\", \"XGB7\"], show=\"resilience_perf\",\n",
    "                  resilience_method=\"worst-sample\", immu_feature=None, metric=\"MSE\", figsize=(5, 4))"
   ]
  },
  {
   "cell_type": "code",
   "execution_count": null,
   "id": "ae33df0b",
   "metadata": {},
   "outputs": [],
   "source": [
    "exp.model_compare(models=[\"GLM\", \"XGB2\", \"XGB7\"], show=\"resilience_perf_worst\",\n",
    "                  resilience_method=\"worst-sample\", immu_feature=None, metric=\"MSE\",\n",
    "                  alpha=0.3, figsize=(5, 4))"
   ]
  }
 ],
 "metadata": {
  "kernelspec": {
   "display_name": "Python 3",
   "language": "python",
   "name": "python3"
  },
  "language_info": {
   "codemirror_mode": {
    "name": "ipython",
    "version": 3
   },
   "file_extension": ".py",
   "mimetype": "text/x-python",
   "name": "python",
   "nbconvert_exporter": "python",
   "pygments_lexer": "ipython3",
   "version": "3.9.12"
  }
 },
 "nbformat": 4,
 "nbformat_minor": 5
}