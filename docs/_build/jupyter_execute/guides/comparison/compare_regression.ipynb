{
 "cells": [
  {
   "cell_type": "code",
   "execution_count": null,
   "id": "d6a44445",
   "metadata": {},
   "outputs": [],
   "source": [
    "exp.model_compare(models=[\"GLM\", \"XGB2\", \"XGB7\"], show=\"accuracy_plot\",\n",
    "                  metric=\"MSE\", figsize=(5, 4))"
   ]
  },
  {
   "cell_type": "code",
   "execution_count": null,
   "id": "670b41a4",
   "metadata": {},
   "outputs": [],
   "source": [
    "exp.model_compare(models=[\"GLM\", \"XGB2\", \"XGB7\"], show=\"accuracy_plot\",\n",
    "                  metric=\"MAE\", figsize=(5, 4))"
   ]
  },
  {
   "cell_type": "code",
   "execution_count": null,
   "id": "7e7dc664",
   "metadata": {},
   "outputs": [],
   "source": [
    "exp.model_compare(models=[\"GLM\", \"XGB2\", \"XGB7\"], show=\"accuracy_plot\",\n",
    "                  metric=\"R2\", figsize=(5, 4))"
   ]
  },
  {
   "cell_type": "code",
   "execution_count": null,
   "id": "6e1d1df4",
   "metadata": {},
   "outputs": [],
   "source": [
    "exp.model_compare(models=[\"GLM\", \"XGB2\", \"XGB7\"], show=\"overfit\",\n",
    "                  metricmetric=\"MSE\", slice_method=\"histogram\", bins=10,\n",
    "                  slice_feature=\"hr\", figsize=(5, 4))"
   ]
  },
  {
   "cell_type": "code",
   "execution_count": null,
   "id": "a75ae0a9",
   "metadata": {},
   "outputs": [],
   "source": [
    "exp.model_compare(models=[\"GLM\", \"XGB2\", \"XGB7\"], show=\"overfit\",\n",
    "                  slice_method=\"histogram\", slice_feature=\"hr\",\n",
    "                  metric=\"MAE\", figsize=(5, 4))"
   ]
  },
  {
   "cell_type": "code",
   "execution_count": null,
   "id": "bdc829ff",
   "metadata": {},
   "outputs": [],
   "source": [
    "exp.model_compare(models=[\"GLM\", \"XGB2\", \"XGB7\"], show=\"reliability_bandwidth\",\n",
    "                  alpha=0.1, figsize=(5, 4))"
   ]
  },
  {
   "cell_type": "code",
   "execution_count": null,
   "id": "f952e4ff",
   "metadata": {},
   "outputs": [],
   "source": [
    "exp.model_compare(models=[\"GLM\", \"XGB2\", \"XGB7\"], show=\"reliability_coverage\",\n",
    "                  alpha=0.1, figsize=(5, 4))"
   ]
  },
  {
   "cell_type": "code",
   "execution_count": null,
   "id": "c70e357a",
   "metadata": {},
   "outputs": [],
   "source": [
    "exp.model_compare(models=[\"GLM\", \"XGB2\", \"XGB7\"], show=\"robustness_perf\",\n",
    "                  metric=\"MSE\", figsize=(5, 4))"
   ]
  },
  {
   "cell_type": "code",
   "execution_count": null,
   "id": "1c393b8b",
   "metadata": {},
   "outputs": [],
   "source": [
    "exp.model_compare(models=[\"GLM\", \"XGB2\", \"XGB7\"], show=\"robustness_perf_worst\",\n",
    "                  alpha=0.3, figsize=(5, 4))"
   ]
  },
  {
   "cell_type": "code",
   "execution_count": null,
   "id": "42cf698a",
   "metadata": {},
   "outputs": [],
   "source": [
    "exp.model_compare(models=[\"GLM\", \"XGB2\", \"XGB7\"], show=\"resilience_perf\",\n",
    "                  resilience_method=\"worst-sample\", immu_feature=None, metric=\"MAE\", figsize=(5, 4))"
   ]
  },
  {
   "cell_type": "code",
   "execution_count": null,
   "id": "a20368a2",
   "metadata": {},
   "outputs": [],
   "source": [
    "exp.model_compare(models=[\"GLM\", \"XGB2\", \"XGB7\"], show=\"resilience_distance\",\n",
    "                  resilience_method=\"worst-sample\", metric=\"MAE\", alpha=0.3, figsize=(5, 4))"
   ]
  }
 ],
 "metadata": {
  "kernelspec": {
   "display_name": "Python 3",
   "language": "python",
   "name": "python3"
  },
  "language_info": {
   "codemirror_mode": {
    "name": "ipython",
    "version": 3
   },
   "file_extension": ".py",
   "mimetype": "text/x-python",
   "name": "python",
   "nbconvert_exporter": "python",
   "pygments_lexer": "ipython3",
   "version": "3.9.12"
  }
 },
 "nbformat": 4,
 "nbformat_minor": 5
}