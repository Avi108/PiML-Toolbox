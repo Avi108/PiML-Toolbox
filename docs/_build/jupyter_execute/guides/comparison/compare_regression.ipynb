{
 "cells": [
  {
   "cell_type": "code",
   "execution_count": null,
   "id": "2ad8f8cb",
   "metadata": {},
   "outputs": [],
   "source": [
    "exp.model_compare(models=[\"GLM\", \"XGB2\", \"XGB7\"], show=\"accuracy_plot\",\n",
    "                  metric=\"MSE\", figsize=(5, 4))"
   ]
  },
  {
   "cell_type": "code",
   "execution_count": null,
   "id": "c1641bb5",
   "metadata": {},
   "outputs": [],
   "source": [
    "exp.model_compare(models=[\"GLM\", \"XGB2\", \"XGB7\"], show=\"accuracy_plot\",\n",
    "                  metric=\"MAE\", figsize=(5, 4))"
   ]
  },
  {
   "cell_type": "code",
   "execution_count": null,
   "id": "6d079f1d",
   "metadata": {},
   "outputs": [],
   "source": [
    "exp.model_compare(models=[\"GLM\", \"XGB2\", \"XGB7\"], show=\"accuracy_plot\",\n",
    "                  metric=\"R2\", figsize=(5, 4))"
   ]
  },
  {
   "cell_type": "code",
   "execution_count": null,
   "id": "05d41879",
   "metadata": {},
   "outputs": [],
   "source": [
    "exp.model_compare(models=[\"GLM\", \"XGB2\", \"XGB7\"], show=\"overfit\",\n",
    "                  metricmetric=\"MSE\", slice_method=\"histogram\", bins=10,\n",
    "                  slice_feature=\"hr\", figsize=(5, 4))"
   ]
  },
  {
   "cell_type": "code",
   "execution_count": null,
   "id": "08976728",
   "metadata": {},
   "outputs": [],
   "source": [
    "exp.model_compare(models=[\"GLM\", \"XGB2\", \"XGB7\"], show=\"overfit\",\n",
    "                  slice_method=\"tree\", slice_feature=\"hr\",\n",
    "                  metricmetric=\"MSE\", figsize=(5, 4))"
   ]
  },
  {
   "cell_type": "code",
   "execution_count": null,
   "id": "a37d18d0",
   "metadata": {},
   "outputs": [],
   "source": [
    "exp.model_compare(models=[\"GLM\", \"XGB2\", \"XGB7\"], show=\"reliability_bandwidth\",\n",
    "                  alpha=0.1, figsize=(5, 4))"
   ]
  },
  {
   "cell_type": "code",
   "execution_count": null,
   "id": "1f2f7c4e",
   "metadata": {},
   "outputs": [],
   "source": [
    "exp.model_compare(models=[\"GLM\", \"XGB2\", \"XGB7\"], show=\"reliability_coverage\",\n",
    "                  alpha=0.1, figsize=(5, 4))"
   ]
  },
  {
   "cell_type": "code",
   "execution_count": null,
   "id": "e8c8a955",
   "metadata": {},
   "outputs": [],
   "source": [
    "exp.model_compare(models=[\"GLM\", \"XGB2\", \"XGB7\"], show=\"robustness_perf\",\n",
    "                  metric=\"MSE\", figsize=(5, 4))"
   ]
  },
  {
   "cell_type": "code",
   "execution_count": null,
   "id": "b7cf5e02",
   "metadata": {},
   "outputs": [],
   "source": [
    "exp.model_compare(models=[\"GLM\", \"XGB2\", \"XGB7\"], show=\"robustness_perf_worst\",\n",
    "                  alpha=0.3, figsize=(5, 4))"
   ]
  },
  {
   "cell_type": "code",
   "execution_count": null,
   "id": "4ee592e9",
   "metadata": {},
   "outputs": [],
   "source": [
    "exp.model_compare(models=[\"GLM\", \"XGB2\", \"XGB7\"], show=\"resilience_perf\",\n",
    "                  resilience_method=\"worst-sample\", immu_feature=None, metric=\"MAE\", figsize=(5, 4))"
   ]
  },
  {
   "cell_type": "code",
   "execution_count": null,
   "id": "3b989018",
   "metadata": {},
   "outputs": [],
   "source": [
    "exp.model_compare(models=[\"GLM\", \"XGB2\", \"XGB7\"], show=\"resilience_distance\",\n",
    "                  resilience_method=\"worst-sample\", metric=\"MAE\", alpha=0.3, figsize=(5, 4))"
   ]
  }
 ],
 "metadata": {
  "kernelspec": {
   "display_name": "Python 3",
   "language": "python",
   "name": "python3"
  },
  "language_info": {
   "codemirror_mode": {
    "name": "ipython",
    "version": 3
   },
   "file_extension": ".py",
   "mimetype": "text/x-python",
   "name": "python",
   "nbconvert_exporter": "python",
   "pygments_lexer": "ipython3",
   "version": "3.9.12"
  }
 },
 "nbformat": 4,
 "nbformat_minor": 5
}