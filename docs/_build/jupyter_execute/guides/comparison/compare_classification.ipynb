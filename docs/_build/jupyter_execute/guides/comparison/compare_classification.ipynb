{
 "cells": [
  {
   "cell_type": "code",
   "execution_count": null,
   "id": "8dd41219",
   "metadata": {},
   "outputs": [],
   "source": [
    "exp.model_compare(models=[\"Tree\", \"FIGS\", \"XGB2\"], show=\"accuracy_plot\", metric=\"ACC\")"
   ]
  },
  {
   "cell_type": "code",
   "execution_count": null,
   "id": "a7799b3d",
   "metadata": {},
   "outputs": [],
   "source": [
    "exp.model_compare(models=[\"Tree\", \"FIGS\", \"XGB2\"], show=\"accuracy_plot\", metric=\"AUC\")"
   ]
  },
  {
   "cell_type": "code",
   "execution_count": null,
   "id": "d5e75a50",
   "metadata": {},
   "outputs": [],
   "source": [
    "exp.model_compare(models=[\"Tree\", \"FIGS\", \"XGB2\"], show=\"accuracy_plot\", metric=\"F1\")"
   ]
  },
  {
   "cell_type": "code",
   "execution_count": null,
   "id": "0a1271c3",
   "metadata": {},
   "outputs": [],
   "source": [
    "exp.model_compare(models=[\"Tree\", \"FIGS\", \"XGB2\"], show=\"overfit\",\n",
    "                  slice_method=\"histogram\", slice_feature=\"PAY_1\",\n",
    "                  bins=10, metric=\"ACC\", figsize=(5, 4))"
   ]
  },
  {
   "cell_type": "code",
   "execution_count": null,
   "id": "0b50d2bb",
   "metadata": {},
   "outputs": [],
   "source": [
    "exp.model_compare(models=[\"Tree\", \"FIGS\", \"XGB2\"], show=\"overfit\",\n",
    "                  slice_method=\"histogram\", slice_feature=\"PAY_1\",\n",
    "                  metric=\"AUC\", original_scale=True, figsize=(5, 4))"
   ]
  },
  {
   "cell_type": "code",
   "execution_count": null,
   "id": "a0ce660f",
   "metadata": {},
   "outputs": [],
   "source": [
    "exp.model_compare(models=[\"Tree\", \"FIGS\", \"XGB2\"], show=\"reliability_bandwidth\", figsize=(5, 4))"
   ]
  },
  {
   "cell_type": "code",
   "execution_count": null,
   "id": "664c85dd",
   "metadata": {},
   "outputs": [],
   "source": [
    "exp.model_compare(models=[\"Tree\", \"FIGS\", \"XGB2\"], show=\"reliability_perf\",\n",
    "                  bins=10, figsize=(5, 4))"
   ]
  },
  {
   "cell_type": "code",
   "execution_count": null,
   "id": "fa237f8c",
   "metadata": {},
   "outputs": [],
   "source": [
    "exp.model_compare(models=[\"Tree\", \"FIGS\", \"XGB2\"], show=\"robustness_perf\",\n",
    "                  figsize=(5, 4))"
   ]
  },
  {
   "cell_type": "code",
   "execution_count": null,
   "id": "12f67458",
   "metadata": {},
   "outputs": [],
   "source": [
    "exp.model_compare(models=[\"Tree\", \"FIGS\", \"XGB2\"], show=\"robustness_perf_worst\",\n",
    "                  alpha=0.3, figsize=(5, 4))"
   ]
  },
  {
   "cell_type": "code",
   "execution_count": null,
   "id": "4af7ae5d",
   "metadata": {},
   "outputs": [],
   "source": [
    "exp.model_compare(models=[\"Tree\", \"FIGS\", \"XGB2\"], show=\"resilience_perf\",\n",
    "                  resilience_method=\"worst-sample\", immu_feature=None, metric=\"AUC\", figsize=(5, 4))"
   ]
  },
  {
   "cell_type": "code",
   "execution_count": null,
   "id": "1b025072",
   "metadata": {},
   "outputs": [],
   "source": [
    "exp.model_compare(models=[\"Tree\", \"FIGS\", \"XGB2\"], show=\"resilience_distance\",\n",
    "                  resilience_method=\"worst-sample\", metric=\"AUC\", alpha=0.3, figsize=(5, 4))"
   ]
  }
 ],
 "metadata": {
  "kernelspec": {
   "display_name": "Python 3",
   "language": "python",
   "name": "python3"
  },
  "language_info": {
   "codemirror_mode": {
    "name": "ipython",
    "version": 3
   },
   "file_extension": ".py",
   "mimetype": "text/x-python",
   "name": "python",
   "nbconvert_exporter": "python",
   "pygments_lexer": "ipython3",
   "version": "3.9.12"
  }
 },
 "nbformat": 4,
 "nbformat_minor": 5
}