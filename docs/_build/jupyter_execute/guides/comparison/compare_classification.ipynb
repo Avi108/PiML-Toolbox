{
 "cells": [
  {
   "cell_type": "code",
   "execution_count": null,
   "id": "93a38327",
   "metadata": {},
   "outputs": [],
   "source": [
    "exp.model_compare(models=[\"Tree\", \"FIGS\", \"XGB2\"], show=\"accuracy_plot\", metric=\"ACC\")"
   ]
  },
  {
   "cell_type": "code",
   "execution_count": null,
   "id": "6ddc41c9",
   "metadata": {},
   "outputs": [],
   "source": [
    "exp.model_compare(models=[\"Tree\", \"FIGS\", \"XGB2\"], show=\"accuracy_plot\", metric=\"AUC\")"
   ]
  },
  {
   "cell_type": "code",
   "execution_count": null,
   "id": "10650873",
   "metadata": {},
   "outputs": [],
   "source": [
    "exp.model_compare(models=[\"Tree\", \"FIGS\", \"XGB2\"], show=\"accuracy_plot\", metric=\"F1\")"
   ]
  },
  {
   "cell_type": "code",
   "execution_count": null,
   "id": "3ef2de2b",
   "metadata": {},
   "outputs": [],
   "source": [
    "exp.model_compare(models=[\"Tree\", \"FIGS\", \"XGB2\"], show=\"overfit\",\n",
    "                  slice_method=\"histogram\", slice_feature=\"PAY_1\", threshold=1.05,\n",
    "                  bins=10, metricmetric=\"ACC\", figsize=(5, 4))"
   ]
  },
  {
   "cell_type": "code",
   "execution_count": null,
   "id": "2971dff4",
   "metadata": {},
   "outputs": [],
   "source": [
    "exp.model_compare(models=[\"Tree\", \"FIGS\", \"XGB2\"], show=\"overfit\",\n",
    "                  slice_method=\"tree\", slice_feature=\"PAY_1\", threshold=1.05,\n",
    "                  metricmetric=\"ACC\", figsize=(5, 4))"
   ]
  },
  {
   "cell_type": "code",
   "execution_count": null,
   "id": "4bbe51bc",
   "metadata": {},
   "outputs": [],
   "source": [
    "exp.model_compare(models=[\"Tree\", \"FIGS\", \"XGB2\"], show=\"reliability_bandwidth\", figsize=(5, 4))"
   ]
  },
  {
   "cell_type": "code",
   "execution_count": null,
   "id": "41e11d73",
   "metadata": {},
   "outputs": [],
   "source": [
    "exp.model_compare(models=[\"Tree\", \"FIGS\", \"XGB2\"], show=\"reliability_perf\",\n",
    "                  bins=10, figsize=(5, 4))"
   ]
  },
  {
   "cell_type": "code",
   "execution_count": null,
   "id": "ce937ada",
   "metadata": {},
   "outputs": [],
   "source": [
    "exp.model_compare(models=[\"Tree\", \"FIGS\", \"XGB2\"], show=\"robustness_perf\",\n",
    "                  perturb_method=\"raw\", perturb_size=0.2, metric=\"AUC\", figsize=(5, 4))"
   ]
  },
  {
   "cell_type": "code",
   "execution_count": null,
   "id": "81d263d9",
   "metadata": {},
   "outputs": [],
   "source": [
    "exp.model_compare(models=[\"Tree\", \"FIGS\", \"XGB2\"], show=\"robustness_perf_worst\",\n",
    "                  perturb_method=\"quantile\", perturb_size=0.1, metric=\"F1\", alpha=0.3, figsize=(5, 4))"
   ]
  },
  {
   "cell_type": "code",
   "execution_count": null,
   "id": "97cf68e1",
   "metadata": {},
   "outputs": [],
   "source": [
    "exp.model_compare(models=[\"Tree\", \"FIGS\", \"XGB2\"], show=\"resilience_perf\",\n",
    "                  resilience_method=\"worst-sample\", immu_feature=None, metric=\"AUC\", figsize=(5, 4))"
   ]
  },
  {
   "cell_type": "code",
   "execution_count": null,
   "id": "8a7308da",
   "metadata": {},
   "outputs": [],
   "source": [
    "exp.model_compare(models=[\"Tree\", \"FIGS\", \"XGB2\"], show=\"resilience_perf_worst\",\n",
    "                  resilience_method=\"worst-sample\", immu_feature=None, metric=\"AUC\",\n",
    "                  alpha=0.3, figsize=(5, 4))"
   ]
  }
 ],
 "metadata": {
  "kernelspec": {
   "display_name": "Python 3",
   "language": "python",
   "name": "python3"
  },
  "language_info": {
   "codemirror_mode": {
    "name": "ipython",
    "version": 3
   },
   "file_extension": ".py",
   "mimetype": "text/x-python",
   "name": "python",
   "nbconvert_exporter": "python",
   "pygments_lexer": "ipython3",
   "version": "3.9.12"
  }
 },
 "nbformat": 4,
 "nbformat_minor": 5
}