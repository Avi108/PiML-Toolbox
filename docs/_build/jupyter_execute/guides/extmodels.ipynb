{
 "cells": [
  {
   "cell_type": "code",
   "execution_count": null,
   "id": "d5cc100f",
   "metadata": {},
   "outputs": [],
   "source": [
    "from piml import Experiment\n",
    "exp = Experiment()\n",
    "exp.data_loader(data='CaliforniaHousing_raw')\n",
    "exp.data_prepare(target='MedHouseVal', task_type='regression', random_state=0)"
   ]
  },
  {
   "cell_type": "code",
   "execution_count": null,
   "id": "5130546f",
   "metadata": {},
   "outputs": [],
   "source": [
    "from lightgbm import LGBMRegressor\n",
    "lgbm2 = LGBMRegressor(max_depth=2)\n",
    "exp.model_train(lgbm2, name='LGBM_2')"
   ]
  },
  {
   "cell_type": "code",
   "execution_count": null,
   "id": "3eb5f5b0",
   "metadata": {},
   "outputs": [],
   "source": [
    "exp.model_save(\"LGBM_2\", \"CH_LGMB_2.pkl\")"
   ]
  },
  {
   "cell_type": "code",
   "execution_count": null,
   "id": "f9f020b8",
   "metadata": {},
   "outputs": [],
   "source": [
    "pipeline = exp.make_pipeline(model='CH_LGMB_2.pkl')\n",
    "exp.register(pipeline, \"LGMB_2_load\")"
   ]
  },
  {
   "cell_type": "code",
   "execution_count": null,
   "id": "93472790",
   "metadata": {},
   "outputs": [],
   "source": [
    "from sklearn.model_selection import train_test_split\n",
    "train_x, test_x, train_y, test_y = train_test_split(exp.dataset.x, exp.dataset.y, test_size=0.2)\n",
    "\n",
    "lgbm7 = LGBMRegressor(max_depth=7, n_estimators=100)\n",
    "lgbm7.fit(train_x, train_y)\n",
    "\n",
    "pipeline = exp.make_pipeline(model=lgbm7, train_x=train_x, train_y=train_y.ravel(),\n",
    "                             test_x=test_x, test_y=test_y.ravel())\n",
    "exp.register(pipeline, \"LGMB_7\")"
   ]
  }
 ],
 "metadata": {
  "kernelspec": {
   "display_name": "Python 3 (ipykernel)",
   "language": "python",
   "name": "python3"
  },
  "language_info": {
   "codemirror_mode": {
    "name": "ipython",
    "version": 3
   },
   "file_extension": ".py",
   "mimetype": "text/x-python",
   "name": "python",
   "nbconvert_exporter": "python",
   "pygments_lexer": "ipython3",
   "version": "3.10.11"
  }
 },
 "nbformat": 4,
 "nbformat_minor": 5
}