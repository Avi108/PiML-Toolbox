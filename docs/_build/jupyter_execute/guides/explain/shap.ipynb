{
 "cells": [
  {
   "cell_type": "code",
   "execution_count": null,
   "id": "e065f8f6",
   "metadata": {},
   "outputs": [],
   "source": [
    "exp.model_explain(model=\"XGB2\", show=\"shap_waterfall\", sample_id=0, figsize=(5, 4))"
   ]
  },
  {
   "cell_type": "code",
   "execution_count": null,
   "id": "33e74354",
   "metadata": {},
   "outputs": [],
   "source": [
    "exp.model_explain(model=\"XGB2\", show=\"shap_fi\", sample_size=100, figsize=(5, 4))"
   ]
  },
  {
   "cell_type": "code",
   "execution_count": null,
   "id": "707551b6",
   "metadata": {},
   "outputs": [],
   "source": [
    "exp.model_explain(model=\"XGB2\", show=\"shap_summary\", original_scale=True, sample_size=100, figsize=(5, 4))"
   ]
  },
  {
   "cell_type": "code",
   "execution_count": null,
   "id": "42262574",
   "metadata": {},
   "outputs": [],
   "source": [
    "exp.model_explain(model=\"XGB2\", show=\"shap_scatter\", uni_feature=\"hr\",\n",
    "                  sample_size=100,  original_scale=True, figsize=(5, 4))"
   ]
  }
 ],
 "metadata": {
  "kernelspec": {
   "display_name": "Python 3",
   "language": "python",
   "name": "python3"
  },
  "language_info": {
   "codemirror_mode": {
    "name": "ipython",
    "version": 3
   },
   "file_extension": ".py",
   "mimetype": "text/x-python",
   "name": "python",
   "nbconvert_exporter": "python",
   "pygments_lexer": "ipython3",
   "version": "3.9.12"
  }
 },
 "nbformat": 4,
 "nbformat_minor": 5
}