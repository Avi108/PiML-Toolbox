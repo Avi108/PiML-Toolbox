{
 "cells": [
  {
   "cell_type": "code",
   "execution_count": null,
   "id": "97c09634",
   "metadata": {},
   "outputs": [],
   "source": [
    "exp.model_explain(model=\"XGB2\", show=\"pdp\", uni_feature=\"hr\",\n",
    "                  original_scale=True, figsize=(5, 4))"
   ]
  },
  {
   "cell_type": "code",
   "execution_count": null,
   "id": "80e1b83a",
   "metadata": {},
   "outputs": [],
   "source": [
    "exp.model_explain(model=\"XGB2\", show=\"pdp\", uni_feature=\"season\",\n",
    "                 original_scale=True, figsize=(5, 4))"
   ]
  },
  {
   "cell_type": "code",
   "execution_count": null,
   "id": "064694f0",
   "metadata": {},
   "outputs": [],
   "source": [
    "exp.model_explain(model=\"XGB2\", show=\"pdp\", bi_features=[\"hr\", \"workingday\"],\n",
    "                  pdp_size=10000, original_scale=True, figsize=(5, 4))"
   ]
  }
 ],
 "metadata": {
  "kernelspec": {
   "display_name": "Python 3",
   "language": "python",
   "name": "python3"
  },
  "language_info": {
   "codemirror_mode": {
    "name": "ipython",
    "version": 3
   },
   "file_extension": ".py",
   "mimetype": "text/x-python",
   "name": "python",
   "nbconvert_exporter": "python",
   "pygments_lexer": "ipython3",
   "version": "3.9.12"
  }
 },
 "nbformat": 4,
 "nbformat_minor": 5
}