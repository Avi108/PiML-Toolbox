{
 "cells": [
  {
   "cell_type": "code",
   "execution_count": null,
   "id": "b974f0d9",
   "metadata": {},
   "outputs": [],
   "source": [
    "exp.model_explain(model=\"XGB2\", show=\"pdp\", uni_feature=\"hr\",\n",
    "                  grid_size=50, original_scale=True, figsize=(5, 4))"
   ]
  },
  {
   "cell_type": "code",
   "execution_count": null,
   "id": "9c423415",
   "metadata": {},
   "outputs": [],
   "source": [
    "exp.model_explain(model=\"XGB2\", show=\"pdp\", uni_feature=\"season\",\n",
    "                  original_scale=True, figsize=(5, 4))"
   ]
  },
  {
   "cell_type": "code",
   "execution_count": null,
   "id": "a88e0c09",
   "metadata": {},
   "outputs": [],
   "source": [
    "exp.model_explain(model=\"XGB2\", show=\"pdp\", bi_features=[\"hr\", \"workingday\"],\n",
    "                  grid_size=10, pdp_size=10000, sliced_line=False, original_scale=True, figsize=(5, 4))"
   ]
  }
 ],
 "metadata": {
  "kernelspec": {
   "display_name": "Python 3",
   "language": "python",
   "name": "python3"
  },
  "language_info": {
   "codemirror_mode": {
    "name": "ipython",
    "version": 3
   },
   "file_extension": ".py",
   "mimetype": "text/x-python",
   "name": "python",
   "nbconvert_exporter": "python",
   "pygments_lexer": "ipython3",
   "version": "3.9.12"
  }
 },
 "nbformat": 4,
 "nbformat_minor": 5
}