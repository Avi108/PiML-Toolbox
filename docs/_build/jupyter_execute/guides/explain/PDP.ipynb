{
 "cells": [
  {
   "cell_type": "code",
   "execution_count": null,
   "id": "8c313998",
   "metadata": {},
   "outputs": [],
   "source": [
    "from piml import Experiment\n",
    "from piml.models import ReluDNNRegressor\n",
    "exp = Experiment()\n",
    "exp.data_loader(data='BikeSharing')\n",
    "exp.data_summary(feature_exclude=[\"season\", \"workingday\", \"atemp\"])\n",
    "exp.data_prepare(target='cnt', task_type='Regression', test_ratio=0.2, random_state=0)\n",
    "exp.model_train(model=ReluDNNRegressor(hidden_layer_sizes=(40, 40), l1_reg=1e-05,\n",
    "                                     batch_size=500, learning_rate=0.001), name='ReLU_DNN')"
   ]
  },
  {
   "cell_type": "code",
   "execution_count": null,
   "id": "6a8772b2",
   "metadata": {},
   "outputs": [],
   "source": [
    "exp.model_explain(model='ReLU_DNN', show='pdp', original_scale=True, uni_feature='hr', figsize=(6, 5))"
   ]
  },
  {
   "cell_type": "code",
   "execution_count": null,
   "id": "0a93b1dd",
   "metadata": {},
   "outputs": [],
   "source": [
    "exp.model_explain(model='ReLU_DNN', show='pdp', original_scale=True, uni_feature='holiday', figsize=(6, 5))"
   ]
  },
  {
   "cell_type": "code",
   "execution_count": null,
   "id": "53368624",
   "metadata": {},
   "outputs": [],
   "source": [
    "exp.model_explain(model='ReLU_DNN', show='pdp', original_scale=True,\n",
    "                                      bi_features=['hr', 'weathersit'], figsize=(6, 5))"
   ]
  }
 ],
 "metadata": {
  "kernelspec": {
   "display_name": "Python 3",
   "language": "python",
   "name": "python3"
  },
  "language_info": {
   "codemirror_mode": {
    "name": "ipython",
    "version": 3
   },
   "file_extension": ".py",
   "mimetype": "text/x-python",
   "name": "python",
   "nbconvert_exporter": "python",
   "pygments_lexer": "ipython3",
   "version": "3.9.12"
  }
 },
 "nbformat": 4,
 "nbformat_minor": 5
}