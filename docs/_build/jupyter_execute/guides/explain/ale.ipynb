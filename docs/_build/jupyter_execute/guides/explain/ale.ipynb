{
 "cells": [
  {
   "cell_type": "code",
   "execution_count": null,
   "id": "c1883469",
   "metadata": {},
   "outputs": [],
   "source": [
    "exp.model_explain(model=\"ReLUDNN\", show=\"ale\", uni_feature=\"hr\",\n",
    "                  original_scale=True, figsize=(5, 4))"
   ]
  },
  {
   "cell_type": "code",
   "execution_count": null,
   "id": "8e80c284",
   "metadata": {},
   "outputs": [],
   "source": [
    "exp.model_explain(model=\"ReLUDNN\", show=\"ale\", uni_feature=\"atemp\",\n",
    "                  original_scale=True, figsize=(5, 4))"
   ]
  },
  {
   "cell_type": "code",
   "execution_count": null,
   "id": "0dac88cf",
   "metadata": {},
   "outputs": [],
   "source": [
    "exp.model_explain(model=\"ReLUDNN\", show=\"ale\", uni_feature=\"weathersit\",\n",
    "                  original_scale=True, figsize=(5, 4))"
   ]
  },
  {
   "cell_type": "code",
   "execution_count": null,
   "id": "d87e366d",
   "metadata": {},
   "outputs": [],
   "source": [
    "exp.model_explain(model=\"ReLUDNN\", show=\"ale\", bi_features=[\"hr\", \"atemp\"]\n",
    "                  original_scale=True, figsize=(5, 4))"
   ]
  }
 ],
 "metadata": {
  "kernelspec": {
   "display_name": "Python 3",
   "language": "python",
   "name": "python3"
  },
  "language_info": {
   "codemirror_mode": {
    "name": "ipython",
    "version": 3
   },
   "file_extension": ".py",
   "mimetype": "text/x-python",
   "name": "python",
   "nbconvert_exporter": "python",
   "pygments_lexer": "ipython3",
   "version": "3.9.12"
  }
 },
 "nbformat": 4,
 "nbformat_minor": 5
}