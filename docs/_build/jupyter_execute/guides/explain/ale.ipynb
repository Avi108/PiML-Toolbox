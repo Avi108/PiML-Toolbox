{
 "cells": [
  {
   "cell_type": "code",
   "execution_count": null,
   "id": "0b01f4ed",
   "metadata": {},
   "outputs": [],
   "source": [
    "exp.model_explain(model=\"ReLUDNN\", show=\"ale\", uni_feature=\"hr\",\n",
    "                  original_scale=True, figsize=(5, 4))"
   ]
  },
  {
   "cell_type": "code",
   "execution_count": null,
   "id": "2b7ccae1",
   "metadata": {},
   "outputs": [],
   "source": [
    "exp.model_explain(model=\"ReLUDNN\", show=\"ale\", uni_feature=\"atemp\",\n",
    "                  original_scale=True, figsize=(5, 4))"
   ]
  },
  {
   "cell_type": "code",
   "execution_count": null,
   "id": "dffde4d8",
   "metadata": {},
   "outputs": [],
   "source": [
    "exp.model_explain(model=\"ReLUDNN\", show=\"ale\", uni_feature=\"weathersit\",\n",
    "                  original_scale=True, figsize=(5, 4))"
   ]
  },
  {
   "cell_type": "code",
   "execution_count": null,
   "id": "b4a479a8",
   "metadata": {},
   "outputs": [],
   "source": [
    "exp.model_explain(model=\"ReLUDNN\", show=\"ale\", bi_features=[\"hr\", \"atemp\"]\n",
    "                  original_scale=True, figsize=(5, 4))"
   ]
  }
 ],
 "metadata": {
  "kernelspec": {
   "display_name": "Python 3",
   "language": "python",
   "name": "python3"
  },
  "language_info": {
   "codemirror_mode": {
    "name": "ipython",
    "version": 3
   },
   "file_extension": ".py",
   "mimetype": "text/x-python",
   "name": "python",
   "nbconvert_exporter": "python",
   "pygments_lexer": "ipython3",
   "version": "3.9.12"
  }
 },
 "nbformat": 4,
 "nbformat_minor": 5
}