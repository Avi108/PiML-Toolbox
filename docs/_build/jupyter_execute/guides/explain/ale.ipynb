{
 "cells": [
  {
   "cell_type": "code",
   "execution_count": null,
   "id": "03cad665",
   "metadata": {},
   "outputs": [],
   "source": [
    "exp.model_explain(model=\"ReLUDNN\", show=\"ale\", uni_feature=\"hr\",\n",
    "                  original_scale=True, figsize=(5, 4))"
   ]
  },
  {
   "cell_type": "code",
   "execution_count": null,
   "id": "3e7a3e11",
   "metadata": {},
   "outputs": [],
   "source": [
    "exp.model_explain(model=\"ReLUDNN\", show=\"ale\", uni_feature=\"atemp\",\n",
    "                  original_scale=True, figsize=(5, 4))"
   ]
  },
  {
   "cell_type": "code",
   "execution_count": null,
   "id": "5e96eaee",
   "metadata": {},
   "outputs": [],
   "source": [
    "exp.model_explain(model=\"ReLUDNN\", show=\"ale\", uni_feature=\"weathersit\",\n",
    "                  original_scale=True, figsize=(5, 4))"
   ]
  },
  {
   "cell_type": "code",
   "execution_count": null,
   "id": "ad2d0054",
   "metadata": {},
   "outputs": [],
   "source": [
    "exp.model_explain(model=\"ReLUDNN\", show=\"ale\", bi_features=[\"hr\", \"atemp\"]\n",
    "                  original_scale=True, figsize=(5, 4))"
   ]
  }
 ],
 "metadata": {
  "kernelspec": {
   "display_name": "Python 3",
   "language": "python",
   "name": "python3"
  },
  "language_info": {
   "codemirror_mode": {
    "name": "ipython",
    "version": 3
   },
   "file_extension": ".py",
   "mimetype": "text/x-python",
   "name": "python",
   "nbconvert_exporter": "python",
   "pygments_lexer": "ipython3",
   "version": "3.9.12"
  }
 },
 "nbformat": 4,
 "nbformat_minor": 5
}