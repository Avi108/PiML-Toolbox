{
 "cells": [
  {
   "cell_type": "code",
   "execution_count": null,
   "id": "365dc2ce",
   "metadata": {},
   "outputs": [],
   "source": [
    "exp.model_explain(model=\"ReLUDNN\", show=\"ale\", uni_feature=\"hr\",\n",
    "                  original_scale=True, figsize=(5, 4))"
   ]
  },
  {
   "cell_type": "code",
   "execution_count": null,
   "id": "b5948a0e",
   "metadata": {},
   "outputs": [],
   "source": [
    "exp.model_explain(model=\"ReLUDNN\", show=\"ale\", uni_feature=\"atemp\",\n",
    "                  original_scale=True, figsize=(5, 4))"
   ]
  },
  {
   "cell_type": "code",
   "execution_count": null,
   "id": "babddbc9",
   "metadata": {},
   "outputs": [],
   "source": [
    "exp.model_explain(model=\"ReLUDNN\", show=\"ale\", uni_feature=\"weathersit\",\n",
    "                  original_scale=True, figsize=(5, 4))"
   ]
  },
  {
   "cell_type": "code",
   "execution_count": null,
   "id": "d9d04d4e",
   "metadata": {},
   "outputs": [],
   "source": [
    "exp.model_explain(model=\"ReLUDNN\", show=\"ale\", bi_features=[\"hr\", \"atemp\"]\n",
    "                  original_scale=True, figsize=(5, 4))"
   ]
  }
 ],
 "metadata": {
  "kernelspec": {
   "display_name": "Python 3 (ipykernel)",
   "language": "python",
   "name": "python3"
  },
  "language_info": {
   "codemirror_mode": {
    "name": "ipython",
    "version": 3
   },
   "file_extension": ".py",
   "mimetype": "text/x-python",
   "name": "python",
   "nbconvert_exporter": "python",
   "pygments_lexer": "ipython3",
   "version": "3.10.11"
  }
 },
 "nbformat": 4,
 "nbformat_minor": 5
}